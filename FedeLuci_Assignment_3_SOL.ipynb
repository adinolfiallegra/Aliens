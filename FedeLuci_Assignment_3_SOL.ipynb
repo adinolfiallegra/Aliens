{
  "nbformat": 4,
  "nbformat_minor": 0,
  "metadata": {
    "colab": {
      "name": "FedeLuci_Assignment_3_SOL.ipynb",
      "provenance": [],
      "collapsed_sections": [],
      "include_colab_link": true
    },
    "kernelspec": {
      "display_name": "Python 3",
      "name": "python3"
    }
  },
  "cells": [
    {
      "cell_type": "markdown",
      "metadata": {
        "id": "view-in-github",
        "colab_type": "text"
      },
      "source": [
        "<a href=\"https://colab.research.google.com/github/adinolfiallegra/Aliens/blob/master/FedeLuci_Assignment_3_SOL.ipynb\" target=\"_parent\"><img src=\"https://colab.research.google.com/assets/colab-badge.svg\" alt=\"Open In Colab\"/></a>"
      ]
    },
    {
      "cell_type": "markdown",
      "metadata": {
        "id": "ozOZc7bvQeYL"
      },
      "source": [
        "FEDERICO ZANINI 0000926232\n",
        "\n",
        "LUCIA LA FORGIA 0000945383"
      ]
    },
    {
      "cell_type": "markdown",
      "metadata": {
        "id": "a4_wqPdlBcKS"
      },
      "source": [
        "# Assignment 3 : Sequence labelling with RNNs\n",
        "In this assignement we will ask you to perform POS tagging.\n",
        "\n",
        "You are asked to follow these steps:\n",
        "*   Download the corpora and split it in training and test sets, structuring a dataframe.\n",
        "*   Embed the words using GloVe embeddings\n",
        "*   Create a baseline model, using a simple neural architecture\n",
        "*   Experiment doing small modifications to the model\n",
        "*   Evaluate your best model\n",
        "*   Analyze the errors of your model\n",
        "\n",
        "\n",
        "### EXTRA NOTES\n",
        "**Corpora**:\n",
        "Ignore the numeric value in the third column, use only the words/symbols and its label.\n",
        "https://raw.githubusercontent.com/nltk/nltk_data/gh-pages/packages/corpora/dependency_treebank.zip \n",
        "\n",
        "* Splits: documents 1-100 are the train set, 101-150 validation set, 151-199 test set.\n",
        "\n",
        "* Baseline: two layers architecture: a Bidirectional LSTM and a Dense/Fully-Connected layer on top.\n",
        "\n",
        "* Modifications: experiment using a GRU instead of the LSTM, adding an additional LSTM layer, and using a CRF in addition to the LSTM. Each of this change must be done by itself (don't mix these modifications).\n",
        "\n",
        "* Training and Experiments: all the experiments must involve only the training and validation sets.\n",
        "\n",
        "* Evaluation: in the end, only the best model of your choice must be evaluated on the test set. The main metric must be F1-Macro computed between the various part of speech (without considering punctuation classes).\n",
        "\n",
        "* Error Analysis (optional) : analyze the errors done by your model, try to understand which may be the causes and think about how to improve it.\n",
        "\n",
        "* Report: You are asked to deliver a small report of about 4-5 lines in the .txt file that sums up your findings.\n",
        "\n",
        "### UPDATE: some notes as usual, from your questions\n",
        "\n",
        "* The task is to predict, for each word, its POS tag. The tags are the target, not a feature\n",
        "* The input to the model MUST be only GloVe embeddings\n",
        "* You can use a non-trainable Embedding layer to load the glove embeddings\n",
        "* You can use any library of your choice to implement the networks. Two options are tensorflow/keras or pythorch. Both these libraries have all the classes you need to implement these simple architectures and there are plenty of tutorials around, where you can learn how to use them.\n",
        "* The choice of split the documents into sentences or not is yours, there are pros and cons, but the documents in the test set must NOT be split\n",
        "* For the dataframe, you can create in 2 ways: 1) each row is a token, so you have to recreate the sequence before feeding to the network 2) each row is a document/sentence\n",
        "* The structure of the input data will have three dimensions: 1-documents/sentences, 2-token, 3-features\n",
        "* The structure of the output data will have two or three dimensions: if you use one-hot encoding it will be 1-documents/sentences, 2-token labels, 3-classes; if you use a single integer that indicates the number of the class will be 1-documents/sentences, 2-token labels\n",
        "* The metric you must use to evaluate your final model is the F1-macro, without considering punctuation/symbols classes. During the training process, you can't use the F1 metric unless you use a single (gigantic) batch: there is no way to aggregate \"partial\" F1 scores computed on mini-batches. So, during the training process, it is common practice to use accuracy. It is actually possible to define the computation of F1 scores by hand but it can be tricky, it will not be optimized, and most of the time it won't make a difference, so don't.\n"
      ]
    },
    {
      "cell_type": "markdown",
      "metadata": {
        "id": "ryTREhmGuo0q"
      },
      "source": [
        "# DOWLOADING THE CORPORA AND SPLIT IT IN TRAINING, VALIDATION AND TEST SETS, STRUCTURING A DATAFRAME\n",
        "\n",
        "**Corpora:** Ignore the numeric value in the third column, use only the words/symbols and its label.\n",
        "https://raw.githubusercontent.com/nltk/nltk_data/gh-pages/packages/corpora/dependency_treebank.zip\n",
        "\n",
        "**Splits:** documents 1-100 are the train set, 101-150 validation set, 151-199 test set.\n",
        "\n",
        "* For the dataframe, you can create in 2 ways: 1) each row is a token, so you have to recreate the sequence before feeding to the network 2) each row is a document/sentence\n",
        "* The choice of split the documents into sentences or not is yours, there are pros and cons, but the documents in the test set must NOT be split\n"
      ]
    },
    {
      "cell_type": "code",
      "metadata": {
        "colab": {
          "base_uri": "https://localhost:8080/"
        },
        "id": "LaSwE8MoKdq3",
        "outputId": "b37aaa91-0c3b-4761-e92e-321fbff343a6"
      },
      "source": [
        "# system packages\n",
        "import os\n",
        "import shutil\n",
        "import sys\n",
        "\n",
        "# data and numerical management packages\n",
        "import pandas as pd\n",
        "import numpy as np\n",
        "\n",
        "# useful during debugging (progress bars)\n",
        "from tqdm import tqdm\n",
        "\n",
        "\n",
        "from urllib import request\n",
        "import tarfile\n",
        "\n",
        "# Config\n",
        "print(\"Current work directory: {}\".format(os.getcwd()))\n",
        "\n",
        "dataset_folder = os.path.join(os.getcwd(), \"Datasets\")\n",
        "\n",
        "if not os.path.exists(dataset_folder):\n",
        "    os.makedirs(dataset_folder)\n",
        "\n",
        "###### INSERT THE DATASET DOWNLOAD URL ######\n",
        "url = \"https://raw.githubusercontent.com/nltk/nltk_data/gh-pages/packages/corpora/dependency_treebank.zip\"\n",
        "###### INSERT THE ARCHIVE NAME OF THE DATASET #######\n",
        "archive_name = \"Dependency\"\n",
        "\n",
        "\n",
        "#dataset_path_tar = os.path.join(dataset_folder, archive_name+\".tar.gz\")\n",
        "#print(dataset_path_tar)\n",
        "dataset_path_zip = os.path.join(dataset_folder, archive_name+\".zip\")\n",
        "print(dataset_path_zip)\n",
        "\n",
        "\n",
        "def download_dataset(download_path, url):\n",
        "    if not os.path.exists(download_path):\n",
        "        print(\"Downloading dataset...\")\n",
        "        request.urlretrieve(url, download_path)\n",
        "        print(\"Download complete!\")\n",
        "\n",
        "def extract_dataset_tar(download_path, extract_path):\n",
        "    print(\"Extracting dataset... (it may take a while...)\")\n",
        "    with tarfile.open(download_path) as loaded_tar:\n",
        "        loaded_tar.extractall(extract_path)\n",
        "    print(\"Extraction completed!\")\n",
        "\n",
        "import zipfile\n",
        "def extract_dataset_zip(download_path, extract_path):\n",
        "    print(\"Extracting dataset... (it may take a while...)\")\n",
        "    with zipfile.ZipFile(download_path, 'r') as zip_ref:\n",
        "        zip_ref.extractall(extract_path)\n",
        "    print(\"Extraction completed!\")\n",
        "\n",
        "\n",
        "# Download\n",
        "#download_dataset(dataset_path_tar, url)\n",
        "download_dataset(dataset_path_zip, url)\n",
        "\n",
        "\n",
        "# Extraction\n",
        "#extract_dataset_tar(dataset_path_tar, dataset_folder)\n",
        "extract_dataset_zip(dataset_path_zip, dataset_folder)\n",
        "\n"
      ],
      "execution_count": null,
      "outputs": [
        {
          "output_type": "stream",
          "text": [
            "Current work directory: /content\n",
            "/content/Datasets/Dependency.zip\n",
            "Downloading dataset...\n",
            "Download complete!\n",
            "Extracting dataset... (it may take a while...)\n",
            "Extraction completed!\n"
          ],
          "name": "stdout"
        }
      ]
    },
    {
      "cell_type": "markdown",
      "metadata": {
        "id": "roTFh0wFf0xc"
      },
      "source": [
        "### Building the dataframe\n",
        "\n",
        "As requested, we are not going to consider the score field in the file in order to build the dataframes.\n",
        "\n",
        "The split field is evaluated from the file name as requested in the assignment and identifies the three categories: train, validation set and test.\n",
        "\n",
        "We want to build two dataframes: \n",
        "* **words dataframe** will have columns [\"word\", \"tag\", \"split\"] and will contain every word of the dataset, its respective tag and the split in which we find that word. **We decided to build this dataframe because we found it very useful for the first part of the assignment: building dictionaries and handling oov terms.**\n",
        "* **sentences dataframe** will have columns [\"word\", \"tag\", \"split\", \"file_id\"] and will **contain every sentence of the dataset**, its respective tags and the split in which we find that sentance, plus the file_id which will be meaningful to build the unique document row we need to build for the test dataframe as requested.\n",
        "\n",
        "We do not consider the empty lines in the files\n"
      ]
    },
    {
      "cell_type": "code",
      "metadata": {
        "id": "MNOc5r8JfdiB"
      },
      "source": [
        "dataset_name = 'dependency_treebank'\n",
        "import re\n",
        "\n",
        "def encode_dataset(dataset_name):\n",
        "  folder = os.path.join(os.getcwd(), \"Datasets/\", dataset_name)\n",
        "\n",
        "  dfwords_rows = [] # rows for dataframe with a row per word\n",
        "  dfsentences_rows = [] # rows for dataframe with a row per sentence\n",
        "\n",
        "  sentence = [] # supporting structure\n",
        "  tags = [] # supporting structure\n",
        "                  \n",
        "  for filename in os.listdir(folder):\n",
        "    file_path = os.path.join(folder, filename)\n",
        "    try:\n",
        "      if os.path.isfile(file_path):\n",
        "        with open(file_path, 'r') as text_file: #, mode='r', encoding='utf-8'\n",
        "          text = text_file.read()\n",
        "          file_id = filename.split('_')[1].split('.')[0]\n",
        "          \n",
        "          # file_id to split the files in train, test and validation\n",
        "          if int(file_id) in range(1, 101):\n",
        "            split = 'train'\n",
        "          elif int(file_id) in range(101, 151):\n",
        "            split = 'validation'\n",
        "          else:\n",
        "            split = 'test'\n",
        "\n",
        "          for current in text.split('\\n'):\n",
        "            if len(current.split('\\t')) == 3:\n",
        "              current.strip()\n",
        "              \n",
        "              word = current.split('\\t')[0]\n",
        "              tag = current.split('\\t')[1]\n",
        "\n",
        "              sentence.append(word)\n",
        "              tags.append(tag)\n",
        "              \n",
        "              # ROW FOR DATAFRAMEWORD\n",
        "              dfwords_row = {\n",
        "                  \"word\": word,\n",
        "                  \"tag\": tag,\n",
        "                  \"split\": split\n",
        "              }\n",
        "              dfwords_rows.append(dfwords_row)\n",
        "\n",
        "            else:\n",
        "              # FOR FOR DATAFRAMESENTENCE\n",
        "              dfsentences_row = {\n",
        "                  \"sentence\": sentence,\n",
        "                  \"tags\": tags,\n",
        "                  \"split\": split,\n",
        "                  \"file_id\": file_id\n",
        "              }\n",
        "              dfsentences_rows.append(dfsentences_row)\n",
        "              # re-initialiting for next row storage\n",
        "              sentence = []\n",
        "              tags = []\n",
        "\n",
        "    except Exception as e:\n",
        "      print('Failed to process %s. Reason: %s' % (file_path, e))\n",
        "      sys.exit(0)\n",
        "\n",
        "  # transform the list of rows in a proper dataframe\n",
        "  dfwords = pd.DataFrame(dfwords_rows)\n",
        "  dfwords = dfwords[[\"word\", \"tag\", \"split\"]]\n",
        "\n",
        "  dataframe_path = os.path.join(folder, dataset_name + \"WORDS.pkl\")\n",
        "  dfwords.to_pickle(dataframe_path)\n",
        "\n",
        "  # transform the list of rows in a proper dataframe\n",
        "  dfsentences = pd.DataFrame(dfsentences_rows)\n",
        "  dfsentences = dfsentences[[\"sentence\", \"tags\", \"split\", \"file_id\"]]\n",
        "\n",
        "  dataframe_path = os.path.join(folder, dataset_name + \"SENTENCES.pkl\")\n",
        "  dfsentences.to_pickle(dataframe_path)\n",
        "\n",
        "\n",
        "  return dfsentences, dfwords\n",
        "\n",
        "df_s, df_w = encode_dataset(dataset_name)"
      ],
      "execution_count": null,
      "outputs": []
    },
    {
      "cell_type": "markdown",
      "metadata": {
        "id": "Qlg_VH171hEf"
      },
      "source": [
        "EXPLORING THE COMPLETE DATA DATAFRAME"
      ]
    },
    {
      "cell_type": "code",
      "metadata": {
        "id": "e-uz8zrKj4C8",
        "colab": {
          "base_uri": "https://localhost:8080/"
        },
        "outputId": "d93428a6-923a-4ac6-ec77-a5ae812e88cc"
      },
      "source": [
        "# EMPLORING DF_S\n",
        "\n",
        "import numpy as np\n",
        "\n",
        "print(df_s.head(20))\n",
        "print()\n",
        "print()\n",
        "\n",
        "sh_idx = np.argmin([len(s) for s in df_s['sentence']])\n",
        "sh_sentence = df_s['sentence'].iloc[sh_idx]\n",
        "print(\"Shortest sentence is at index\", sh_idx)\n",
        "print(\"It is long\", len(sh_sentence), \"element:\", df_s['sentence'].iloc[sh_idx], \"-\", df_s['tags'].iloc[sh_idx])\n",
        "print()\n",
        "\n",
        "lo_idx = np.argmax([len(s) for s in df_s['sentence']])\n",
        "lo_sentence = df_s['sentence'].iloc[lo_idx]\n",
        "print(\"Longest sentence is at index\", lo_idx)\n",
        "print(\"It is long\", len(lo_sentence), \"elements:\\nsentence:\", df_s['sentence'].iloc[lo_idx], \"\\ntags:\", df_s['tags'].iloc[lo_idx])"
      ],
      "execution_count": null,
      "outputs": [
        {
          "output_type": "stream",
          "text": [
            "                                             sentence  ... file_id\n",
            "0   [New, England, Electric, System, bowed, out, o...  ...    0013\n",
            "1   [The, move, leaves, United, Illuminating, Co.,...  ...    0013\n",
            "2   [New, England, Electric, ,, based, in, Westbor...  ...    0013\n",
            "3   [United, Illuminating, is, based, in, New, Hav...  ...    0013\n",
            "4   [PS, of, New, Hampshire, ,, Manchester, ,, N.H...  ...    0013\n",
            "5   [John, Rowe, ,, president, and, chief, executi...  ...    0013\n",
            "6   [``, When, we, evaluated, raising, our, bid, ,...  ...    0013\n",
            "7    [That, got, hard, to, take, ,, '', he, added, .]  ...    0013\n",
            "8   [Mr., Rowe, also, noted, that, political, conc...  ...    0013\n",
            "9   [No, matter, who, owns, PS, of, New, Hampshire...  ...    0013\n",
            "10               [``, That, attracts, attention, ...]  ...    0013\n",
            "11  [it, was, just, another, one, of, the, risk, f...  ...    0013\n",
            "12  [Wilbur, Ross, Jr., of, Rothschild, Inc., ,, t...  ...    0013\n",
            "13  [The, fact, that, New, England, proposed, lowe...  ...    0013\n",
            "14  [``, Now, the, field, is, less, cluttered, ,, ...  ...    0013\n",
            "15  [Separately, ,, the, Federal, Energy, Regulato...  ...    0013\n",
            "16  [Northeast, said, it, would, refile, its, requ...  ...    0013\n",
            "17  [PS, of, New, Hampshire, shares, closed, yeste...  ...    0013\n",
            "18  [The, National, Association, of, Securities, D...  ...    0096\n",
            "19  [Two, firms, were, expelled, from, the, NASD, ...  ...    0096\n",
            "\n",
            "[20 rows x 4 columns]\n",
            "\n",
            "\n",
            "Shortest sentence is at index 407\n",
            "It is long 1 element: ['@'] - ['IN']\n",
            "\n",
            "Longest sentence is at index 64\n",
            "It is long 249 elements:\n",
            "sentence: ['The', 'following', 'were', 'barred', 'or', ',', 'where', 'noted', ',', 'suspended', 'and', 'consented', 'to', 'findings', 'without', 'admitting', 'or', 'denying', 'wrongdoing', ':', 'Edward', 'L.', 'Cole', ',', 'Jackson', ',', 'Miss.', ',', '$', '10,000', 'fine', ';', 'Rita', 'Rae', 'Cross', ',', 'Denver', ',', '$', '2,500', 'fine', 'and', '30-day', 'suspension', ';', 'Thomas', 'Richard', 'Meinders', ',', 'Colorado', 'Springs', ',', 'Colo.', ',', '$', '2,000', 'fine', ',', 'five-day', 'suspension', 'and', 'eight-month', 'suspension', 'as', 'a', 'principal', ';', 'Ronald', 'A.', 'Cutrer', ',', 'Baton', 'Rouge', ',', 'La.', ',', '$', '15,000', 'fine', 'and', 'one-month', 'suspension', ';', 'Karl', 'Grant', 'Hale', ',', 'Midvale', ',', 'Utah', ',', '$', '15,000', 'fine', ';', 'Clinton', 'P.', 'Hayne', ',', 'New', 'Orleans', ',', '$', '7,500', 'fine', 'and', 'one-week', 'suspension', ';', 'Richard', 'M.', 'Kane', ',', 'Coconut', 'Creek', ',', 'Fla.', ',', '$', '250,000', 'fine', ';', 'John', 'B.', 'Merrick', ',', 'Aurora', ',', 'Colo.', ',', '$', '1,000', 'fine', 'and', '10-day', 'suspension', ';', 'John', 'P.', 'Miller', ',', 'Baton', 'Rouge', ',', '$', '2,000', 'fine', 'and', 'two-week', 'suspension', ';', 'Randolph', 'K.', 'Pace', ',', 'New', 'York', ',', '$', '10,000', 'fine', 'and', '90-day', 'suspension', ';', 'Brian', 'D.', 'Pitcher', ',', 'New', 'Providence', ',', 'N.J.', ',', '$', '30,000', 'fine', ';', 'Wayne', 'A.', 'Russo', ',', 'Bridgeville', ',', 'Pa.', ',', '$', '4,000', 'fine', 'and', '15-day', 'suspension', ';', 'Orville', 'Leroy', 'Sandberg', ',', 'Aurora', ',', 'Colo.', ',', '$', '3,500', 'fine', 'and', '10-day', 'suspension', ';', 'Richard', 'T.', 'Marchese', ',', 'Las', 'Vegas', ',', 'Nev.', ',', '$', '5,000', 'and', 'one-year', 'suspension', ';', 'Eric', 'G.', 'Monchecourt', ',', 'Las', 'Vegas', ',', '$', '5,000', 'and', 'one-year', 'suspension', ';', 'and', 'Robert', 'Gerhard', 'Smith', ',', 'Carson', 'City', ',', 'Nev.', ',', 'two-year', 'suspension', '.'] \n",
            "tags: ['DT', 'NN', 'VBD', 'VBN', 'CC', ',', 'WRB', 'VBN', ',', 'VBN', 'CC', 'VBD', 'TO', 'NNS', 'IN', 'VBG', 'CC', 'VBG', 'NN', ':', 'NNP', 'NNP', 'NNP', ',', 'NNP', ',', 'NNP', ',', '$', 'CD', 'NN', ':', 'NNP', 'NNP', 'NNP', ',', 'NNP', ',', '$', 'CD', 'NN', 'CC', 'JJ', 'NN', ':', 'NNP', 'NNP', 'NNP', ',', 'NNP', 'NNP', ',', 'NNP', ',', '$', 'CD', 'NN', ',', 'JJ', 'NN', 'CC', 'JJ', 'NN', 'IN', 'DT', 'NN', ':', 'NNP', 'NNP', 'NNP', ',', 'NNP', 'NNP', ',', 'NNP', ',', '$', 'CD', 'NN', 'CC', 'JJ', 'NN', ':', 'NNP', 'NNP', 'NNP', ',', 'NNP', ',', 'NNP', ',', '$', 'CD', 'NN', ':', 'NNP', 'NNP', 'NNP', ',', 'NNP', 'NNP', ',', '$', 'CD', 'NN', 'CC', 'JJ', 'NN', ':', 'NNP', 'NNP', 'NNP', ',', 'NNP', 'NNP', ',', 'NNP', ',', '$', 'CD', 'NN', ':', 'NNP', 'NNP', 'NNP', ',', 'NNP', ',', 'NNP', ',', '$', 'CD', 'NN', 'CC', 'JJ', 'NN', ':', 'NNP', 'NNP', 'NNP', ',', 'NNP', 'NNP', ',', '$', 'CD', 'NN', 'CC', 'JJ', 'NN', ':', 'NNP', 'NNP', 'NNP', ',', 'NNP', 'NNP', ',', '$', 'CD', 'NN', 'CC', 'JJ', 'NN', ':', 'NNP', 'NNP', 'NNP', ',', 'NNP', 'NNP', ',', 'NNP', ',', '$', 'CD', 'NN', ':', 'NNP', 'NNP', 'NNP', ',', 'NNP', ',', 'NNP', ',', '$', 'CD', 'NN', 'CC', 'JJ', 'NN', ':', 'NNP', 'NNP', 'NNP', ',', 'NNP', ',', 'NNP', ',', '$', 'CD', 'NN', 'CC', 'JJ', 'NN', ':', 'NNP', 'NNP', 'NNP', ',', 'NNP', 'NNP', ',', 'NNP', ',', '$', 'CD', 'CC', 'JJ', 'NN', ':', 'NNP', 'NNP', 'NNP', ',', 'NNP', 'NNP', ',', '$', 'CD', 'CC', 'JJ', 'NN', ':', 'CC', 'NNP', 'NNP', 'NNP', ',', 'NNP', 'NNP', ',', 'NNP', ',', 'JJ', 'NN', '.']\n"
          ],
          "name": "stdout"
        }
      ]
    },
    {
      "cell_type": "markdown",
      "metadata": {
        "id": "uuRHSkHpuZi9"
      },
      "source": [
        "ABOUT THE df_w, THE DATAFRAME OF ALL THE WORDS, WE WANT TO DROP DUPLICATES BECAUSE IT WILL BE USED EXCLUSIVELY FOR BUILDING UP THE DICTIONARIES, THEREFORE WE DO NOT NEED REPETEATED TERMS :"
      ]
    },
    {
      "cell_type": "code",
      "metadata": {
        "id": "ADD7uEdMt_QA",
        "colab": {
          "base_uri": "https://localhost:8080/"
        },
        "outputId": "15e1ffca-e3fc-452e-b11d-39d0115bf2be"
      },
      "source": [
        "print(\"df_w.shape before dropping duplicates:\", df_w.shape)\n",
        "prev = df_w.shape[0]\n",
        "df_w = df_w.drop_duplicates()\n",
        "print(\"df_w.shape after dropping duplicates:\", df_w.shape)\n",
        "print(\"Number of duplicates dropped:\", prev-df_w.shape[0])"
      ],
      "execution_count": null,
      "outputs": [
        {
          "output_type": "stream",
          "text": [
            "df_w.shape before dropping duplicates: (94084, 3)\n",
            "df_w.shape after dropping duplicates: (19108, 3)\n",
            "Number of duplicates dropped: 74976\n"
          ],
          "name": "stdout"
        }
      ]
    },
    {
      "cell_type": "markdown",
      "metadata": {
        "id": "Kew2sewOw5wO"
      },
      "source": [
        "In the next cell we organise the data differently, as suggested by the assignment.\n",
        "\n",
        "We will end up with:\n",
        "* train dataframe, (dic {idx: [sentence, tags]}): it has a row for every sentence (consider \\n as separator of sentences) + respective tags.\n",
        "* validation dataframe, (dic {idx: [sentence, tags]}): it has a row for every sentence (consider \\n as separator of sentences) + respective tags.\n",
        "* test dataframe, (dic {idx: [text, tags]}): it has a row for every document text + respective tags\n"
      ]
    },
    {
      "cell_type": "code",
      "metadata": {
        "id": "FU4k_rCof7SL",
        "colab": {
          "base_uri": "https://localhost:8080/"
        },
        "outputId": "949d1d4b-37ec-48c0-e3a7-648265a8307a"
      },
      "source": [
        "# CREATING DATAFRAME TRAIN \n",
        "df_train = df_s.loc[df_s['split'] == 'train', ['sentence', 'tags']]\n",
        "\n",
        "# CREATING DATAFRAME VALIDATION\n",
        "df_val = df_s.loc[df_s['split'] == 'validation', ['sentence', 'tags']]\n",
        "\n",
        "# CREATING DATAFRAME TEST\n",
        "df_test = df_s.loc[df_s['split'] == 'test', ['sentence', 'tags', 'file_id']]\n",
        "df_test_rows = []\n",
        "for id in df_test['file_id'].unique():\n",
        "  text = []\n",
        "  tags = []\n",
        "  for row in df_test.loc[df_test['file_id'] == id].iterrows():\n",
        "    text += row[1][0]\n",
        "    tags += row[1][1]\n",
        "  \n",
        "  df_test_row = {\n",
        "      \"text\": text,\n",
        "      \"tags\": tags\n",
        "  }\n",
        "  df_test_rows.append(df_test_row)\n",
        "\n",
        "# transform the list of rows in a proper dataframe\n",
        "df_test = pd.DataFrame(df_test_rows)\n",
        "df_test = df_test[[\"text\", \"tags\"]]\n",
        "\n",
        "\n",
        "\n",
        "print(\"df_train: {}\\n{}\".format(df_train.shape,df_train.head()))\n",
        "print(\"\\n\\ndf_val: {}\\n{}\".format(df_val.shape,df_val.head()))\n",
        "\n",
        "print(\"\\n\\ndf_test: {}\\n{}\".format(df_test.shape,df_test.head()))"
      ],
      "execution_count": null,
      "outputs": [
        {
          "output_type": "stream",
          "text": [
            "df_train: (1963, 2)\n",
            "                                            sentence                                               tags\n",
            "0  [New, England, Electric, System, bowed, out, o...  [NNP, NNP, NNP, NNP, VBD, IN, IN, DT, NN, IN, ...\n",
            "1  [The, move, leaves, United, Illuminating, Co.,...  [DT, NN, VBZ, NNP, NNP, NNP, CC, NNP, NNP, IN,...\n",
            "2  [New, England, Electric, ,, based, in, Westbor...  [NNP, NNP, NNP, ,, VBN, IN, NNP, ,, NNP, ,, VB...\n",
            "3  [United, Illuminating, is, based, in, New, Hav...  [NNP, NNP, VBZ, VBN, IN, NNP, NNP, ,, NNP, ,, ...\n",
            "4  [PS, of, New, Hampshire, ,, Manchester, ,, N.H...  [NNP, IN, NNP, NNP, ,, NNP, ,, NNP, ,, VBZ, PR...\n",
            "\n",
            "\n",
            "df_val: (1299, 2)\n",
            "                                             sentence                                               tags\n",
            "68  [R., Gordon, McGovern, was, forced, out, as, C...  [NNP, NNP, NNP, VBD, VBN, IN, IN, NNP, NNP, NN...\n",
            "69  [Herbert, M., Baum, ,, the, 53-year-old, presi...  [NNP, NNP, NNP, ,, DT, JJ, NN, IN, DT, NN, POS...\n",
            "70  [The, board, already, has, been, searching, fo...  [DT, NN, RB, VBZ, VBN, VBG, IN, JJ, JJ, NNS, ,...\n",
            "71  [Wall, Street, reacted, favorably, to, Mr., Mc...  [NNP, NNP, VBD, RB, TO, NNP, NNP, POS, NN, CC,...\n",
            "72  [In, heavy, trading, on, the, New, York, Stock...  [IN, JJ, NN, IN, DT, NNP, NNP, NNP, NNP, ,, NN...\n",
            "\n",
            "\n",
            "df_test: (49, 2)\n",
            "                                                text                                               tags\n",
            "0  [GenCorp, Inc., ,, hurt, by, a, plant, acciden...  [NNP, NNP, ,, VBN, IN, DT, NN, NN, CC, JJ, JJ,...\n",
            "1  [Junk-bond, markdowns, ,, an, ongoing, Securit...  [NN, NNS, ,, DT, JJ, NNPS, CC, NNP, NNP, NN, ,...\n",
            "2  [Intelogic, Trace, Inc., ,, San, Antonio, ,, T...  [NNP, NNP, NNP, ,, NNP, NNP, ,, NNP, ,, VBD, P...\n",
            "3  [USX, Corp., posted, a, 23, %, drop, in, third...  [NNP, NNP, VBD, DT, CD, NN, NN, IN, NN, NN, ,,...\n",
            "4  [World, sugar, futures, prices, soared, on, ru...  [NN, NN, NNS, NNS, VBD, IN, NNS, IN, NNP, ,, D...\n"
          ],
          "name": "stdout"
        }
      ]
    },
    {
      "cell_type": "markdown",
      "metadata": {
        "id": "EslJEHTFGBdY"
      },
      "source": [
        "SHOWING OF POSSIBLE TAGS AND CREATING TAG VOCABULARY TO GENERATE ONE-HOT-ENCODING LABELS"
      ]
    },
    {
      "cell_type": "code",
      "metadata": {
        "id": "lGhqPc9VZNfJ",
        "colab": {
          "base_uri": "https://localhost:8080/"
        },
        "outputId": "efc01108-6171-40db-e846-ad7b8c95c20b"
      },
      "source": [
        "from collections import OrderedDict\n",
        "\n",
        "# exploring\n",
        "print(\"number of tags:\", df_w['tag'].shape)\n",
        "print(\"number of unique tags:\", df_w['tag'].unique().shape)\n",
        "print(df_w['tag'].unique())\n",
        "print()\n",
        "print()\n",
        "\n",
        "# creating the one-hot-encoding labels\n",
        "idx_to_tag = OrderedDict()\n",
        "count = 1 \n",
        "idx_to_tag[0] = 'PAD' #PADDING'S LABEL\n",
        "for t in df_w['tag'].unique():\n",
        "    if t not in idx_to_tag.values():\n",
        "        idx_to_tag[count] = t\n",
        "        count += 1\n",
        "\n",
        "tag_to_idx = OrderedDict({value: key for key, value in idx_to_tag.items()})\n",
        "\n",
        "\n",
        "# some quick checking\n",
        "#for i in range(10):\n",
        "#  print(\"idx_to_tag elements:\")\n",
        "#  print(i, \":\", idx_to_tag[i])\n",
        "#  print(\"\\ntag_to_idx elements:\")\n",
        "#  print(idx_to_tag[i], \":\", tag_to_idx[idx_to_tag[i]])\n",
        "#  print(\"\\n--------------\\n\")"
      ],
      "execution_count": null,
      "outputs": [
        {
          "output_type": "stream",
          "text": [
            "number of tags: (19108,)\n",
            "number of unique tags: (45,)\n",
            "['NNP' 'VBD' 'IN' 'DT' 'NN' ',' 'VBG' 'NNS' 'RB' 'JJ' 'CC' 'TO' 'VB' 'JJR'\n",
            " '.' 'VBZ' 'WDT' 'VBN' 'CD' 'PRP' 'MD' '$' 'PRP$' 'POS' ':' '``' 'WRB'\n",
            " \"''\" 'WP' 'JJS' 'RP' 'RBR' 'NNPS' 'VBP' 'EX' 'PDT' '-LRB-' '-RRB-' 'WP$'\n",
            " 'RBS' 'LS' 'FW' 'UH' '#' 'SYM']\n",
            "\n",
            "\n"
          ],
          "name": "stdout"
        }
      ]
    },
    {
      "cell_type": "markdown",
      "metadata": {
        "id": "AsR5VeER3vaW"
      },
      "source": [
        "# EMBED THE WORDS USING GloVe EMBEDDINGS\n",
        "\n",
        "* The task is to predict, for each word, its POS tag. The tags are the target, not a feature\n",
        "* The input to the model MUST be only GloVe embeddings\n",
        "* You can use a non-trainable Embedding layer to load the glove embeddings\n",
        "* You can use any library of your choice to implement the networks. Two options are tensorflow/keras or pythorch. Both these libraries have all the classes you need to implement these simple architectures and there are plenty of tutorials around, where you can learn how to use them.\n",
        "* For OOV, you can handle them as you want (random embedding, placeholder, techniques employed in assignment 2, whatever).\n",
        "* They must be STATIC embeddings (you cannot train them).\n",
        "* The important part is that you don't mix training+validation splits with test split. So, when you compute embeddings for train+validation, you must forget about test documents. Likewise, when you do it for test documents, you can't consider train and validation. Ideally, the best thing would be to consider separately all three splits."
      ]
    },
    {
      "cell_type": "markdown",
      "metadata": {
        "id": "KqPsm1nvr2Kb"
      },
      "source": [
        "**About Out Of Vocabulary terms**\n",
        "\n",
        "* For OOV, you can handle them as you want (random embedding, placeholder, techniques employed in assignment 2, whatever)\n",
        "* They must be STATIC embeddings (you cannot train them)\n",
        "* The important part is that you don't mix training+validation splits with test split. So, when you compute embeddings for train+validation, you must forget about test documents. Likewise, when you do it for test documents, you can't consider train and validation. Ideally, the best thing would be to consider separately all three splits. The motivation is to emulate a real-world scenario, where you select and train a model in the first stage, without knowing nothing about the testing environment. And in the second stage, you approach the testing environment with an already-trained model, without having access to the data involved in the training.\n",
        "* For OOV: you CAN use a single vocabulary file/matrix/whatever for implementation convenience. The principle of the previous point is that the embeddings inside that file/matrix must be generated independently for train and test splits.\n",
        "* Basically in a real-world scenario, this is what would happen:\n",
        "* Starting vocabulary V1 (in this assignment, GloVe vocabulary)\n",
        "* Compute embeddings for terms out of vocabulary V1 (OOV1) of the training split \n",
        "* Add embeddings to the vocabulary, so to obtain vocabulary V2\n",
        "* Training of the model(s)\n",
        "* Compute embeddings for terms OOV2 of the validation split \n",
        "* Add embeddings to the vocabulary, so to obtain vocabulary V3\n",
        "* Validation of the model(s)\n",
        "* Compute embeddings for terms OOV3 of the test split \n",
        "* Add embeddings to the vocabulary, so to obtain vocabulary V4\n",
        "* Testing of the final model\n",
        "\n",
        "\n",
        "So for sake of simplicity of implementation, you can compute the final vocabulary as the first thing, so you have:\n",
        "\n",
        "* Starting vocabulary V1 (in this assignment, GloVe vocabulary)\n",
        "* Compute embeddings for terms out of vocabulary V1 (OOV1) of the training split \n",
        "* Add embeddings to the vocabulary, so to obtain vocabulary V2\n",
        "* Compute embeddings for terms OOV2 of the validation split \n",
        "* Add embeddings to the vocabulary, so to obtain vocabulary V3\n",
        "* Compute embeddings for terms OOV3 of the test split \n",
        "* Add embeddings to the vocabulary, so to obtain vocabulary V4\n",
        "* Training of the model(s)\n",
        "* Validation of the model(s)\n",
        "* Testing of the final model\n",
        "* Step 2 and step 6 must be completely independent of each other, for what concerns the method and the documents. But they can rely on the previous vocabulary (V1 for step 2 and V3 for step 6)\n",
        "* THEREFORE if a word is present both in the training set and the test split and not in the starting vocabulary, its embedding is computed in step 2) and it is not considered OOV anymore in step 6)."
      ]
    },
    {
      "cell_type": "code",
      "metadata": {
        "id": "TNXoifTjAQOx",
        "colab": {
          "base_uri": "https://localhost:8080/"
        },
        "outputId": "d867feed-79a3-4b7f-a607-f1c9dbc1e9b9"
      },
      "source": [
        "import gensim\n",
        "import gensim.downloader as gloader\n",
        "\n",
        "emb_dimension = 100\n",
        "download_path = \"\"\n",
        "download_path = \"glove-wiki-gigaword-{}\".format(emb_dimension)\n",
        "try:\n",
        "    emb_model = gloader.load(download_path)\n",
        "except ValueError as e:\n",
        "    print(\"Invalid embedding model name! Check the embedding dimension:\")\n",
        "    print(\"Glove: 50, 100, 200, 300\")\n",
        "    raise e"
      ],
      "execution_count": null,
      "outputs": [
        {
          "output_type": "stream",
          "text": [
            "[=================================================-] 98.7% 126.5/128.1MB downloaded\n"
          ],
          "name": "stdout"
        }
      ]
    },
    {
      "cell_type": "code",
      "metadata": {
        "id": "W6-20fC7YV47",
        "colab": {
          "base_uri": "https://localhost:8080/"
        },
        "outputId": "3f09d1e7-446c-4d9e-b66b-bc116eeac980"
      },
      "source": [
        "def check_OOV_terms(emb_model, word_listing):\n",
        "    oov_list = []\n",
        "    for w in word_listing:\n",
        "      if w not in emb_model.vocab.keys():\n",
        "        oov_list.append(w)\n",
        "    return oov_list\n",
        "\n",
        "oov_train = check_OOV_terms(emb_model, df_w.loc[df_w['split'] == 'train', 'word'].unique())\n",
        "oov_val = check_OOV_terms(emb_model, df_w.loc[df_w['split'] == 'validation', 'word'].unique())\n",
        "oov_test = check_OOV_terms(emb_model, df_w.loc[df_w['split'] == 'test', 'word'].unique())\n",
        "\n",
        "print(\"THERE ARE {} OOV TERMS IN THE TRAIN SET: {:.2f}%\".format(len(oov_train), len(oov_train)/len(df_w.loc[df_w['split'] == 'train', 'word'].unique())))\n",
        "print(\"THERE ARE {} OOV TERMS IN THE VALIDATION SET: {:.2f}%\".format(len(oov_val), len(oov_val)/len(df_w.loc[df_w['split'] == 'validation', 'word'].unique())))\n",
        "print(\"THERE ARE {} OOV TERMS IN THE TEST SET: {:.2f}%\".format(len(oov_test), len(oov_test)/len(df_w.loc[df_w['split'] == 'test', 'word'].unique())))"
      ],
      "execution_count": null,
      "outputs": [
        {
          "output_type": "stream",
          "text": [
            "THERE ARE 2346 OOV TERMS IN THE TRAIN SET: 0.29%\n",
            "THERE ARE 1524 OOV TERMS IN THE VALIDATION SET: 0.26%\n",
            "THERE ARE 957 OOV TERMS IN THE TEST SET: 0.26%\n"
          ],
          "name": "stdout"
        }
      ]
    },
    {
      "cell_type": "code",
      "metadata": {
        "id": "D0idVS0iVvAY"
      },
      "source": [
        ""
      ],
      "execution_count": null,
      "outputs": []
    },
    {
      "cell_type": "markdown",
      "metadata": {
        "id": "PGvh6FcjYGzz"
      },
      "source": [
        "WE NOW KNOW THAT THERE ARE SOME NOT GLoVe-EMBEDDED WORDS => <b> oov terms</b>.\n",
        "\n",
        "> Blocco con rientro\n",
        "\n",
        "> Blocco con rientro\n",
        "\n",
        "> Blocco con rientro\n",
        "\n",
        "> Blocco con rientro\n",
        "\n",
        "\n",
        "\n",
        "\n",
        "\n",
        "\n",
        "\n",
        "\n",
        "WE DECIDED TO ATTEMPT A KEENER STRATEGY COMPARED TO ASSIGNMENT2 ONES.\n",
        "\n",
        "WE START BY EXPLORING EMBEDDINGS, SCANNING DEPENDING ON THE TAGS.\n",
        "FOR OOV TERMS, WE WANT TO USE A RANDOM EMBEDDING AMONG THE ONES OF THE SAME TAG. THIS IS BECAUSE WE BELIEVE THAT IT COULD BE MORE MEANINGFUL RATHER THAN A COMPLETELY RANDOM ONE IN PARTICULAR IN THIS ASSIGNMENT, SINCE IT AIMS AT PROPERLY TAGGING WORDS FROM EMBEDDING INPUTS.\n",
        "\n",
        "IN THIS SENSE WE THINK THAT USING THE EMBED OF A WORD WITH SAME TAGGING IN SPITE OF COMPLETE RANDOM ONE WOULD BE MORE MEANINGFUL AND SENSIBLE CONSIDERED THE FINAL TASK."
      ]
    },
    {
      "cell_type": "code",
      "metadata": {
        "id": "fkS7dxgErZdQ",
        "colab": {
          "base_uri": "https://localhost:8080/"
        },
        "outputId": "82fccea5-7aa0-4491-8490-1ab4d0f46341"
      },
      "source": [
        "np.random.seed(42)\n",
        "\n",
        "def build_emb_voc(dfwords, oov_terms, emb_model, emb_dimension):\n",
        "  word_to_emb = {}\n",
        "  word_to_emb['PAD'] = np.zeros(emb_dimension)\n",
        "  for w in dfwords['word'].unique():\n",
        "    if w not in word_to_emb.keys():\n",
        "      if w not in oov_terms:\n",
        "        emb = emb_model.get_vector(w)\n",
        "        word_to_emb[w] = emb\n",
        "      else:\n",
        "        tag = str(dfwords.loc[dfwords['word'] == w, 'tag'])\n",
        "        sametagwords = dfwords.loc[dfwords['tag'] == tag, 'word'].tolist()\n",
        "        if sametagwords == [] or set(oov_terms) == set(sametagwords):\n",
        "          emb = np.random.uniform(-1, 1, emb_dimension)\n",
        "        else:\n",
        "          embeddedwords = [w for w in sametagwords if w not in oov_terms]\n",
        "          idx = np.random.randint(0, len(embeddedwords))\n",
        "          emb = emb_model.get_vector(embeddedwords[idx])\n",
        "\n",
        "      word_to_emb[w] = emb\n",
        "\n",
        "  return word_to_emb\n",
        "\n",
        "\n",
        "\n",
        "\n",
        "word_to_emb_train = build_emb_voc(df_w.loc[df_w['split']=='train', ['word', 'tag']], oov_train, emb_model, emb_dimension)\n",
        "word_to_emb_val = build_emb_voc(df_w.loc[df_w['split']=='validation', ['word', 'tag']], oov_val, emb_model, emb_dimension)\n",
        "word_to_emb_test = build_emb_voc(df_w.loc[df_w['split']=='test', ['word', 'tag']], oov_test, emb_model, emb_dimension)\n",
        "\n",
        "\n",
        "# summing up dictionaries' content\n",
        "print(\"word_to_emb_train contains {} words and their embeddings.\".format(len(word_to_emb_train)))\n",
        "print()\n",
        "print(\"word_to_emb_val contains {} words and their embeddings.\".format(len(word_to_emb_val)))\n",
        "print()\n",
        "print(\"word_to_emb_test contains {} words and their embeddings.\".format(len(word_to_emb_test)))\n",
        "print()\n",
        "print()\n",
        "\n",
        "# print examples\n",
        "word = 'are'\n",
        "print(\"PRINTING EMBEDDING FOR WORD:\", word)\n",
        "print(word_to_emb_train[word])\n",
        "print(word_to_emb_train[word].shape)\n",
        "print()\n",
        "word = 'PAD'\n",
        "print(\"PRINTING EMBEDDING FOR WORD:\", word)\n",
        "print(word_to_emb_train[word])\n",
        "print(word_to_emb_train[word].shape)"
      ],
      "execution_count": null,
      "outputs": [
        {
          "output_type": "stream",
          "text": [
            "word_to_emb_train contains 8010 words and their embeddings.\n",
            "\n",
            "word_to_emb_val contains 5893 words and their embeddings.\n",
            "\n",
            "word_to_emb_test contains 3624 words and their embeddings.\n",
            "\n",
            "\n",
            "PRINTING EMBEDDING FOR WORD: are\n",
            "[-0.51533   0.83186   0.22457  -0.73865   0.18718   0.26021  -0.42564\n",
            "  0.67121  -0.31084  -0.61275   0.089526 -0.24011   1.1878    0.67609\n",
            " -0.022885 -0.92533   0.071174  0.38837  -0.42924   0.37144   0.32671\n",
            "  0.43141   0.87495   0.34009  -0.23189  -0.41144   0.49061  -0.32906\n",
            " -0.49109  -0.18988   0.33408  -0.21245  -0.38386  -0.080547  1.1161\n",
            "  0.23617   0.31333   0.49286   0.1      -0.15131  -0.14176  -0.2802\n",
            " -0.2388   -0.35486   0.18282  -0.19134   0.60544   0.074573 -0.20731\n",
            " -0.60965   0.19908  -0.57024  -0.17427   1.4419   -0.25019  -1.8648\n",
            "  0.41671  -0.24607   1.501     0.87415  -0.67135   1.2762   -0.2721\n",
            "  0.17583   1.2242    0.28242   0.62375   0.63951   0.36914  -0.84677\n",
            " -0.3227   -0.67152  -0.19635  -0.40789  -0.20966  -0.19623   0.041885\n",
            "  0.53967  -1.1105   -0.39515   0.6659   -0.233    -1.082     0.046465\n",
            " -2.0993   -0.28493   0.080025 -0.12963  -0.30011  -0.46764  -0.81831\n",
            " -0.048509 -0.32233  -0.32013  -1.1207   -0.056788 -0.73004  -1.2024\n",
            "  1.1304    0.3479  ]\n",
            "(100,)\n",
            "\n",
            "PRINTING EMBEDDING FOR WORD: PAD\n",
            "[0. 0. 0. 0. 0. 0. 0. 0. 0. 0. 0. 0. 0. 0. 0. 0. 0. 0. 0. 0. 0. 0. 0. 0.\n",
            " 0. 0. 0. 0. 0. 0. 0. 0. 0. 0. 0. 0. 0. 0. 0. 0. 0. 0. 0. 0. 0. 0. 0. 0.\n",
            " 0. 0. 0. 0. 0. 0. 0. 0. 0. 0. 0. 0. 0. 0. 0. 0. 0. 0. 0. 0. 0. 0. 0. 0.\n",
            " 0. 0. 0. 0. 0. 0. 0. 0. 0. 0. 0. 0. 0. 0. 0. 0. 0. 0. 0. 0. 0. 0. 0. 0.\n",
            " 0. 0. 0. 0.]\n",
            "(100,)\n"
          ],
          "name": "stdout"
        }
      ]
    },
    {
      "cell_type": "markdown",
      "metadata": {
        "id": "u9_HsfuGFZCH"
      },
      "source": [
        "WE DECIDED TO KEEP OUR DICTIONARIES DISTINCT AS IT IS FOR THE DATAFRAMES.\n",
        "\n",
        "THIS IS BECAUSE WE FOUND IT MORE CONVINIENT AND CLEAR FOR THE FOLLOWING SECTION OF DATA CONVERSION IN THE SEPARATED DATAFRAMES.\n",
        "\n",
        "THIS DECISION ALSO RESPECT THE DEMAND OF KEEPING TRAIN, VALIDATION AND TEST DATAS ALL SEPARATED."
      ]
    },
    {
      "cell_type": "markdown",
      "metadata": {
        "id": "tC5THzCs8N8h"
      },
      "source": [
        "# CREATE A BASELINE MODEL, USING A SIMPLE NEURAL ARCHITECTURE\n",
        "\n",
        "\n",
        "**Baseline:** two layers architecture: a Bidirectional LSTM and a Dense/Fully-Connected layer on top.\n",
        "\n",
        "**Training and Experiments:** all the experiments must involve only the training and validation sets.\n",
        "\n",
        "* The input to the model MUST be only GloVe embeddings\n",
        "* You can use a non-trainable Embedding layer to load the glove embeddings\n",
        "* The task is to predict, for each word, its POS tag. The tags are the target, not a feature.\n",
        "* You can use any library of your choice to implement the networks. Two options are tensorflow/keras or pythorch. Both these libraries have all the classes you need to implement these simple architectures and there are plenty of tutorials around, where you can learn how to use them.\n",
        "* The structure of the input data will have three dimensions: 1-documents/sentences, 2-token, 3-features\n",
        "* The structure of the output data will have two or three dimensions: if you use one-hot encoding it will be 1-documents/sentences, 2-token labels, 3-classes; if you use a single integer that indicates the number of the class will be 1-documents/sentences, 2-token labels"
      ]
    },
    {
      "cell_type": "markdown",
      "metadata": {
        "id": "SkrhpRgepHXI"
      },
      "source": [
        "FUNCTION FOR THE CONVERTION OF THE DATA:\n",
        "\n",
        "FROM SENTENCES (LISTS) OF WORDS (STRINGS)\n",
        "AND RESPECTIVE COLLECTIONS (LISTS) OF TAGS (STRINGS)\n",
        "TO LISTS OF EMBEDDINGS (NDARRAYS) OF THE WORDS AND LISTS OF ONE-HOT-ENCODING VECTORS FOR THE TAGS."
      ]
    },
    {
      "cell_type": "code",
      "metadata": {
        "id": "9vUF55DU8ZSD"
      },
      "source": [
        "def convert_data(df, word_to_emb, tag_to_idx):\n",
        "  new_rows = [] # rows of the new to-return dataframe\n",
        "  for row in df.iterrows():\n",
        "    # substitute words with its embeddings\n",
        "    words = [word_to_emb[w] for w in row[1][0]]\n",
        "    # substitute tags with its one-hot-encoding\n",
        "    tags = []\n",
        "    for t in row[1][1]:\n",
        "        temp = np.zeros((len(tag_to_idx),))\n",
        "        temp[tag_to_idx[t]] = 1\n",
        "        tags.append(temp)\n",
        "    # row for the new encoded dataframe\n",
        "    new_row = {\n",
        "        'embeddings' : words,\n",
        "        'tags' : tags\n",
        "    }\n",
        "    new_rows.append(new_row)\n",
        "\n",
        "  # transform the list of rows in a proper dataframe\n",
        "  df = pd.DataFrame(new_rows)\n",
        "  df = df[[\"embeddings\", \"tags\"]]\n",
        "\n",
        "  return df\n",
        "\n",
        "\n",
        "df_trainENC = convert_data(df_train, word_to_emb_train, tag_to_idx)\n",
        "df_valENC = convert_data(df_val, word_to_emb_val, tag_to_idx)\n",
        "df_testENC = convert_data(df_test, word_to_emb_test, tag_to_idx)"
      ],
      "execution_count": null,
      "outputs": []
    },
    {
      "cell_type": "markdown",
      "metadata": {
        "id": "4hMAiDnJsB-V"
      },
      "source": [
        "PREPARING THE DATASETS USING\n",
        "\n",
        "tf.keras.preprocessing.sequence.pad_sequences\n",
        "\n",
        "BECAUSE WE NEED DATASETS OF COHERENT LENGTH WITHIN THEIR SAMPLES."
      ]
    },
    {
      "cell_type": "code",
      "metadata": {
        "id": "e_e0pcs7iZBX",
        "colab": {
          "base_uri": "https://localhost:8080/"
        },
        "outputId": "64d4e9fc-d070-45c0-da1f-5f25e2aec20a"
      },
      "source": [
        "import tensorflow as tf\n",
        "\n",
        "# adding the one-hot-encoding for PAD tag\n",
        "pad_tag = np.zeros((len(tag_to_idx),))\n",
        "pad_tag[tag_to_idx[\"PAD\"]] = 1\n",
        "\n",
        "# padding post => we decided to have the padding on the right\n",
        "X_train = tf.keras.preprocessing.sequence.pad_sequences(\n",
        "            df_trainENC['embeddings'].tolist(),\n",
        "            padding=\"post\", dtype='float32')\n",
        "Y_train = tf.keras.preprocessing.sequence.pad_sequences(\n",
        "           df_trainENC['tags'].tolist(),\n",
        "           padding = 'post', value=pad_tag)\n",
        "\n",
        "X_val = tf.keras.preprocessing.sequence.pad_sequences(\n",
        "            df_valENC['embeddings'].tolist(),\n",
        "            padding=\"post\", dtype='float32')\n",
        "Y_val = tf.keras.preprocessing.sequence.pad_sequences(\n",
        "            df_valENC['tags'].tolist(),\n",
        "            padding=\"post\", value=pad_tag)\n",
        "\n",
        "X_test = tf.keras.preprocessing.sequence.pad_sequences(\n",
        "            df_testENC['embeddings'].tolist(),\n",
        "            padding=\"post\", dtype='float32')\n",
        "Y_test = tf.keras.preprocessing.sequence.pad_sequences(\n",
        "           df_testENC['tags'].tolist(),\n",
        "           padding = 'post', value=pad_tag)\n",
        "\n",
        "\n",
        "print(\"X_train.shape : {}\\nnumber of sentences: {}\\nnumber of words+padding elements per sentence: {}\\nelements/length of the embedding per word: {}\\n\\n\".format(X_train.shape, X_train.shape[0], X_train.shape[1], X_train.shape[2]))\n",
        "print(\"Y_train.shape : {}\\nnumber of sentences: {}\\nnumber of tags+padding elements per sentence: {}\\nelements/length of the encoding per tag: {}\\n\\n\".format(Y_train.shape, Y_train.shape[0], Y_train.shape[1], Y_train.shape[2]))\n",
        "print(\"X_val.shape : {}\\nnumber of sentences: {}\\nnumber of words+padding elements per sentence: {}\\nelements/length of the embedding per word: {}\\n\\n\".format(X_val.shape, X_val.shape[0], X_val.shape[1], X_val.shape[2]))\n",
        "print(\"Y_val.shape : {}\\nnumber of sentences: {}\\nnumber of tags+padding elements per sentence: {}\\nelements/length of the encoding per tag: {}\\n\\n\".format(Y_val.shape, Y_val.shape[0], Y_val.shape[1], Y_val.shape[2]))\n",
        "print(\"X_test.shape : {}\\nnumber of documents: {}\\nnumber of words+padding elements per document: {}\\nelements/length of the embedding per word: {}\\n\\n\".format(X_test.shape, X_test.shape[0], X_test.shape[1], X_test.shape[2]))\n",
        "print(\"Y_test.shape : {}\\nnumber of documents: {}\\nnumber of tags+padding elements per document: {}\\nelements/length of the encoding per tag: {}\\n\\n\".format(Y_test.shape, Y_test.shape[0], Y_test.shape[1], Y_test.shape[2]))"
      ],
      "execution_count": null,
      "outputs": [
        {
          "output_type": "stream",
          "text": [
            "X_train.shape : (1963, 249, 100)\n",
            "number of sentences: 1963\n",
            "number of words+padding elements per sentence: 249\n",
            "elements/length of the embedding per word: 100\n",
            "\n",
            "\n",
            "Y_train.shape : (1963, 249, 46)\n",
            "number of sentences: 1963\n",
            "number of tags+padding elements per sentence: 249\n",
            "elements/length of the encoding per tag: 46\n",
            "\n",
            "\n",
            "X_val.shape : (1299, 81, 100)\n",
            "number of sentences: 1299\n",
            "number of words+padding elements per sentence: 81\n",
            "elements/length of the embedding per word: 100\n",
            "\n",
            "\n",
            "Y_val.shape : (1299, 81, 46)\n",
            "number of sentences: 1299\n",
            "number of tags+padding elements per sentence: 81\n",
            "elements/length of the encoding per tag: 46\n",
            "\n",
            "\n",
            "X_test.shape : (49, 1492, 100)\n",
            "number of documents: 49\n",
            "number of words+padding elements per document: 1492\n",
            "elements/length of the embedding per word: 100\n",
            "\n",
            "\n",
            "Y_test.shape : (49, 1492, 46)\n",
            "number of documents: 49\n",
            "number of tags+padding elements per document: 1492\n",
            "elements/length of the encoding per tag: 46\n",
            "\n",
            "\n"
          ],
          "name": "stdout"
        }
      ]
    },
    {
      "cell_type": "markdown",
      "metadata": {
        "id": "e1j4eCb9DJWX"
      },
      "source": [
        "FUNCTION TO DRAW PLOTS FOR METRICS' VALUES :"
      ]
    },
    {
      "cell_type": "code",
      "metadata": {
        "id": "V5vQilMQXZCv"
      },
      "source": [
        "import matplotlib.pyplot as plt\n",
        "from matplotlib.ticker import MaxNLocator\n",
        "plt.style.use('seaborn-whitegrid')\n",
        "\n",
        "def draw_graphs(history):\n",
        "\n",
        "    epochs = len(history['loss'])\n",
        "    x = np.arange(0, epochs) + 1\n",
        "\n",
        "    fig, ax1 = plt.subplots()\n",
        "    ax1.xaxis.set_major_locator(MaxNLocator(integer=True))\n",
        "    plt.title(\"Training results: epoch vs accuracy\")\n",
        "    ax1.set_xlabel('epoch')\n",
        "    ax1.set_ylabel('accuracy')\n",
        "    ax1.plot(x, history['accuracy'])\n",
        "    ax1.plot(x, history['val_accuracy'])\n",
        "    ax1.legend(['train_accuracy', 'val_accuracy'], loc='center right')\n",
        "    ax1.tick_params(axis='y')\n",
        "\n",
        "    plt.show()\n",
        "\n",
        "\n",
        "    fig, ax1 = plt.subplots()\n",
        "    ax1.xaxis.set_major_locator(MaxNLocator(integer=True))\n",
        "    plt.title(\"Training results: epoch vs loss\")\n",
        "    ax1.set_xlabel('epoch')\n",
        "    ax1.set_ylabel('loss')\n",
        "    ax1.plot(x, history['loss'])\n",
        "    ax1.plot(x, history['val_loss'])\n",
        "    ax1.legend(['train_loss', 'val_loss'], loc='center right')\n",
        "    ax1.tick_params(axis='y')\n",
        "    \n",
        "    plt.show()\n",
        "    "
      ],
      "execution_count": null,
      "outputs": []
    },
    {
      "cell_type": "markdown",
      "metadata": {
        "id": "BdvBIrZ3EIbJ"
      },
      "source": [
        "WE IMPLEMENTED A FUNCTION THAT TRAINS MODELS AND SAVES BEST MODEL TO RECALL THROUGH THE USAGE OF\n",
        "\n",
        "tf.keras.callbacks.ModelCheckpoint\n",
        "\n",
        "IN ADDITION, WE WANTED TO AVOID EXCESSIVE NOT-IMPROVE-BRINGING COMPUTATION OF EPOCHS THROUGH THE USAGE OF \n",
        "\n",
        "tf.keras.callbacks.EarlyStopping\n",
        "\n",
        "IN PARTICULAR WE BELIEVE THAT PATIENCE OF 8 WOULD BE REASONABLE BECAUSE WE ALSO ADOPTED THE USAGE OF\n",
        "\n",
        "tf.keras.callbacks.ReduceLROnPlateau\n",
        "\n",
        "LEARNINGRATE : STARTED FROM 0.01 + HAS FACTOR 0.5 + HAS MINUMUM LEARNINGRATE OF 0.001 => THEREFORE WE WILL HAVE 4 LEARNINGRATE REDUCTION\n",
        "\n",
        "2(LEARNINGRATE PATIANCE)*4(LEARNINGRATE REDUCTION) = 8(EARLYSTOPPING PATIANCE)"
      ]
    },
    {
      "cell_type": "code",
      "metadata": {
        "id": "1tcMipnAYrsl"
      },
      "source": [
        "def train_model(folder, model, model_name, X_train, Y_train, X_val, Y_val, batch, epochs):\n",
        "  \n",
        "  # Path where the final model will be saved\n",
        "  models_dir = os.path.join(folder, 'models')\n",
        "  os.makedirs(models_dir, exist_ok = True)\n",
        "  model_file = os.path.join(models_dir, model_name+\".h5\")\n",
        "  \n",
        "  model_callback = tf.keras.callbacks.ModelCheckpoint(\n",
        "    filepath=model_file,\n",
        "    save_weights_only=False,\n",
        "    save_best_only=True,\n",
        "    monitor='val_accuracy', \n",
        "    mode='auto', \n",
        "    verbose=1, \n",
        "    )\n",
        "  \n",
        "  early_stopping_callback = tf.keras.callbacks.EarlyStopping(\n",
        "    restore_best_weights=True, \n",
        "    patience=8,\n",
        "    monitor='val_accuracy', \n",
        "    mode='auto', \n",
        "    verbose=1\n",
        "    )\n",
        "  \n",
        "  reduce_lr_callback = tf.keras.callbacks.ReduceLROnPlateau(\n",
        "      monitor='val_accuracy',\n",
        "      mode='auto',\n",
        "      factor=0.5,\n",
        "      patience=2,\n",
        "      min_lr=0.001,\n",
        "      verbose=1\n",
        "      )\n",
        "  \n",
        "  history = model.fit(X_train, Y_train,\n",
        "    epochs=epochs,\n",
        "    batch_size=batch,\n",
        "    validation_data = (X_val, Y_val),\n",
        "    callbacks=[model_callback, early_stopping_callback, reduce_lr_callback]\n",
        "    )\n",
        "\n",
        "  draw_graphs(history.history)\n",
        "\n",
        "  return history"
      ],
      "execution_count": null,
      "outputs": []
    },
    {
      "cell_type": "markdown",
      "metadata": {
        "id": "WqnKDLNBRbmV"
      },
      "source": [
        "## Baseline Model :\n",
        "<i>\"two layers architecture: a Bidirectional LSTM and a Dense/Fully-Connected layer on top\"</i>\n",
        "\n",
        "\n",
        "\n",
        "the model is structured as follow:\n",
        "- Bidirectional LSTM Layer \n",
        "- Dense layer\n"
      ]
    },
    {
      "cell_type": "markdown",
      "metadata": {
        "id": "r-Cn0DmqRWQL"
      },
      "source": [
        "### Parameters :"
      ]
    },
    {
      "cell_type": "code",
      "metadata": {
        "id": "Fd30S9YyG4Ql"
      },
      "source": [
        "#### Parameters : #################\n",
        "\n",
        "# BATCH SIZE\n",
        "btch_size = 16\n",
        "\n",
        "# LEARNING RATE\n",
        "# we went for a medium value because we implemented the reducing-learningrate callback\n",
        "lrn_rate = 0.01\n",
        "\n",
        "# NUMBER OF EPOCHS\n",
        "# we went for a surely exciding number of epochs because we implemented the early-stopping callback\n",
        "n_epochs = 50\n",
        "\n",
        "# RNN UNITS\n",
        "rnn_units = 50\n",
        "\n",
        "# DROPOUT\n",
        "drp_out = 0.1\n",
        "\n",
        "###################################"
      ],
      "execution_count": null,
      "outputs": []
    },
    {
      "cell_type": "markdown",
      "metadata": {
        "id": "HLgSZ8xCW-U2"
      },
      "source": [
        "### Building the Model :"
      ]
    },
    {
      "cell_type": "code",
      "metadata": {
        "id": "1ZjRwyFFRtIZ"
      },
      "source": [
        "import tensorflow as tf\n",
        "\n",
        "def build_model(label, rnn_units=rnn_units, learning_rate=lrn_rate, drop_out=drp_out):\n",
        "\n",
        "  model = tf.keras.Sequential(name='words_tagging')\n",
        "\n",
        "  model.add(tf.keras.layers.Input((None, emb_dimension), name='embedding_input'))\n",
        "  \n",
        "  model.add(tf.keras.layers.Masking(mask_value=0.0))\n",
        "\n",
        "  model.add(tf.keras.layers.Bidirectional(tf.keras.layers.LSTM(rnn_units,\n",
        "                                                                return_sequences=True,\n",
        "                                                                dropout=drop_out,\n",
        "                                                                name='bilstm'),\n",
        "                                          merge_mode=\"concat\"))\n",
        "  \n",
        "  model.add(tf.keras.layers.Dense(label, activation='softmax', name='dense'))\n",
        "\n",
        "  optimizer = tf.keras.optimizers.Adam(learning_rate=learning_rate)\n",
        "  \n",
        "  model.compile(loss='categorical_crossentropy', metrics=\"accuracy\", optimizer=optimizer)\n",
        "  \n",
        "  model.summary()\n",
        "    \n",
        "  return model"
      ],
      "execution_count": null,
      "outputs": []
    },
    {
      "cell_type": "code",
      "metadata": {
        "id": "IAIDBDClGvMu",
        "colab": {
          "base_uri": "https://localhost:8080/"
        },
        "outputId": "840f957d-6e2a-4d51-e884-5d35f0dd58d0"
      },
      "source": [
        "# Building the model\n",
        "model = build_model(len(tag_to_idx))"
      ],
      "execution_count": null,
      "outputs": [
        {
          "output_type": "stream",
          "text": [
            "Model: \"words_tagging\"\n",
            "_________________________________________________________________\n",
            "Layer (type)                 Output Shape              Param #   \n",
            "=================================================================\n",
            "masking (Masking)            (None, None, 100)         0         \n",
            "_________________________________________________________________\n",
            "bidirectional (Bidirectional (None, None, 100)         60400     \n",
            "_________________________________________________________________\n",
            "dense (Dense)                (None, None, 46)          4646      \n",
            "=================================================================\n",
            "Total params: 65,046\n",
            "Trainable params: 65,046\n",
            "Non-trainable params: 0\n",
            "_________________________________________________________________\n"
          ],
          "name": "stdout"
        }
      ]
    },
    {
      "cell_type": "markdown",
      "metadata": {
        "id": "jNmjjNIajsUr"
      },
      "source": [
        "### Plotting the Model :"
      ]
    },
    {
      "cell_type": "code",
      "metadata": {
        "colab": {
          "base_uri": "https://localhost:8080/",
          "height": 422
        },
        "id": "BJCv5JuMjmQU",
        "outputId": "b4d3534a-7172-4d32-dd89-02518c3a1cd1"
      },
      "source": [
        "# Plot the model structure\n",
        "tf.keras.utils.plot_model(model, show_shapes=True, show_layer_names=True)"
      ],
      "execution_count": null,
      "outputs": [
        {
          "output_type": "execute_result",
          "data": {
            "image/png": "[encoded data removed]",
            "text/plain": [
              "<IPython.core.display.Image object>"
            ]
          },
          "metadata": {
            "tags": []
          },
          "execution_count": 17
        }
      ]
    },
    {
      "cell_type": "markdown",
      "metadata": {
        "id": "3agqdVXaXYX3"
      },
      "source": [
        "### Training the Model :"
      ]
    },
    {
      "cell_type": "code",
      "metadata": {
        "id": "8L_pDPnIboaa",
        "colab": {
          "base_uri": "https://localhost:8080/",
          "height": 1000
        },
        "outputId": "4c462dbb-704f-4a78-c284-d39708e82c78"
      },
      "source": [
        "# folder and model_name are useful because we want to save through callback the best performing model\n",
        "folder = os.getcwd()\n",
        "model_name = \"bilstm_fc\"\n",
        "\n",
        "history = train_model(folder, model, model_name, X_train, Y_train, X_val, Y_val, btch_size, n_epochs)"
      ],
      "execution_count": null,
      "outputs": [
        {
          "output_type": "stream",
          "text": [
            "Epoch 1/50\n",
            "123/123 [==============================] - ETA: 0s - loss: 0.0952 - accuracy: 0.7478\n",
            "Epoch 00001: val_accuracy improved from -inf to 0.84052, saving model to /content/models/bilstm_fc.h5\n",
            "123/123 [==============================] - 26s 215ms/step - loss: 0.0952 - accuracy: 0.7478 - val_loss: 0.1765 - val_accuracy: 0.8405\n",
            "Epoch 2/50\n",
            "123/123 [==============================] - ETA: 0s - loss: 0.0371 - accuracy: 0.8933\n",
            "Epoch 00002: val_accuracy improved from 0.84052 to 0.86153, saving model to /content/models/bilstm_fc.h5\n",
            "123/123 [==============================] - 24s 197ms/step - loss: 0.0371 - accuracy: 0.8933 - val_loss: 0.1558 - val_accuracy: 0.8615\n",
            "Epoch 3/50\n",
            "123/123 [==============================] - ETA: 0s - loss: 0.0277 - accuracy: 0.9193\n",
            "Epoch 00003: val_accuracy improved from 0.86153 to 0.87147, saving model to /content/models/bilstm_fc.h5\n",
            "123/123 [==============================] - 24s 196ms/step - loss: 0.0277 - accuracy: 0.9193 - val_loss: 0.1473 - val_accuracy: 0.8715\n",
            "Epoch 4/50\n",
            "123/123 [==============================] - ETA: 0s - loss: 0.0226 - accuracy: 0.9327\n",
            "Epoch 00004: val_accuracy improved from 0.87147 to 0.87429, saving model to /content/models/bilstm_fc.h5\n",
            "123/123 [==============================] - 24s 197ms/step - loss: 0.0226 - accuracy: 0.9327 - val_loss: 0.1484 - val_accuracy: 0.8743\n",
            "Epoch 5/50\n",
            "123/123 [==============================] - ETA: 0s - loss: 0.0184 - accuracy: 0.9436\n",
            "Epoch 00005: val_accuracy improved from 0.87429 to 0.87772, saving model to /content/models/bilstm_fc.h5\n",
            "123/123 [==============================] - 24s 196ms/step - loss: 0.0184 - accuracy: 0.9436 - val_loss: 0.1506 - val_accuracy: 0.8777\n",
            "Epoch 6/50\n",
            "123/123 [==============================] - ETA: 0s - loss: 0.0161 - accuracy: 0.9492\n",
            "Epoch 00006: val_accuracy did not improve from 0.87772\n",
            "123/123 [==============================] - 24s 196ms/step - loss: 0.0161 - accuracy: 0.9492 - val_loss: 0.1526 - val_accuracy: 0.8749\n",
            "Epoch 7/50\n",
            "123/123 [==============================] - ETA: 0s - loss: 0.0142 - accuracy: 0.9555\n",
            "Epoch 00007: val_accuracy improved from 0.87772 to 0.88106, saving model to /content/models/bilstm_fc.h5\n",
            "123/123 [==============================] - 24s 196ms/step - loss: 0.0142 - accuracy: 0.9555 - val_loss: 0.1531 - val_accuracy: 0.8811\n",
            "Epoch 8/50\n",
            "123/123 [==============================] - ETA: 0s - loss: 0.0128 - accuracy: 0.9592\n",
            "Epoch 00008: val_accuracy improved from 0.88106 to 0.88154, saving model to /content/models/bilstm_fc.h5\n",
            "123/123 [==============================] - 24s 197ms/step - loss: 0.0128 - accuracy: 0.9592 - val_loss: 0.1585 - val_accuracy: 0.8815\n",
            "Epoch 9/50\n",
            "123/123 [==============================] - ETA: 0s - loss: 0.0118 - accuracy: 0.9620\n",
            "Epoch 00009: val_accuracy did not improve from 0.88154\n",
            "123/123 [==============================] - 24s 197ms/step - loss: 0.0118 - accuracy: 0.9620 - val_loss: 0.1604 - val_accuracy: 0.8804\n",
            "Epoch 10/50\n",
            "123/123 [==============================] - ETA: 0s - loss: 0.0107 - accuracy: 0.9656\n",
            "Epoch 00010: val_accuracy improved from 0.88154 to 0.88215, saving model to /content/models/bilstm_fc.h5\n",
            "123/123 [==============================] - 24s 197ms/step - loss: 0.0107 - accuracy: 0.9656 - val_loss: 0.1640 - val_accuracy: 0.8821\n",
            "Epoch 11/50\n",
            "123/123 [==============================] - ETA: 0s - loss: 0.0097 - accuracy: 0.9680\n",
            "Epoch 00011: val_accuracy did not improve from 0.88215\n",
            "123/123 [==============================] - 24s 195ms/step - loss: 0.0097 - accuracy: 0.9680 - val_loss: 0.1664 - val_accuracy: 0.8770\n",
            "Epoch 12/50\n",
            "123/123 [==============================] - ETA: 0s - loss: 0.0094 - accuracy: 0.9687\n",
            "Epoch 00012: val_accuracy did not improve from 0.88215\n",
            "\n",
            "Epoch 00012: ReduceLROnPlateau reducing learning rate to 0.004999999888241291.\n",
            "123/123 [==============================] - 24s 195ms/step - loss: 0.0094 - accuracy: 0.9687 - val_loss: 0.1721 - val_accuracy: 0.8800\n",
            "Epoch 13/50\n",
            "123/123 [==============================] - ETA: 0s - loss: 0.0072 - accuracy: 0.9769\n",
            "Epoch 00013: val_accuracy did not improve from 0.88215\n",
            "123/123 [==============================] - 24s 195ms/step - loss: 0.0072 - accuracy: 0.9769 - val_loss: 0.1722 - val_accuracy: 0.8815\n",
            "Epoch 14/50\n",
            "123/123 [==============================] - ETA: 0s - loss: 0.0064 - accuracy: 0.9798\n",
            "Epoch 00014: val_accuracy improved from 0.88215 to 0.88494, saving model to /content/models/bilstm_fc.h5\n",
            "123/123 [==============================] - 24s 196ms/step - loss: 0.0064 - accuracy: 0.9798 - val_loss: 0.1708 - val_accuracy: 0.8849\n",
            "Epoch 15/50\n",
            "123/123 [==============================] - ETA: 0s - loss: 0.0059 - accuracy: 0.9811\n",
            "Epoch 00015: val_accuracy did not improve from 0.88494\n",
            "123/123 [==============================] - 24s 195ms/step - loss: 0.0059 - accuracy: 0.9811 - val_loss: 0.1746 - val_accuracy: 0.8849\n",
            "Epoch 16/50\n",
            "123/123 [==============================] - ETA: 0s - loss: 0.0057 - accuracy: 0.9822\n",
            "Epoch 00016: val_accuracy did not improve from 0.88494\n",
            "\n",
            "Epoch 00016: ReduceLROnPlateau reducing learning rate to 0.0024999999441206455.\n",
            "123/123 [==============================] - 24s 196ms/step - loss: 0.0057 - accuracy: 0.9822 - val_loss: 0.1772 - val_accuracy: 0.8836\n",
            "Epoch 17/50\n",
            "123/123 [==============================] - ETA: 0s - loss: 0.0049 - accuracy: 0.9845\n",
            "Epoch 00017: val_accuracy improved from 0.88494 to 0.88503, saving model to /content/models/bilstm_fc.h5\n",
            "123/123 [==============================] - 24s 196ms/step - loss: 0.0049 - accuracy: 0.9845 - val_loss: 0.1755 - val_accuracy: 0.8850\n",
            "Epoch 18/50\n",
            "123/123 [==============================] - ETA: 0s - loss: 0.0046 - accuracy: 0.9861\n",
            "Epoch 00018: val_accuracy did not improve from 0.88503\n",
            "\n",
            "Epoch 00018: ReduceLROnPlateau reducing learning rate to 0.0012499999720603228.\n",
            "123/123 [==============================] - 28s 229ms/step - loss: 0.0046 - accuracy: 0.9861 - val_loss: 0.1787 - val_accuracy: 0.8847\n",
            "Epoch 19/50\n",
            "123/123 [==============================] - ETA: 0s - loss: 0.0043 - accuracy: 0.9867\n",
            "Epoch 00019: val_accuracy improved from 0.88503 to 0.88577, saving model to /content/models/bilstm_fc.h5\n",
            "123/123 [==============================] - 24s 196ms/step - loss: 0.0043 - accuracy: 0.9867 - val_loss: 0.1766 - val_accuracy: 0.8858\n",
            "Epoch 20/50\n",
            "123/123 [==============================] - ETA: 0s - loss: 0.0042 - accuracy: 0.9875\n",
            "Epoch 00020: val_accuracy did not improve from 0.88577\n",
            "123/123 [==============================] - 24s 197ms/step - loss: 0.0042 - accuracy: 0.9875 - val_loss: 0.1773 - val_accuracy: 0.8856\n",
            "Epoch 21/50\n",
            "123/123 [==============================] - ETA: 0s - loss: 0.0040 - accuracy: 0.9882\n",
            "Epoch 00021: val_accuracy improved from 0.88577 to 0.88600, saving model to /content/models/bilstm_fc.h5\n",
            "123/123 [==============================] - 24s 196ms/step - loss: 0.0040 - accuracy: 0.9882 - val_loss: 0.1781 - val_accuracy: 0.8860\n",
            "Epoch 22/50\n",
            "123/123 [==============================] - ETA: 0s - loss: 0.0039 - accuracy: 0.9883\n",
            "Epoch 00022: val_accuracy improved from 0.88600 to 0.88609, saving model to /content/models/bilstm_fc.h5\n",
            "123/123 [==============================] - 24s 197ms/step - loss: 0.0039 - accuracy: 0.9883 - val_loss: 0.1789 - val_accuracy: 0.8861\n",
            "Epoch 23/50\n",
            "123/123 [==============================] - ETA: 0s - loss: 0.0039 - accuracy: 0.9884\n",
            "Epoch 00023: val_accuracy did not improve from 0.88609\n",
            "\n",
            "Epoch 00023: ReduceLROnPlateau reducing learning rate to 0.001.\n",
            "123/123 [==============================] - 24s 196ms/step - loss: 0.0039 - accuracy: 0.9884 - val_loss: 0.1796 - val_accuracy: 0.8859\n",
            "Epoch 24/50\n",
            "123/123 [==============================] - ETA: 0s - loss: 0.0038 - accuracy: 0.9886\n",
            "Epoch 00024: val_accuracy did not improve from 0.88609\n",
            "123/123 [==============================] - 24s 197ms/step - loss: 0.0038 - accuracy: 0.9886 - val_loss: 0.1796 - val_accuracy: 0.8861\n",
            "Epoch 25/50\n",
            "123/123 [==============================] - ETA: 0s - loss: 0.0037 - accuracy: 0.9892\n",
            "Epoch 00025: val_accuracy did not improve from 0.88609\n",
            "\n",
            "Epoch 00025: ReduceLROnPlateau reducing learning rate to 0.001.\n",
            "123/123 [==============================] - 24s 196ms/step - loss: 0.0037 - accuracy: 0.9892 - val_loss: 0.1797 - val_accuracy: 0.8854\n",
            "Epoch 26/50\n",
            "123/123 [==============================] - ETA: 0s - loss: 0.0037 - accuracy: 0.9890\n",
            "Epoch 00026: val_accuracy did not improve from 0.88609\n",
            "123/123 [==============================] - 24s 197ms/step - loss: 0.0037 - accuracy: 0.9890 - val_loss: 0.1800 - val_accuracy: 0.8861\n",
            "Epoch 27/50\n",
            "123/123 [==============================] - ETA: 0s - loss: 0.0036 - accuracy: 0.9892\n",
            "Epoch 00027: val_accuracy improved from 0.88609 to 0.88635, saving model to /content/models/bilstm_fc.h5\n",
            "123/123 [==============================] - 24s 197ms/step - loss: 0.0036 - accuracy: 0.9892 - val_loss: 0.1796 - val_accuracy: 0.8863\n",
            "Epoch 28/50\n",
            "123/123 [==============================] - ETA: 0s - loss: 0.0036 - accuracy: 0.9893\n",
            "Epoch 00028: val_accuracy did not improve from 0.88635\n",
            "123/123 [==============================] - 24s 197ms/step - loss: 0.0036 - accuracy: 0.9893 - val_loss: 0.1825 - val_accuracy: 0.8854\n",
            "Epoch 29/50\n",
            "123/123 [==============================] - ETA: 0s - loss: 0.0036 - accuracy: 0.9895\n",
            "Epoch 00029: val_accuracy did not improve from 0.88635\n",
            "\n",
            "Epoch 00029: ReduceLROnPlateau reducing learning rate to 0.001.\n",
            "123/123 [==============================] - 24s 197ms/step - loss: 0.0036 - accuracy: 0.9895 - val_loss: 0.1822 - val_accuracy: 0.8857\n",
            "Epoch 30/50\n",
            "123/123 [==============================] - ETA: 0s - loss: 0.0035 - accuracy: 0.9895\n",
            "Epoch 00030: val_accuracy did not improve from 0.88635\n",
            "123/123 [==============================] - 24s 197ms/step - loss: 0.0035 - accuracy: 0.9895 - val_loss: 0.1833 - val_accuracy: 0.8858\n",
            "Epoch 31/50\n",
            "123/123 [==============================] - ETA: 0s - loss: 0.0035 - accuracy: 0.9898\n",
            "Epoch 00031: val_accuracy did not improve from 0.88635\n",
            "\n",
            "Epoch 00031: ReduceLROnPlateau reducing learning rate to 0.001.\n",
            "123/123 [==============================] - 24s 197ms/step - loss: 0.0035 - accuracy: 0.9898 - val_loss: 0.1833 - val_accuracy: 0.8856\n",
            "Epoch 32/50\n",
            "123/123 [==============================] - ETA: 0s - loss: 0.0034 - accuracy: 0.9898\n",
            "Epoch 00032: val_accuracy did not improve from 0.88635\n",
            "123/123 [==============================] - 24s 196ms/step - loss: 0.0034 - accuracy: 0.9898 - val_loss: 0.1827 - val_accuracy: 0.8861\n",
            "Epoch 33/50\n",
            "123/123 [==============================] - ETA: 0s - loss: 0.0032 - accuracy: 0.9909\n",
            "Epoch 00033: val_accuracy improved from 0.88635 to 0.88651, saving model to /content/models/bilstm_fc.h5\n",
            "123/123 [==============================] - 24s 199ms/step - loss: 0.0032 - accuracy: 0.9909 - val_loss: 0.1838 - val_accuracy: 0.8865\n",
            "Epoch 34/50\n",
            "123/123 [==============================] - ETA: 0s - loss: 0.0032 - accuracy: 0.9906\n",
            "Epoch 00034: val_accuracy did not improve from 0.88651\n",
            "123/123 [==============================] - 24s 197ms/step - loss: 0.0032 - accuracy: 0.9906 - val_loss: 0.1847 - val_accuracy: 0.8860\n",
            "Epoch 35/50\n",
            "123/123 [==============================] - ETA: 0s - loss: 0.0031 - accuracy: 0.9911\n",
            "Epoch 00035: val_accuracy did not improve from 0.88651\n",
            "\n",
            "Epoch 00035: ReduceLROnPlateau reducing learning rate to 0.001.\n",
            "123/123 [==============================] - 24s 198ms/step - loss: 0.0031 - accuracy: 0.9911 - val_loss: 0.1848 - val_accuracy: 0.8859\n",
            "Epoch 36/50\n",
            "123/123 [==============================] - ETA: 0s - loss: 0.0032 - accuracy: 0.9907\n",
            "Epoch 00036: val_accuracy did not improve from 0.88651\n",
            "123/123 [==============================] - 24s 197ms/step - loss: 0.0032 - accuracy: 0.9907 - val_loss: 0.1864 - val_accuracy: 0.8855\n",
            "Epoch 37/50\n",
            "123/123 [==============================] - ETA: 0s - loss: 0.0031 - accuracy: 0.9916\n",
            "Epoch 00037: val_accuracy improved from 0.88651 to 0.88673, saving model to /content/models/bilstm_fc.h5\n",
            "123/123 [==============================] - 24s 197ms/step - loss: 0.0031 - accuracy: 0.9916 - val_loss: 0.1858 - val_accuracy: 0.8867\n",
            "Epoch 38/50\n",
            "123/123 [==============================] - ETA: 0s - loss: 0.0031 - accuracy: 0.9907\n",
            "Epoch 00038: val_accuracy did not improve from 0.88673\n",
            "123/123 [==============================] - 24s 197ms/step - loss: 0.0031 - accuracy: 0.9907 - val_loss: 0.1859 - val_accuracy: 0.8864\n",
            "Epoch 39/50\n",
            "123/123 [==============================] - ETA: 0s - loss: 0.0030 - accuracy: 0.9914\n",
            "Epoch 00039: val_accuracy did not improve from 0.88673\n",
            "\n",
            "Epoch 00039: ReduceLROnPlateau reducing learning rate to 0.001.\n",
            "123/123 [==============================] - 24s 198ms/step - loss: 0.0030 - accuracy: 0.9914 - val_loss: 0.1882 - val_accuracy: 0.8854\n",
            "Epoch 40/50\n",
            "123/123 [==============================] - ETA: 0s - loss: 0.0032 - accuracy: 0.9904\n",
            "Epoch 00040: val_accuracy did not improve from 0.88673\n",
            "123/123 [==============================] - 24s 197ms/step - loss: 0.0032 - accuracy: 0.9904 - val_loss: 0.1874 - val_accuracy: 0.8861\n",
            "Epoch 41/50\n",
            "123/123 [==============================] - ETA: 0s - loss: 0.0029 - accuracy: 0.9914\n",
            "Epoch 00041: val_accuracy did not improve from 0.88673\n",
            "\n",
            "Epoch 00041: ReduceLROnPlateau reducing learning rate to 0.001.\n",
            "123/123 [==============================] - 24s 197ms/step - loss: 0.0029 - accuracy: 0.9914 - val_loss: 0.1894 - val_accuracy: 0.8854\n",
            "Epoch 42/50\n",
            "123/123 [==============================] - ETA: 0s - loss: 0.0030 - accuracy: 0.9912\n",
            "Epoch 00042: val_accuracy did not improve from 0.88673\n",
            "123/123 [==============================] - 24s 197ms/step - loss: 0.0030 - accuracy: 0.9912 - val_loss: 0.1885 - val_accuracy: 0.8866\n",
            "Epoch 43/50\n",
            "123/123 [==============================] - ETA: 0s - loss: 0.0029 - accuracy: 0.9919\n",
            "Epoch 00043: val_accuracy did not improve from 0.88673\n",
            "\n",
            "Epoch 00043: ReduceLROnPlateau reducing learning rate to 0.001.\n",
            "123/123 [==============================] - 24s 197ms/step - loss: 0.0029 - accuracy: 0.9919 - val_loss: 0.1897 - val_accuracy: 0.8852\n",
            "Epoch 44/50\n",
            "123/123 [==============================] - ETA: 0s - loss: 0.0028 - accuracy: 0.9918\n",
            "Epoch 00044: val_accuracy did not improve from 0.88673\n",
            "123/123 [==============================] - 24s 197ms/step - loss: 0.0028 - accuracy: 0.9918 - val_loss: 0.1902 - val_accuracy: 0.8845\n",
            "Epoch 45/50\n",
            "123/123 [==============================] - ETA: 0s - loss: 0.0028 - accuracy: 0.9918\n",
            "Epoch 00045: val_accuracy did not improve from 0.88673\n",
            "Restoring model weights from the end of the best epoch.\n",
            "\n",
            "Epoch 00045: ReduceLROnPlateau reducing learning rate to 0.001.\n",
            "123/123 [==============================] - 24s 198ms/step - loss: 0.0028 - accuracy: 0.9918 - val_loss: 0.1918 - val_accuracy: 0.8852\n",
            "Epoch 00045: early stopping\n"
          ],
          "name": "stdout"
        },
        {
          "output_type": "display_data",
          "data": {
            "image/png": "[encoded data removed]",
            "text/plain": [
              "<Figure size 432x288 with 1 Axes>"
            ]
          },
          "metadata": {
            "tags": []
          }
        },
        {
          "output_type": "display_data",
          "data": {
            "image/png": "[encoded data removed]",
            "text/plain": [
              "<Figure size 432x288 with 1 Axes>"
            ]
          },
          "metadata": {
            "tags": []
          }
        }
      ]
    },
    {
      "cell_type": "markdown",
      "metadata": {
        "id": "T6m7ulnMgw4e"
      },
      "source": [
        "WE TRIED BOTH WITH MASKING LAYER AND WITHOUT IT:\n",
        "\n",
        "WE NOTICED THAT WITHOUT MASKING LAYER VALIDATION ACCURACY ARE HIGHER. WE SUPPOSED IT COULD BE BECAUSE PREDICTION OF PADDING ELEMENTS MIGHT BE EASIER TO GUESS CORRECTLY, THEREFORE WITH MASKING LAYER WE GET LOWER VALIDATION ACCURACY BUT WE BELIEVE IT IS PREFERABLE ANYWAY BECAUSE MORE TRUSTABLE."
      ]
    },
    {
      "cell_type": "markdown",
      "metadata": {
        "id": "uVKSlSsXLXKd"
      },
      "source": [
        "### Recalling best Model :"
      ]
    },
    {
      "cell_type": "code",
      "metadata": {
        "id": "FJn93IllneEh",
        "colab": {
          "base_uri": "https://localhost:8080/",
          "height": 52
        },
        "outputId": "87d29be6-4fdc-4957-e45d-fd5a509b5173"
      },
      "source": [
        "model_file = os.path.join(os.getcwd(), \"models\", model_name+\".h5\")\n",
        "bilstm_fc = tf.keras.models.load_model(model_file)\n",
        "\n",
        "'''\n",
        "Epoch 61/100\n",
        "123/123 [==============================] - ETA: 0s - loss: 0.0078 - accuracy: 0.9978\n",
        "Epoch 00061: val_accuracy improved from 0.96693 to 0.96736, saving model to /content/models/bilstm_fc.h5\n",
        "'''\n",
        "'''\n",
        "Epoch 39/100\n",
        "123/123 [==============================] - ETA: 0s - loss: 0.0134 - accuracy: 0.9964\n",
        "Epoch 00039: val_accuracy improved from 0.96539 to 0.96544, saving model to /content/models/bilstm_fc.h5\n",
        "'''\n",
        "'''\n",
        "Epoch 37/100\n",
        "123/123 [==============================] - ETA: 0s - loss: 0.0150 - accuracy: 0.9960\n",
        "Epoch 00037: val_accuracy improved from 0.96478 to 0.96526, saving model to /content/models/bilstm_fc.h5\n",
        "'''"
      ],
      "execution_count": null,
      "outputs": [
        {
          "output_type": "execute_result",
          "data": {
            "application/vnd.google.colaboratory.intrinsic+json": {
              "type": "string"
            },
            "text/plain": [
              "'\\nEpoch 37/100\\n123/123 [==============================] - ETA: 0s - loss: 0.0150 - accuracy: 0.9960\\nEpoch 00037: val_accuracy improved from 0.96478 to 0.96526, saving model to /content/models/bilstm_fc.h5\\n'"
            ]
          },
          "metadata": {
            "tags": []
          },
          "execution_count": 19
        }
      ]
    },
    {
      "cell_type": "markdown",
      "metadata": {
        "id": "8C3V3MgCtMDt"
      },
      "source": [
        "### Evaluation over validation set :"
      ]
    },
    {
      "cell_type": "code",
      "metadata": {
        "colab": {
          "base_uri": "https://localhost:8080/"
        },
        "id": "cU5QDPzbSzro",
        "outputId": "61ba2056-caf6-4b9a-eedd-c626a26e4602"
      },
      "source": [
        "print(\"best model over val_accuracy is at epoch: \", np.argmax(history.history['val_accuracy'])+1)\n",
        "print(\"with score: \", np.max(history.history['val_accuracy']))"
      ],
      "execution_count": null,
      "outputs": [
        {
          "output_type": "stream",
          "text": [
            "best model over val_accuracy is at epoch:  37\n",
            "with score:  0.8867331743240356\n"
          ],
          "name": "stdout"
        }
      ]
    },
    {
      "cell_type": "markdown",
      "metadata": {
        "id": "1AgGA8t_8pMU"
      },
      "source": [
        "# EXPERIMENT DOING SMALL MODIFICATIONS TO THE MODEL\n",
        "\n",
        "**Modifications:** experiment using a GRU instead of the LSTM, adding an additional LSTM layer, and using a CRF in addition to the LSTM. Each of this change must be done by itself (don't mix these modifications).\n",
        "\n",
        "**Training and Experiments:** all the experiments must involve only the training and validation sets."
      ]
    },
    {
      "cell_type": "markdown",
      "metadata": {
        "id": "f0fjywVjlLQ7"
      },
      "source": [
        "WE WANT TO ANNOVERATE EVERY MODEL'S VALIDATION ACCURACY IN ORDER TO EVENTUALLY DESIGNATE WHICH IS THE BEST MODEL. WE ALSO WANT TO STORE HOW MANY EPOCHS HAD BEEN NEEDED IN ORDER TO OBTAIN THAT RESULT, FOR FURTHER ANALYSIS AND CONSIDERATIONS :\n"
      ]
    },
    {
      "cell_type": "code",
      "metadata": {
        "id": "wGTRk8QLp9a_"
      },
      "source": [
        "# Dictionary that will be helpful once we need to confront the evaluations\n",
        "from collections import OrderedDict\n",
        "evaluations = OrderedDict()\n",
        "\n",
        "# storing best Baseline Model's epoch and val_accuracy scoring\n",
        "evaluations[model_name] = (bilstm_fc, np.max((history.history['val_accuracy'])), np.argmax(history.history['val_accuracy'])+1)"
      ],
      "execution_count": null,
      "outputs": []
    },
    {
      "cell_type": "markdown",
      "metadata": {
        "id": "EcA5mEeuURy5"
      },
      "source": [
        "## Alternative Model: GRU\n",
        "the model is structured as follow:\n",
        "- Bidirectional GRU Layer \n",
        "- Dense Layer "
      ]
    },
    {
      "cell_type": "markdown",
      "metadata": {
        "id": "DXOGiEGDXqmj"
      },
      "source": [
        "### Building the Model :"
      ]
    },
    {
      "cell_type": "code",
      "metadata": {
        "id": "cuG2LuKUUR7v"
      },
      "source": [
        "# WE USE THE SAME PARAMETERS AS IN THE BASELINE MODEL\n",
        "\n",
        "def build_model(label, rnn_units=rnn_units, learning_rate=lrn_rate, drop_out=drp_out):\n",
        "\n",
        "  model = tf.keras.Sequential(name='words_tagging')\n",
        "\n",
        "  model.add(tf.keras.layers.Input((None, emb_dimension), name='embedding_input'))\n",
        "\n",
        "  model.add(tf.keras.layers.Masking(mask_value=0.0))\n",
        "\n",
        "  model.add(tf.keras.layers.Bidirectional(tf.keras.layers.GRU(rnn_units,\n",
        "                          return_sequences=True,\n",
        "                          dropout=drop_out,\n",
        "                          name='biGRU')))\n",
        "  \n",
        "  model.add(tf.keras.layers.Dense(label, activation='softmax', name='dense'))\n",
        "\n",
        "  optimizer = tf.keras.optimizers.Adam(learning_rate=learning_rate)\n",
        "  \n",
        "  model.compile(loss='categorical_crossentropy', metrics=\"accuracy\", optimizer=optimizer)\n",
        "  \n",
        "  model.summary()\n",
        "  \n",
        "  return model"
      ],
      "execution_count": null,
      "outputs": []
    },
    {
      "cell_type": "code",
      "metadata": {
        "id": "v8-uyQjRMEPH",
        "colab": {
          "base_uri": "https://localhost:8080/"
        },
        "outputId": "c927c88b-8b50-4fda-94bb-9bc9ae5ddb94"
      },
      "source": [
        "model = build_model(len(tag_to_idx))"
      ],
      "execution_count": null,
      "outputs": [
        {
          "output_type": "stream",
          "text": [
            "Model: \"words_tagging\"\n",
            "_________________________________________________________________\n",
            "Layer (type)                 Output Shape              Param #   \n",
            "=================================================================\n",
            "masking_1 (Masking)          (None, None, 100)         0         \n",
            "_________________________________________________________________\n",
            "bidirectional_1 (Bidirection (None, None, 100)         45600     \n",
            "_________________________________________________________________\n",
            "dense (Dense)                (None, None, 46)          4646      \n",
            "=================================================================\n",
            "Total params: 50,246\n",
            "Trainable params: 50,246\n",
            "Non-trainable params: 0\n",
            "_________________________________________________________________\n"
          ],
          "name": "stdout"
        }
      ]
    },
    {
      "cell_type": "markdown",
      "metadata": {
        "id": "4Ik4xWgkXttW"
      },
      "source": [
        "### Plotting the Model :"
      ]
    },
    {
      "cell_type": "code",
      "metadata": {
        "colab": {
          "base_uri": "https://localhost:8080/",
          "height": 422
        },
        "id": "KcuBAeV_jxOC",
        "outputId": "5219d64d-66db-4967-b76e-a6d320f891b6"
      },
      "source": [
        "# Plot the model structure\n",
        "tf.keras.utils.plot_model(model, show_shapes=True, show_layer_names=True)"
      ],
      "execution_count": null,
      "outputs": [
        {
          "output_type": "execute_result",
          "data": {
            "image/png": "[encoded data removed]",
            "text/plain": [
              "<IPython.core.display.Image object>"
            ]
          },
          "metadata": {
            "tags": []
          },
          "execution_count": 24
        }
      ]
    },
    {
      "cell_type": "markdown",
      "metadata": {
        "id": "fPSj7eI7XwqR"
      },
      "source": [
        "### Training the Model :"
      ]
    },
    {
      "cell_type": "code",
      "metadata": {
        "id": "EmteqeoDUsWZ",
        "colab": {
          "base_uri": "https://localhost:8080/",
          "height": 1000
        },
        "outputId": "cea30147-1b41-476b-d02a-4e0bbbbd9260"
      },
      "source": [
        "# folder and model_name are useful because we want to save through callback the best performing model\n",
        "folder = os.getcwd()\n",
        "model_name = \"bigru_fc\"\n",
        "\n",
        "history = train_model(folder, model, model_name, X_train, Y_train, X_val, Y_val, btch_size, n_epochs)"
      ],
      "execution_count": null,
      "outputs": [
        {
          "output_type": "stream",
          "text": [
            "Epoch 1/50\n",
            "123/123 [==============================] - ETA: 0s - loss: 0.0800 - accuracy: 0.7837\n",
            "Epoch 00001: val_accuracy improved from -inf to 0.85383, saving model to /content/models/bigru_fc.h5\n",
            "123/123 [==============================] - 26s 208ms/step - loss: 0.0800 - accuracy: 0.7837 - val_loss: 0.1683 - val_accuracy: 0.8538\n",
            "Epoch 2/50\n",
            "123/123 [==============================] - ETA: 0s - loss: 0.0334 - accuracy: 0.9020\n",
            "Epoch 00002: val_accuracy improved from 0.85383 to 0.86582, saving model to /content/models/bigru_fc.h5\n",
            "123/123 [==============================] - 23s 189ms/step - loss: 0.0334 - accuracy: 0.9020 - val_loss: 0.1555 - val_accuracy: 0.8658\n",
            "Epoch 3/50\n",
            "123/123 [==============================] - ETA: 0s - loss: 0.0255 - accuracy: 0.9236\n",
            "Epoch 00003: val_accuracy improved from 0.86582 to 0.86961, saving model to /content/models/bigru_fc.h5\n",
            "123/123 [==============================] - 23s 189ms/step - loss: 0.0255 - accuracy: 0.9236 - val_loss: 0.1510 - val_accuracy: 0.8696\n",
            "Epoch 4/50\n",
            "123/123 [==============================] - ETA: 0s - loss: 0.0213 - accuracy: 0.9334\n",
            "Epoch 00004: val_accuracy improved from 0.86961 to 0.87682, saving model to /content/models/bigru_fc.h5\n",
            "123/123 [==============================] - 23s 189ms/step - loss: 0.0213 - accuracy: 0.9334 - val_loss: 0.1506 - val_accuracy: 0.8768\n",
            "Epoch 5/50\n",
            "123/123 [==============================] - ETA: 0s - loss: 0.0185 - accuracy: 0.9413\n",
            "Epoch 00005: val_accuracy did not improve from 0.87682\n",
            "123/123 [==============================] - 23s 189ms/step - loss: 0.0185 - accuracy: 0.9413 - val_loss: 0.1566 - val_accuracy: 0.8741\n",
            "Epoch 6/50\n",
            "123/123 [==============================] - ETA: 0s - loss: 0.0163 - accuracy: 0.9463\n",
            "Epoch 00006: val_accuracy did not improve from 0.87682\n",
            "\n",
            "Epoch 00006: ReduceLROnPlateau reducing learning rate to 0.004999999888241291.\n",
            "123/123 [==============================] - 23s 188ms/step - loss: 0.0163 - accuracy: 0.9463 - val_loss: 0.1638 - val_accuracy: 0.8749\n",
            "Epoch 7/50\n",
            "123/123 [==============================] - ETA: 0s - loss: 0.0125 - accuracy: 0.9601\n",
            "Epoch 00007: val_accuracy improved from 0.87682 to 0.88058, saving model to /content/models/bigru_fc.h5\n",
            "123/123 [==============================] - 23s 189ms/step - loss: 0.0125 - accuracy: 0.9601 - val_loss: 0.1601 - val_accuracy: 0.8806\n",
            "Epoch 8/50\n",
            "123/123 [==============================] - ETA: 0s - loss: 0.0108 - accuracy: 0.9645\n",
            "Epoch 00008: val_accuracy improved from 0.88058 to 0.88077, saving model to /content/models/bigru_fc.h5\n",
            "123/123 [==============================] - 23s 189ms/step - loss: 0.0108 - accuracy: 0.9645 - val_loss: 0.1641 - val_accuracy: 0.8808\n",
            "Epoch 9/50\n",
            "123/123 [==============================] - ETA: 0s - loss: 0.0102 - accuracy: 0.9677\n",
            "Epoch 00009: val_accuracy improved from 0.88077 to 0.88186, saving model to /content/models/bigru_fc.h5\n",
            "123/123 [==============================] - 23s 189ms/step - loss: 0.0102 - accuracy: 0.9677 - val_loss: 0.1656 - val_accuracy: 0.8819\n",
            "Epoch 10/50\n",
            "123/123 [==============================] - ETA: 0s - loss: 0.0095 - accuracy: 0.9685\n",
            "Epoch 00010: val_accuracy did not improve from 0.88186\n",
            "123/123 [==============================] - 23s 189ms/step - loss: 0.0095 - accuracy: 0.9685 - val_loss: 0.1696 - val_accuracy: 0.8808\n",
            "Epoch 11/50\n",
            "123/123 [==============================] - ETA: 0s - loss: 0.0089 - accuracy: 0.9714\n",
            "Epoch 00011: val_accuracy improved from 0.88186 to 0.88218, saving model to /content/models/bigru_fc.h5\n",
            "123/123 [==============================] - 23s 188ms/step - loss: 0.0089 - accuracy: 0.9714 - val_loss: 0.1710 - val_accuracy: 0.8822\n",
            "Epoch 12/50\n",
            "123/123 [==============================] - ETA: 0s - loss: 0.0087 - accuracy: 0.9715\n",
            "Epoch 00012: val_accuracy did not improve from 0.88218\n",
            "123/123 [==============================] - 23s 188ms/step - loss: 0.0087 - accuracy: 0.9715 - val_loss: 0.1785 - val_accuracy: 0.8769\n",
            "Epoch 13/50\n",
            "123/123 [==============================] - ETA: 0s - loss: 0.0084 - accuracy: 0.9720\n",
            "Epoch 00013: val_accuracy did not improve from 0.88218\n",
            "\n",
            "Epoch 00013: ReduceLROnPlateau reducing learning rate to 0.0024999999441206455.\n",
            "123/123 [==============================] - 23s 189ms/step - loss: 0.0084 - accuracy: 0.9720 - val_loss: 0.1767 - val_accuracy: 0.8773\n",
            "Epoch 14/50\n",
            "123/123 [==============================] - ETA: 0s - loss: 0.0069 - accuracy: 0.9781\n",
            "Epoch 00014: val_accuracy did not improve from 0.88218\n",
            "123/123 [==============================] - 23s 187ms/step - loss: 0.0069 - accuracy: 0.9781 - val_loss: 0.1765 - val_accuracy: 0.8819\n",
            "Epoch 15/50\n",
            "123/123 [==============================] - ETA: 0s - loss: 0.0067 - accuracy: 0.9780\n",
            "Epoch 00015: val_accuracy improved from 0.88218 to 0.88327, saving model to /content/models/bigru_fc.h5\n",
            "123/123 [==============================] - 23s 188ms/step - loss: 0.0067 - accuracy: 0.9780 - val_loss: 0.1774 - val_accuracy: 0.8833\n",
            "Epoch 16/50\n",
            "123/123 [==============================] - ETA: 0s - loss: 0.0063 - accuracy: 0.9798\n",
            "Epoch 00016: val_accuracy did not improve from 0.88327\n",
            "123/123 [==============================] - 23s 189ms/step - loss: 0.0063 - accuracy: 0.9798 - val_loss: 0.1788 - val_accuracy: 0.8826\n",
            "Epoch 17/50\n",
            "123/123 [==============================] - ETA: 0s - loss: 0.0059 - accuracy: 0.9814\n",
            "Epoch 00017: val_accuracy did not improve from 0.88327\n",
            "\n",
            "Epoch 00017: ReduceLROnPlateau reducing learning rate to 0.0012499999720603228.\n",
            "123/123 [==============================] - 23s 188ms/step - loss: 0.0059 - accuracy: 0.9814 - val_loss: 0.1798 - val_accuracy: 0.8828\n",
            "Epoch 18/50\n",
            "123/123 [==============================] - ETA: 0s - loss: 0.0055 - accuracy: 0.9829\n",
            "Epoch 00018: val_accuracy improved from 0.88327 to 0.88356, saving model to /content/models/bigru_fc.h5\n",
            "123/123 [==============================] - 23s 189ms/step - loss: 0.0055 - accuracy: 0.9829 - val_loss: 0.1805 - val_accuracy: 0.8836\n",
            "Epoch 19/50\n",
            "123/123 [==============================] - ETA: 0s - loss: 0.0054 - accuracy: 0.9829\n",
            "Epoch 00019: val_accuracy did not improve from 0.88356\n",
            "123/123 [==============================] - 23s 188ms/step - loss: 0.0054 - accuracy: 0.9829 - val_loss: 0.1812 - val_accuracy: 0.8829\n",
            "Epoch 20/50\n",
            "123/123 [==============================] - ETA: 0s - loss: 0.0051 - accuracy: 0.9840\n",
            "Epoch 00020: val_accuracy improved from 0.88356 to 0.88426, saving model to /content/models/bigru_fc.h5\n",
            "123/123 [==============================] - 23s 188ms/step - loss: 0.0051 - accuracy: 0.9840 - val_loss: 0.1814 - val_accuracy: 0.8843\n",
            "Epoch 21/50\n",
            "123/123 [==============================] - ETA: 0s - loss: 0.0050 - accuracy: 0.9841\n",
            "Epoch 00021: val_accuracy did not improve from 0.88426\n",
            "123/123 [==============================] - 23s 188ms/step - loss: 0.0050 - accuracy: 0.9841 - val_loss: 0.1820 - val_accuracy: 0.8830\n",
            "Epoch 22/50\n",
            "123/123 [==============================] - ETA: 0s - loss: 0.0050 - accuracy: 0.9844\n",
            "Epoch 00022: val_accuracy did not improve from 0.88426\n",
            "\n",
            "Epoch 00022: ReduceLROnPlateau reducing learning rate to 0.001.\n",
            "123/123 [==============================] - 23s 188ms/step - loss: 0.0050 - accuracy: 0.9844 - val_loss: 0.1815 - val_accuracy: 0.8830\n",
            "Epoch 23/50\n",
            "123/123 [==============================] - ETA: 0s - loss: 0.0048 - accuracy: 0.9851\n",
            "Epoch 00023: val_accuracy did not improve from 0.88426\n",
            "123/123 [==============================] - 23s 188ms/step - loss: 0.0048 - accuracy: 0.9851 - val_loss: 0.1832 - val_accuracy: 0.8821\n",
            "Epoch 24/50\n",
            "123/123 [==============================] - ETA: 0s - loss: 0.0046 - accuracy: 0.9858\n",
            "Epoch 00024: val_accuracy did not improve from 0.88426\n",
            "\n",
            "Epoch 00024: ReduceLROnPlateau reducing learning rate to 0.001.\n",
            "123/123 [==============================] - 23s 188ms/step - loss: 0.0046 - accuracy: 0.9858 - val_loss: 0.1842 - val_accuracy: 0.8823\n",
            "Epoch 25/50\n",
            "123/123 [==============================] - ETA: 0s - loss: 0.0048 - accuracy: 0.9850\n",
            "Epoch 00025: val_accuracy did not improve from 0.88426\n",
            "123/123 [==============================] - 23s 188ms/step - loss: 0.0048 - accuracy: 0.9850 - val_loss: 0.1843 - val_accuracy: 0.8835\n",
            "Epoch 26/50\n",
            "123/123 [==============================] - ETA: 0s - loss: 0.0045 - accuracy: 0.9859\n",
            "Epoch 00026: val_accuracy did not improve from 0.88426\n",
            "\n",
            "Epoch 00026: ReduceLROnPlateau reducing learning rate to 0.001.\n",
            "123/123 [==============================] - 23s 188ms/step - loss: 0.0045 - accuracy: 0.9859 - val_loss: 0.1850 - val_accuracy: 0.8823\n",
            "Epoch 27/50\n",
            "123/123 [==============================] - ETA: 0s - loss: 0.0045 - accuracy: 0.9865\n",
            "Epoch 00027: val_accuracy did not improve from 0.88426\n",
            "123/123 [==============================] - 23s 188ms/step - loss: 0.0045 - accuracy: 0.9865 - val_loss: 0.1868 - val_accuracy: 0.8830\n",
            "Epoch 28/50\n",
            "123/123 [==============================] - ETA: 0s - loss: 0.0045 - accuracy: 0.9853\n",
            "Epoch 00028: val_accuracy did not improve from 0.88426\n",
            "Restoring model weights from the end of the best epoch.\n",
            "\n",
            "Epoch 00028: ReduceLROnPlateau reducing learning rate to 0.001.\n",
            "123/123 [==============================] - 23s 188ms/step - loss: 0.0045 - accuracy: 0.9853 - val_loss: 0.1867 - val_accuracy: 0.8826\n",
            "Epoch 00028: early stopping\n"
          ],
          "name": "stdout"
        },
        {
          "output_type": "display_data",
          "data": {
            "image/png": "[encoded data removed]",
            "text/plain": [
              "<Figure size 432x288 with 1 Axes>"
            ]
          },
          "metadata": {
            "tags": []
          }
        },
        {
          "output_type": "display_data",
          "data": {
            "image/png": "[encoded data removed]",
            "text/plain": [
              "<Figure size 432x288 with 1 Axes>"
            ]
          },
          "metadata": {
            "tags": []
          }
        }
      ]
    },
    {
      "cell_type": "markdown",
      "metadata": {
        "id": "vs8GHLgAX1PC"
      },
      "source": [
        "### Recalling best Model :"
      ]
    },
    {
      "cell_type": "code",
      "metadata": {
        "id": "k2eGzxlxM5WH"
      },
      "source": [
        "model_file = os.path.join(os.getcwd(), \"models\", model_name+\".h5\")\n",
        "bigru_fc = tf.keras.models.load_model(model_file)"
      ],
      "execution_count": null,
      "outputs": []
    },
    {
      "cell_type": "markdown",
      "metadata": {
        "id": "sujNneOBX34l"
      },
      "source": [
        "### Evaluation over validation set :"
      ]
    },
    {
      "cell_type": "code",
      "metadata": {
        "id": "CVN-RZlx7Ukm"
      },
      "source": [
        "# storing best Model's epoch and val_accuracy scoring\n",
        "evaluations[model_name] = (bigru_fc, np.max((history.history['val_accuracy'])), np.argmax(history.history['val_accuracy'])+1)"
      ],
      "execution_count": null,
      "outputs": []
    },
    {
      "cell_type": "markdown",
      "metadata": {
        "id": "DvsTaLeiVaRo"
      },
      "source": [
        "## Alternative Model : two LSTM\n",
        "The model is structured as follow:\n",
        "- Bidirectional LSTM Layer\n",
        "- Bidirectional LSTM Layer\n",
        "- Dense Layer\n"
      ]
    },
    {
      "cell_type": "markdown",
      "metadata": {
        "id": "itp02SQnYAkU"
      },
      "source": [
        "### Building the Model :"
      ]
    },
    {
      "cell_type": "code",
      "metadata": {
        "id": "9k6XXNiNUsy1"
      },
      "source": [
        "# WE USE THE SAME PARAMETERS AS IN THE BASELINE MODEL\n",
        "\n",
        "def build_model(label, rnn_units=rnn_units, learning_rate=lrn_rate, drop_out=drp_out):\n",
        "\n",
        "  model = tf.keras.Sequential(name='words_tagging')\n",
        "\n",
        "  model.add(tf.keras.layers.Input((None, emb_dimension), name='embedding_input'))\n",
        "\n",
        "  model.add(tf.keras.layers.Masking(mask_value=0.0))\n",
        "\n",
        "  model.add(tf.keras.layers.Bidirectional(tf.keras.layers.LSTM(rnn_units,\n",
        "                                                                return_sequences=True,\n",
        "                                                                dropout=drop_out,\n",
        "                                                                name='bilstm1'),\n",
        "                                          merge_mode=\"concat\"))\n",
        "  \n",
        "  model.add(tf.keras.layers.Bidirectional(tf.keras.layers.LSTM(rnn_units,\n",
        "                                                                return_sequences=True,\n",
        "                                                                dropout=drop_out,\n",
        "                                                                name='bilstm2'),\n",
        "                                          merge_mode=\"concat\"))\n",
        "  \n",
        "  model.add(tf.keras.layers.Dense(label, activation='softmax', name='dense'))\n",
        "\n",
        "  optimizer = tf.keras.optimizers.Adam(learning_rate=learning_rate)\n",
        "  \n",
        "  model.compile(loss='categorical_crossentropy', metrics=\"accuracy\", optimizer=optimizer)\n",
        "  \n",
        "  model.summary()\n",
        "  \n",
        "  return model"
      ],
      "execution_count": null,
      "outputs": []
    },
    {
      "cell_type": "code",
      "metadata": {
        "id": "Zu1ENMVsNgaA",
        "colab": {
          "base_uri": "https://localhost:8080/"
        },
        "outputId": "b1e20ee5-e89b-4f75-ee57-a2771c727ac8"
      },
      "source": [
        "model = build_model(len(tag_to_idx))"
      ],
      "execution_count": null,
      "outputs": [
        {
          "output_type": "stream",
          "text": [
            "Model: \"words_tagging\"\n",
            "_________________________________________________________________\n",
            "Layer (type)                 Output Shape              Param #   \n",
            "=================================================================\n",
            "masking_2 (Masking)          (None, None, 100)         0         \n",
            "_________________________________________________________________\n",
            "bidirectional_2 (Bidirection (None, None, 100)         60400     \n",
            "_________________________________________________________________\n",
            "bidirectional_3 (Bidirection (None, None, 100)         60400     \n",
            "_________________________________________________________________\n",
            "dense (Dense)                (None, None, 46)          4646      \n",
            "=================================================================\n",
            "Total params: 125,446\n",
            "Trainable params: 125,446\n",
            "Non-trainable params: 0\n",
            "_________________________________________________________________\n"
          ],
          "name": "stdout"
        }
      ]
    },
    {
      "cell_type": "markdown",
      "metadata": {
        "id": "PdguWjfaYDn4"
      },
      "source": [
        "### Plotting the Model :"
      ]
    },
    {
      "cell_type": "code",
      "metadata": {
        "colab": {
          "base_uri": "https://localhost:8080/",
          "height": 533
        },
        "id": "TO_gaJ7JjyRA",
        "outputId": "81993727-bb1a-442c-ce0a-4c9de0a270c7"
      },
      "source": [
        "# Plot the model structure\n",
        "tf.keras.utils.plot_model(model, show_shapes=True, show_layer_names=True)"
      ],
      "execution_count": null,
      "outputs": [
        {
          "output_type": "execute_result",
          "data": {
            "image/png": "[encoded data removed]",
            "text/plain": [
              "<IPython.core.display.Image object>"
            ]
          },
          "metadata": {
            "tags": []
          },
          "execution_count": 30
        }
      ]
    },
    {
      "cell_type": "markdown",
      "metadata": {
        "id": "sFd_WzWBYGl1"
      },
      "source": [
        "### Training the Model :"
      ]
    },
    {
      "cell_type": "code",
      "metadata": {
        "id": "w9he_0KKNn8r",
        "colab": {
          "base_uri": "https://localhost:8080/",
          "height": 1000
        },
        "outputId": "88704675-2f59-4a20-9eee-ec6d2d6e3e6e"
      },
      "source": [
        "# folder and model_name are useful because we want to save through callback the best performing model\n",
        "folder = os.getcwd()\n",
        "model_name = \"doublebilstm_fc\"\n",
        "\n",
        "history = train_model(folder, model, model_name, X_train, Y_train, X_val, Y_val, btch_size, n_epochs)"
      ],
      "execution_count": null,
      "outputs": [
        {
          "output_type": "stream",
          "text": [
            "Epoch 1/50\n",
            "123/123 [==============================] - ETA: 0s - loss: 0.1199 - accuracy: 0.6661\n",
            "Epoch 00001: val_accuracy improved from -inf to 0.83821, saving model to /content/models/doublebilstm_fc.h5\n",
            "123/123 [==============================] - 58s 472ms/step - loss: 0.1199 - accuracy: 0.6661 - val_loss: 0.1747 - val_accuracy: 0.8382\n",
            "Epoch 2/50\n",
            "123/123 [==============================] - ETA: 0s - loss: 0.0377 - accuracy: 0.8900\n",
            "Epoch 00002: val_accuracy improved from 0.83821 to 0.87227, saving model to /content/models/doublebilstm_fc.h5\n",
            "123/123 [==============================] - 51s 413ms/step - loss: 0.0377 - accuracy: 0.8900 - val_loss: 0.1406 - val_accuracy: 0.8723\n",
            "Epoch 3/50\n",
            "123/123 [==============================] - ETA: 0s - loss: 0.0263 - accuracy: 0.9198\n",
            "Epoch 00003: val_accuracy improved from 0.87227 to 0.87856, saving model to /content/models/doublebilstm_fc.h5\n",
            "123/123 [==============================] - 51s 413ms/step - loss: 0.0263 - accuracy: 0.9198 - val_loss: 0.1402 - val_accuracy: 0.8786\n",
            "Epoch 4/50\n",
            "123/123 [==============================] - ETA: 0s - loss: 0.0211 - accuracy: 0.9348\n",
            "Epoch 00004: val_accuracy improved from 0.87856 to 0.88391, saving model to /content/models/doublebilstm_fc.h5\n",
            "123/123 [==============================] - 51s 412ms/step - loss: 0.0211 - accuracy: 0.9348 - val_loss: 0.1384 - val_accuracy: 0.8839\n",
            "Epoch 5/50\n",
            "123/123 [==============================] - ETA: 0s - loss: 0.0173 - accuracy: 0.9452\n",
            "Epoch 00005: val_accuracy did not improve from 0.88391\n",
            "123/123 [==============================] - 51s 414ms/step - loss: 0.0173 - accuracy: 0.9452 - val_loss: 0.1475 - val_accuracy: 0.8808\n",
            "Epoch 6/50\n",
            "123/123 [==============================] - ETA: 0s - loss: 0.0147 - accuracy: 0.9531\n",
            "Epoch 00006: val_accuracy improved from 0.88391 to 0.88907, saving model to /content/models/doublebilstm_fc.h5\n",
            "123/123 [==============================] - 51s 414ms/step - loss: 0.0147 - accuracy: 0.9531 - val_loss: 0.1457 - val_accuracy: 0.8891\n",
            "Epoch 7/50\n",
            "123/123 [==============================] - ETA: 0s - loss: 0.0129 - accuracy: 0.9586\n",
            "Epoch 00007: val_accuracy did not improve from 0.88907\n",
            "123/123 [==============================] - 51s 414ms/step - loss: 0.0129 - accuracy: 0.9586 - val_loss: 0.1477 - val_accuracy: 0.8870\n",
            "Epoch 8/50\n",
            "123/123 [==============================] - ETA: 0s - loss: 0.0119 - accuracy: 0.9608\n",
            "Epoch 00008: val_accuracy did not improve from 0.88907\n",
            "\n",
            "Epoch 00008: ReduceLROnPlateau reducing learning rate to 0.004999999888241291.\n",
            "123/123 [==============================] - 51s 414ms/step - loss: 0.0119 - accuracy: 0.9608 - val_loss: 0.1611 - val_accuracy: 0.8846\n",
            "Epoch 9/50\n",
            "123/123 [==============================] - ETA: 0s - loss: 0.0086 - accuracy: 0.9709\n",
            "Epoch 00009: val_accuracy improved from 0.88907 to 0.89360, saving model to /content/models/doublebilstm_fc.h5\n",
            "123/123 [==============================] - 51s 414ms/step - loss: 0.0086 - accuracy: 0.9709 - val_loss: 0.1532 - val_accuracy: 0.8936\n",
            "Epoch 10/50\n",
            "123/123 [==============================] - ETA: 0s - loss: 0.0076 - accuracy: 0.9745\n",
            "Epoch 00010: val_accuracy did not improve from 0.89360\n",
            "123/123 [==============================] - 51s 413ms/step - loss: 0.0076 - accuracy: 0.9745 - val_loss: 0.1565 - val_accuracy: 0.8934\n",
            "Epoch 11/50\n",
            "123/123 [==============================] - ETA: 0s - loss: 0.0068 - accuracy: 0.9772\n",
            "Epoch 00011: val_accuracy improved from 0.89360 to 0.89379, saving model to /content/models/doublebilstm_fc.h5\n",
            "123/123 [==============================] - 51s 415ms/step - loss: 0.0068 - accuracy: 0.9772 - val_loss: 0.1610 - val_accuracy: 0.8938\n",
            "Epoch 12/50\n",
            "123/123 [==============================] - ETA: 0s - loss: 0.0063 - accuracy: 0.9792\n",
            "Epoch 00012: val_accuracy improved from 0.89379 to 0.89488, saving model to /content/models/doublebilstm_fc.h5\n",
            "123/123 [==============================] - 51s 413ms/step - loss: 0.0063 - accuracy: 0.9792 - val_loss: 0.1654 - val_accuracy: 0.8949\n",
            "Epoch 13/50\n",
            "123/123 [==============================] - ETA: 0s - loss: 0.0063 - accuracy: 0.9786\n",
            "Epoch 00013: val_accuracy did not improve from 0.89488\n",
            "123/123 [==============================] - 55s 445ms/step - loss: 0.0063 - accuracy: 0.9786 - val_loss: 0.1658 - val_accuracy: 0.8930\n",
            "Epoch 14/50\n",
            "123/123 [==============================] - ETA: 0s - loss: 0.0055 - accuracy: 0.9809\n",
            "Epoch 00014: val_accuracy did not improve from 0.89488\n",
            "\n",
            "Epoch 00014: ReduceLROnPlateau reducing learning rate to 0.0024999999441206455.\n",
            "123/123 [==============================] - 51s 413ms/step - loss: 0.0055 - accuracy: 0.9809 - val_loss: 0.1708 - val_accuracy: 0.8904\n",
            "Epoch 15/50\n",
            "123/123 [==============================] - ETA: 0s - loss: 0.0050 - accuracy: 0.9829\n",
            "Epoch 00015: val_accuracy improved from 0.89488 to 0.89558, saving model to /content/models/doublebilstm_fc.h5\n",
            "123/123 [==============================] - 51s 414ms/step - loss: 0.0050 - accuracy: 0.9829 - val_loss: 0.1678 - val_accuracy: 0.8956\n",
            "Epoch 16/50\n",
            "123/123 [==============================] - ETA: 0s - loss: 0.0044 - accuracy: 0.9853\n",
            "Epoch 00016: val_accuracy did not improve from 0.89558\n",
            "123/123 [==============================] - 51s 413ms/step - loss: 0.0044 - accuracy: 0.9853 - val_loss: 0.1686 - val_accuracy: 0.8954\n",
            "Epoch 17/50\n",
            "123/123 [==============================] - ETA: 0s - loss: 0.0044 - accuracy: 0.9852\n",
            "Epoch 00017: val_accuracy improved from 0.89558 to 0.89635, saving model to /content/models/doublebilstm_fc.h5\n",
            "123/123 [==============================] - 51s 415ms/step - loss: 0.0044 - accuracy: 0.9852 - val_loss: 0.1712 - val_accuracy: 0.8964\n",
            "Epoch 18/50\n",
            "123/123 [==============================] - ETA: 0s - loss: 0.0039 - accuracy: 0.9869\n",
            "Epoch 00018: val_accuracy did not improve from 0.89635\n",
            "123/123 [==============================] - 51s 414ms/step - loss: 0.0039 - accuracy: 0.9869 - val_loss: 0.1702 - val_accuracy: 0.8960\n",
            "Epoch 19/50\n",
            "123/123 [==============================] - ETA: 0s - loss: 0.0038 - accuracy: 0.9873\n",
            "Epoch 00019: val_accuracy improved from 0.89635 to 0.89645, saving model to /content/models/doublebilstm_fc.h5\n",
            "\n",
            "Epoch 00019: ReduceLROnPlateau reducing learning rate to 0.0012499999720603228.\n",
            "123/123 [==============================] - 51s 415ms/step - loss: 0.0038 - accuracy: 0.9873 - val_loss: 0.1730 - val_accuracy: 0.8964\n",
            "Epoch 20/50\n",
            "123/123 [==============================] - ETA: 0s - loss: 0.0035 - accuracy: 0.9883\n",
            "Epoch 00020: val_accuracy improved from 0.89645 to 0.89680, saving model to /content/models/doublebilstm_fc.h5\n",
            "123/123 [==============================] - 51s 414ms/step - loss: 0.0035 - accuracy: 0.9883 - val_loss: 0.1735 - val_accuracy: 0.8968\n",
            "Epoch 21/50\n",
            "123/123 [==============================] - ETA: 0s - loss: 0.0032 - accuracy: 0.9895\n",
            "Epoch 00021: val_accuracy improved from 0.89680 to 0.89703, saving model to /content/models/doublebilstm_fc.h5\n",
            "123/123 [==============================] - 51s 415ms/step - loss: 0.0032 - accuracy: 0.9895 - val_loss: 0.1709 - val_accuracy: 0.8970\n",
            "Epoch 22/50\n",
            "123/123 [==============================] - ETA: 0s - loss: 0.0032 - accuracy: 0.9894\n",
            "Epoch 00022: val_accuracy did not improve from 0.89703\n",
            "123/123 [==============================] - 51s 414ms/step - loss: 0.0032 - accuracy: 0.9894 - val_loss: 0.1720 - val_accuracy: 0.8966\n",
            "Epoch 23/50\n",
            "123/123 [==============================] - ETA: 0s - loss: 0.0031 - accuracy: 0.9893\n",
            "Epoch 00023: val_accuracy did not improve from 0.89703\n",
            "\n",
            "Epoch 00023: ReduceLROnPlateau reducing learning rate to 0.001.\n",
            "123/123 [==============================] - 51s 414ms/step - loss: 0.0031 - accuracy: 0.9893 - val_loss: 0.1730 - val_accuracy: 0.8964\n",
            "Epoch 24/50\n",
            "123/123 [==============================] - ETA: 0s - loss: 0.0029 - accuracy: 0.9905\n",
            "Epoch 00024: val_accuracy did not improve from 0.89703\n",
            "123/123 [==============================] - 51s 414ms/step - loss: 0.0029 - accuracy: 0.9905 - val_loss: 0.1761 - val_accuracy: 0.8969\n",
            "Epoch 25/50\n",
            "123/123 [==============================] - ETA: 0s - loss: 0.0031 - accuracy: 0.9899\n",
            "Epoch 00025: val_accuracy did not improve from 0.89703\n",
            "\n",
            "Epoch 00025: ReduceLROnPlateau reducing learning rate to 0.001.\n",
            "123/123 [==============================] - 51s 414ms/step - loss: 0.0031 - accuracy: 0.9899 - val_loss: 0.1770 - val_accuracy: 0.8969\n",
            "Epoch 26/50\n",
            "123/123 [==============================] - ETA: 0s - loss: 0.0029 - accuracy: 0.9904\n",
            "Epoch 00026: val_accuracy did not improve from 0.89703\n",
            "123/123 [==============================] - 51s 414ms/step - loss: 0.0029 - accuracy: 0.9904 - val_loss: 0.1774 - val_accuracy: 0.8960\n",
            "Epoch 27/50\n",
            "123/123 [==============================] - ETA: 0s - loss: 0.0029 - accuracy: 0.9907\n",
            "Epoch 00027: val_accuracy did not improve from 0.89703\n",
            "\n",
            "Epoch 00027: ReduceLROnPlateau reducing learning rate to 0.001.\n",
            "123/123 [==============================] - 51s 414ms/step - loss: 0.0029 - accuracy: 0.9907 - val_loss: 0.1788 - val_accuracy: 0.8962\n",
            "Epoch 28/50\n",
            "123/123 [==============================] - ETA: 0s - loss: 0.0027 - accuracy: 0.9913\n",
            "Epoch 00028: val_accuracy did not improve from 0.89703\n",
            "123/123 [==============================] - 51s 413ms/step - loss: 0.0027 - accuracy: 0.9913 - val_loss: 0.1795 - val_accuracy: 0.8967\n",
            "Epoch 29/50\n",
            "123/123 [==============================] - ETA: 0s - loss: 0.0026 - accuracy: 0.9918\n",
            "Epoch 00029: val_accuracy did not improve from 0.89703\n",
            "Restoring model weights from the end of the best epoch.\n",
            "\n",
            "Epoch 00029: ReduceLROnPlateau reducing learning rate to 0.001.\n",
            "123/123 [==============================] - 51s 415ms/step - loss: 0.0026 - accuracy: 0.9918 - val_loss: 0.1790 - val_accuracy: 0.8961\n",
            "Epoch 00029: early stopping\n"
          ],
          "name": "stdout"
        },
        {
          "output_type": "display_data",
          "data": {
            "image/png": "[encoded data removed]",
            "text/plain": [
              "<Figure size 432x288 with 1 Axes>"
            ]
          },
          "metadata": {
            "tags": []
          }
        },
        {
          "output_type": "display_data",
          "data": {
            "image/png": "[encoded data removed]",
            "text/plain": [
              "<Figure size 432x288 with 1 Axes>"
            ]
          },
          "metadata": {
            "tags": []
          }
        }
      ]
    },
    {
      "cell_type": "markdown",
      "metadata": {
        "id": "scduNMHCYJd7"
      },
      "source": [
        "### Recalling best Model :"
      ]
    },
    {
      "cell_type": "code",
      "metadata": {
        "id": "KPz9L4A-Nn8r"
      },
      "source": [
        "model_file = os.path.join(os.getcwd(), \"models\", model_name+\".h5\")\n",
        "doublebilstm_fc = tf.keras.models.load_model(model_file)"
      ],
      "execution_count": null,
      "outputs": []
    },
    {
      "cell_type": "markdown",
      "metadata": {
        "id": "Ym7phycbYLwH"
      },
      "source": [
        "### Evaluation over validation set :"
      ]
    },
    {
      "cell_type": "code",
      "metadata": {
        "id": "qlEtO57O7kOv"
      },
      "source": [
        "# storing best Model's epoch and val_accuracy scoring\n",
        "evaluations[model_name] = (doublebilstm_fc, np.max((history.history['val_accuracy'])), np.argmax(history.history['val_accuracy'])+1)"
      ],
      "execution_count": null,
      "outputs": []
    },
    {
      "cell_type": "markdown",
      "metadata": {
        "id": "KfjLN3KuVzqq"
      },
      "source": [
        "## CRF Model :\n",
        "The model is structure as follow:\n",
        "- Bidirectional LSTM Layer\n",
        "- CRF Layer "
      ]
    },
    {
      "cell_type": "markdown",
      "metadata": {
        "id": "reKUIoemdy6P"
      },
      "source": [
        "### Required modifications :"
      ]
    },
    {
      "cell_type": "markdown",
      "metadata": {
        "id": "Qjikos1tcDXp"
      },
      "source": [
        "IN ORDER TO BUILD THIS MODEL, WE USED <b>tf2crf</b> PACKAGE.\n",
        "\n",
        "THIS PACKAGE ALREADY OVERRIDES SOME OF <b>tensorflow_addons </b> MODULES,\n",
        "IN PARTICULAR THE <b> tensorflow_addons / layer / crf </b> MODULE IS MODIFIED EXACTLY AS WE NEED IT.\n",
        "\n",
        "https://pypi.org/project/tf2crf/\n",
        "\n",
        "https://github.com/tensorflow/addons/tree/master/tensorflow_addons\n",
        "https://github.com/tensorflow/addons/blob/master/tensorflow_addons/layers/crf.py\n",
        "\n",
        "HERE IS THE CODE OF THE ADDONS CLASS AND OF tf2crf ONE, CUSTOMIZED AS WE NEED IT :"
      ]
    },
    {
      "cell_type": "markdown",
      "metadata": {
        "id": "D84uBnKJfJUz"
      },
      "source": [
        "```\n",
        "import tensorflow as tf\n",
        "import tensorflow_addons as tfa\n",
        "import tensorflow.keras.backend as K\n",
        "\n",
        "\n",
        "class CRF(tf.keras.layers.Layer):\n",
        "    \"\"\"\n",
        "    Conditional Random Field layer (tf.keras)\n",
        "    `CRF` can be used as the last layer in a network (as a classifier). Input shape (features)\n",
        "    must be equal to the number of classes the CRF can predict (a linear layer is recommended).\n",
        "    Args:\n",
        "        chain_initializer: the initialize method for transitions, default orthogonal.\n",
        "    Input shape:\n",
        "        nD tensor with shape `(batch_size, sentence length, num_classes)`.\n",
        "    Output shape:\n",
        "        in training:\n",
        "            viterbi_sequence: the predicted sequence tags with shape `(batch_size, sentence length)`\n",
        "            inputs: the input tensor of the CRF layer with shape `(batch_size, sentence length, num_classes)`\n",
        "            sequence_lengths: true sequence length of inputs with shape `(batch_size)`\n",
        "            self.transitions: the internal transition parameters of CRF with shape `(num_classes, num_classes)`\n",
        "        in predicting:\n",
        "            viterbi_sequence: the predicted sequence tags with shape `(batch_size, sentence length)`\n",
        "    Masking\n",
        "        This layer supports keras masking for input data with a variable number\n",
        "        of timesteps. To introduce masks to your data,\n",
        "        use an embedding layer with the `mask_zero` parameter\n",
        "        set to `True` or add a Masking Layer before this Layer\n",
        "    \"\"\"\n",
        "\n",
        "    def __init__(self, chain_initializer=\"orthogonal\", **kwargs):\n",
        "        super(CRF, self).__init__(**kwargs)\n",
        "        self.chain_initializer = tf.keras.initializers.get(chain_initializer)\n",
        "        self.transitions = None\n",
        "        self.supports_masking = True\n",
        "        self.mask = None\n",
        "        self.accuracy_fn = tf.keras.metrics.Accuracy()\n",
        "\n",
        "    def get_config(self):\n",
        "        config = super(CRF, self).get_config()\n",
        "        config.update({\"chain_initializer\": \"orthogonal\"})\n",
        "        return config\n",
        "\n",
        "    def build(self, input_shape):\n",
        "        assert len(input_shape) == 3\n",
        "        units = input_shape[-1]\n",
        "        self.transitions = self.add_weight(\n",
        "            name=\"transitions\",\n",
        "            shape=[units, units],\n",
        "            initializer=self.chain_initializer,\n",
        "        )\n",
        "\n",
        "    def call(self, inputs, mask=None, training=None):\n",
        "        if mask is None:\n",
        "            raw_input_shape = tf.slice(tf.shape(inputs), [0], [2])\n",
        "            mask = tf.ones(raw_input_shape)\n",
        "        sequence_lengths = K.sum(K.cast(mask, 'int32'), axis=-1)\n",
        "        viterbi_sequence, _ = tfa.text.crf_decode(inputs, self.transitions, sequence_lengths)\n",
        "        return viterbi_sequence, inputs, sequence_lengths, self.transitions\n",
        "```"
      ]
    },
    {
      "cell_type": "markdown",
      "metadata": {
        "id": "kqHHEFQ-DfnO"
      },
      "source": [
        "```\n",
        "from tensorflow.keras.models import Model\n",
        "from tf2crf import CRF, ModelWithCRFLoss\n",
        "\n",
        "\n",
        "class ModelWithCRFLoss(tf.keras.Model):\n",
        "\n",
        "    def __init__(self, base_model, use_dsc=False):\n",
        "        super().__init__()\n",
        "        self.base_model = base_model\n",
        "        self.accuracy_fn = tf.keras.metrics.Accuracy(name='accuracy')\n",
        "\n",
        "    def call(self, inputs):\n",
        "        return self.base_model(inputs)\n",
        "\n",
        "    def compute_loss(self, x, y, sample_weight, training=False):\n",
        "        y_pred = self(x, training=training)\n",
        "        viterbi_sequence, potentials, sequence_length, chain_kernel = y_pred\n",
        "        # we now add the CRF loss:\n",
        "        crf_loss = -crf_log_likelihood(potentials, y, sequence_length, chain_kernel)[0]\n",
        "        if sample_weight is not None:\n",
        "            crf_loss = crf_loss * sample_weight\n",
        "        return viterbi_sequence, sequence_length, tf.reduce_mean(crf_loss)\n",
        "\n",
        "    def accuracy(self, y_true, y_pred):\n",
        "        viterbi_sequence, potentials, sequence_length, chain_kernel = y_pred\n",
        "        sample_weights = tf.sequence_mask(sequence_length, y_true.shape[1])\n",
        "        return self.accuracy_fn(y_true, viterbi_sequence, sample_weights)\n",
        "\n",
        "    def train_step(self, data):\n",
        "        x, y, sample_weight = unpack_data(data)\n",
        "        with tf.GradientTape() as tape:\n",
        "            viterbi_sequence, sequence_length, crf_loss = self.compute_loss(x, y, sample_weight, training=True)\n",
        "        gradients = tape.gradient(crf_loss, self.trainable_variables)\n",
        "        self.optimizer.apply_gradients(zip(gradients, self.trainable_variables))\n",
        "        self.accuracy_fn.update_state(y, viterbi_sequence, tf.sequence_mask(sequence_length, y.shape[1]))\n",
        "        return {\"crf_loss\": crf_loss, 'accuracy': self.accuracy_fn.result()}\n",
        "\n",
        "    def test_step(self, data):\n",
        "        x, y, sample_weight = unpack_data(data)\n",
        "        viterbi_sequence, sequence_length, crf_loss = self.compute_loss(x, y, sample_weight)\n",
        "        self.accuracy_fn.update_state(y, viterbi_sequence, tf.sequence_mask(sequence_length, y.shape[1]))\n",
        "        return {\"crf_loss_val\": crf_loss, 'val_accuracy': self.accuracy_fn.result()}\n",
        "```"
      ]
    },
    {
      "cell_type": "markdown",
      "metadata": {
        "id": "8RDSI1zvPTm7"
      },
      "source": [
        "IN ORDER TO USE CALLBACKS FOR THIS MODEL, WE NEEDED TO CHANGE MONITOR PARAMENTER BECAUSE THE MODULE WE USED ASSIGNS NAMES DIFFERENTLY TO THE METRICS :"
      ]
    },
    {
      "cell_type": "code",
      "metadata": {
        "id": "XvjDMJIFWNqO"
      },
      "source": [
        "# NAME FOR TRAIN LOSS : crf_loss\n",
        "# NAME FOR TRAIN ACCURACY : accuracy\n",
        "# NAME FOR VALIDATION LOSS : val_crf_loss_val\n",
        "# NAME FOR VALIDATION ACCURACY : val_val_accuracy\n",
        "\n",
        "import tensorflow as tf\n",
        "\n",
        "def draw_graphs(history):\n",
        "\n",
        "    epochs = len(history['crf_loss'])\n",
        "    x = np.arange(0, epochs) + 1\n",
        "\n",
        "    fig, ax1 = plt.subplots()\n",
        "    ax1.xaxis.set_major_locator(MaxNLocator(integer=True))\n",
        "    plt.title(\"Training results: epoch vs accuracy\")\n",
        "    ax1.set_xlabel('epoch')\n",
        "    ax1.set_ylabel('accuracy')\n",
        "    ax1.plot(x, history['accuracy'])\n",
        "    ax1.plot(x, history['val_val_accuracy'])\n",
        "    ax1.legend(['train_accuracy', 'val_accuracy'], loc='center right')\n",
        "    ax1.tick_params(axis='y')\n",
        "\n",
        "    plt.show()\n",
        "\n",
        "\n",
        "    fig, ax1 = plt.subplots()\n",
        "    ax1.xaxis.set_major_locator(MaxNLocator(integer=True))\n",
        "    plt.title(\"Training results: epoch vs loss\")\n",
        "    ax1.set_xlabel('epoch')\n",
        "    ax1.set_ylabel('loss')\n",
        "    ax1.plot(x, history['crf_loss'])\n",
        "    ax1.plot(x, history['val_crf_loss_val'])\n",
        "    ax1.legend(['train_loss', 'val_loss'], loc='center right')\n",
        "    ax1.tick_params(axis='y')\n",
        "    \n",
        "    plt.show()\n",
        "    "
      ],
      "execution_count": null,
      "outputs": []
    },
    {
      "cell_type": "code",
      "metadata": {
        "id": "oz-cpW1gUZwJ"
      },
      "source": [
        "# NAME FOR VALIDATION LOSS : val_crf_loss_val\n",
        "# NAME FOR VALIDATION ACCURACY : val_val_accuracy\n",
        "\n",
        "def train_model(folder, model, model_name, X_train, Y_train, X_val, Y_val, batch, epochs):\n",
        "  \n",
        "  # Path where the final model will be saved\n",
        "  models_dir = os.path.join(folder, 'models')\n",
        "  os.makedirs(models_dir, exist_ok = True)\n",
        "  model_file = os.path.join(models_dir, model_name+\".h5\")\n",
        "  \n",
        "  model_callback = tf.keras.callbacks.ModelCheckpoint(\n",
        "    filepath=model_file,\n",
        "    save_weights_only=False,\n",
        "    save_best_only=True,\n",
        "    monitor='val_val_accuracy', \n",
        "    mode='auto', \n",
        "    verbose=1, \n",
        "    )\n",
        "  \n",
        "  early_stopping_callback = tf.keras.callbacks.EarlyStopping(\n",
        "    restore_best_weights=True, \n",
        "    patience=8,\n",
        "    monitor='val_val_accuracy', \n",
        "    mode='auto', \n",
        "    verbose=1\n",
        "    )\n",
        "  \n",
        "  reduce_lr_callback = tf.keras.callbacks.ReduceLROnPlateau(\n",
        "      monitor='val_val_accuracy',\n",
        "      mode='auto',\n",
        "      factor=0.5,\n",
        "      patience=2,\n",
        "      min_lr=0.001,\n",
        "      verbose=1\n",
        "      )\n",
        "  \n",
        "  history = model.fit(X_train, Y_train,\n",
        "    epochs=epochs,\n",
        "    batch_size=batch,\n",
        "    validation_data = (X_val, Y_val),\n",
        "    callbacks=[model_callback, early_stopping_callback, reduce_lr_callback]\n",
        "    )\n",
        "\n",
        "  draw_graphs(history.history)\n",
        "\n",
        "  return history"
      ],
      "execution_count": null,
      "outputs": []
    },
    {
      "cell_type": "markdown",
      "metadata": {
        "id": "dij-KyQOUTrI"
      },
      "source": [
        "IN ORDER TO USE THIS MODEL, WE ALSO NEEDED TO CHANGE THE SHAPE OF OUR Y OUTPUTS. SINCE IT NEEDS TO BE OF TWO-DIMENSION SHAPE, WE DECIDED TO NOT ONE-HOT-ENCODE THE TAGS AND INSTEAD WE WENT FOR A INTEGER CODIFICATION OF THE TAGS THROUGH THE <b>tag_to_idx</b> DICTIONARY :"
      ]
    },
    {
      "cell_type": "code",
      "metadata": {
        "id": "SxUfZ9LwfZYj"
      },
      "source": [
        "def convert_data_CRF(df, word_to_emb, tag_to_idx):\n",
        "  new_rows = [] # rows of the new to-return dataframe\n",
        "  for row in df.iterrows():\n",
        "    # substitute words with its embeddings\n",
        "    words = [word_to_emb[w] for w in row[1][0]]\n",
        "    # substitute tags with its one-hot-encoding\n",
        "    tags = []\n",
        "    for t in row[1][1]:\n",
        "        tags.append(tag_to_idx[t])\n",
        "    # row for the new encoded dataframe\n",
        "    new_row = {\n",
        "        'embeddings' : words,\n",
        "        'tags' : tags\n",
        "    }\n",
        "    new_rows.append(new_row)\n",
        "\n",
        "  # transform the list of rows in a proper dataframe\n",
        "  df = pd.DataFrame(new_rows)\n",
        "  df = df[[\"embeddings\", \"tags\"]]\n",
        "\n",
        "  return df\n",
        "\n",
        "\n",
        "df_trainENC_CRF = convert_data_CRF(df_train, word_to_emb_train, tag_to_idx)\n",
        "df_valENC_CRF = convert_data_CRF(df_val, word_to_emb_val, tag_to_idx)\n",
        "df_testENC_CRF = convert_data_CRF(df_test, word_to_emb_test, tag_to_idx)"
      ],
      "execution_count": null,
      "outputs": []
    },
    {
      "cell_type": "code",
      "metadata": {
        "colab": {
          "base_uri": "https://localhost:8080/"
        },
        "id": "DSkUmDLBdOtd",
        "outputId": "a8a232b0-3859-4363-deb9-feb8295aec12"
      },
      "source": [
        "print(\"USUAL Y_train.shape:\", Y_train.shape)\n",
        "Y_train_CRF = tf.keras.preprocessing.sequence.pad_sequences(\n",
        "           df_trainENC_CRF['tags'].tolist(),\n",
        "           padding = 'post', value=tag_to_idx['PAD'])\n",
        "print(\"CRF CONVERTION: Y_train_CRF.shape: {}\\n\".format(Y_train_CRF.shape))\n",
        "\n",
        "print(\"USUAL Y_val.shape:\", Y_val.shape)\n",
        "Y_val_CRF = tf.keras.preprocessing.sequence.pad_sequences(\n",
        "           df_valENC_CRF['tags'].tolist(),\n",
        "           padding = 'post', value=tag_to_idx['PAD'])\n",
        "print(\"CRF CONVERTION: Y_val_CRF.shape: {}\\n\".format(Y_val_CRF.shape))\n",
        "\n",
        "print(\"USUAL Y_test.shape:\", Y_test.shape)\n",
        "Y_test_CRF = tf.keras.preprocessing.sequence.pad_sequences(\n",
        "           df_testENC_CRF['tags'].tolist(),\n",
        "           padding = 'post', value=tag_to_idx['PAD'])\n",
        "print(\"CRF CONVERTION: Y_test_CRF.shape: {}\\n\".format(Y_test_CRF.shape))"
      ],
      "execution_count": null,
      "outputs": [
        {
          "output_type": "stream",
          "text": [
            "USUAL Y_train.shape: (1963, 249, 46)\n",
            "CRF CONVERTION: Y_train_CRF.shape: (1963, 249)\n",
            "\n",
            "USUAL Y_val.shape: (1299, 81, 46)\n",
            "CRF CONVERTION: Y_val_CRF.shape: (1299, 81)\n",
            "\n",
            "USUAL Y_test.shape: (49, 1492, 46)\n",
            "CRF CONVERTION: Y_test_CRF.shape: (49, 1492)\n",
            "\n"
          ],
          "name": "stdout"
        }
      ]
    },
    {
      "cell_type": "markdown",
      "metadata": {
        "id": "_uWc_K6MYtqO"
      },
      "source": [
        "### Building the Model :"
      ]
    },
    {
      "cell_type": "code",
      "metadata": {
        "colab": {
          "base_uri": "https://localhost:8080/"
        },
        "id": "1606u9gwFGFr",
        "outputId": "0468eddb-8e83-4f84-f823-f75cdf833686"
      },
      "source": [
        "!pip install tf2crf\n",
        "\n",
        "from tensorflow.keras.models import Model\n",
        "from tf2crf import CRF, ModelWithCRFLoss"
      ],
      "execution_count": null,
      "outputs": [
        {
          "output_type": "stream",
          "text": [
            "Collecting tf2crf\n",
            "  Downloading https://files.pythonhosted.org/packages/eb/f5/e9f972be845a2b0ea93c76d26ed6b7bde599a48f70554a30a528117731c8/tf2crf-0.1.29-py2.py3-none-any.whl\n",
            "Requirement already satisfied: tensorflow>=2.1.0 in /usr/local/lib/python3.6/dist-packages (from tf2crf) (2.3.0)\n",
            "Requirement already satisfied: tensorflow-addons>=0.8.2 in /usr/local/lib/python3.6/dist-packages (from tf2crf) (0.8.3)\n",
            "Requirement already satisfied: termcolor>=1.1.0 in /usr/local/lib/python3.6/dist-packages (from tensorflow>=2.1.0->tf2crf) (1.1.0)\n",
            "Requirement already satisfied: wrapt>=1.11.1 in /usr/local/lib/python3.6/dist-packages (from tensorflow>=2.1.0->tf2crf) (1.12.1)\n",
            "Requirement already satisfied: wheel>=0.26 in /usr/local/lib/python3.6/dist-packages (from tensorflow>=2.1.0->tf2crf) (0.35.1)\n",
            "Requirement already satisfied: six>=1.12.0 in /usr/local/lib/python3.6/dist-packages (from tensorflow>=2.1.0->tf2crf) (1.15.0)\n",
            "Requirement already satisfied: google-pasta>=0.1.8 in /usr/local/lib/python3.6/dist-packages (from tensorflow>=2.1.0->tf2crf) (0.2.0)\n",
            "Requirement already satisfied: h5py<2.11.0,>=2.10.0 in /usr/local/lib/python3.6/dist-packages (from tensorflow>=2.1.0->tf2crf) (2.10.0)\n",
            "Requirement already satisfied: tensorboard<3,>=2.3.0 in /usr/local/lib/python3.6/dist-packages (from tensorflow>=2.1.0->tf2crf) (2.3.0)\n",
            "Requirement already satisfied: tensorflow-estimator<2.4.0,>=2.3.0 in /usr/local/lib/python3.6/dist-packages (from tensorflow>=2.1.0->tf2crf) (2.3.0)\n",
            "Requirement already satisfied: grpcio>=1.8.6 in /usr/local/lib/python3.6/dist-packages (from tensorflow>=2.1.0->tf2crf) (1.33.2)\n",
            "Requirement already satisfied: scipy==1.4.1 in /usr/local/lib/python3.6/dist-packages (from tensorflow>=2.1.0->tf2crf) (1.4.1)\n",
            "Requirement already satisfied: keras-preprocessing<1.2,>=1.1.1 in /usr/local/lib/python3.6/dist-packages (from tensorflow>=2.1.0->tf2crf) (1.1.2)\n",
            "Requirement already satisfied: gast==0.3.3 in /usr/local/lib/python3.6/dist-packages (from tensorflow>=2.1.0->tf2crf) (0.3.3)\n",
            "Requirement already satisfied: protobuf>=3.9.2 in /usr/local/lib/python3.6/dist-packages (from tensorflow>=2.1.0->tf2crf) (3.12.4)\n",
            "Requirement already satisfied: astunparse==1.6.3 in /usr/local/lib/python3.6/dist-packages (from tensorflow>=2.1.0->tf2crf) (1.6.3)\n",
            "Requirement already satisfied: opt-einsum>=2.3.2 in /usr/local/lib/python3.6/dist-packages (from tensorflow>=2.1.0->tf2crf) (3.3.0)\n",
            "Requirement already satisfied: numpy<1.19.0,>=1.16.0 in /usr/local/lib/python3.6/dist-packages (from tensorflow>=2.1.0->tf2crf) (1.18.5)\n",
            "Requirement already satisfied: absl-py>=0.7.0 in /usr/local/lib/python3.6/dist-packages (from tensorflow>=2.1.0->tf2crf) (0.10.0)\n",
            "Requirement already satisfied: typeguard in /usr/local/lib/python3.6/dist-packages (from tensorflow-addons>=0.8.2->tf2crf) (2.7.1)\n",
            "Requirement already satisfied: werkzeug>=0.11.15 in /usr/local/lib/python3.6/dist-packages (from tensorboard<3,>=2.3.0->tensorflow>=2.1.0->tf2crf) (1.0.1)\n",
            "Requirement already satisfied: google-auth-oauthlib<0.5,>=0.4.1 in /usr/local/lib/python3.6/dist-packages (from tensorboard<3,>=2.3.0->tensorflow>=2.1.0->tf2crf) (0.4.2)\n",
            "Requirement already satisfied: setuptools>=41.0.0 in /usr/local/lib/python3.6/dist-packages (from tensorboard<3,>=2.3.0->tensorflow>=2.1.0->tf2crf) (50.3.2)\n",
            "Requirement already satisfied: google-auth<2,>=1.6.3 in /usr/local/lib/python3.6/dist-packages (from tensorboard<3,>=2.3.0->tensorflow>=2.1.0->tf2crf) (1.17.2)\n",
            "Requirement already satisfied: requests<3,>=2.21.0 in /usr/local/lib/python3.6/dist-packages (from tensorboard<3,>=2.3.0->tensorflow>=2.1.0->tf2crf) (2.23.0)\n",
            "Requirement already satisfied: markdown>=2.6.8 in /usr/local/lib/python3.6/dist-packages (from tensorboard<3,>=2.3.0->tensorflow>=2.1.0->tf2crf) (3.3.3)\n",
            "Requirement already satisfied: tensorboard-plugin-wit>=1.6.0 in /usr/local/lib/python3.6/dist-packages (from tensorboard<3,>=2.3.0->tensorflow>=2.1.0->tf2crf) (1.7.0)\n",
            "Requirement already satisfied: requests-oauthlib>=0.7.0 in /usr/local/lib/python3.6/dist-packages (from google-auth-oauthlib<0.5,>=0.4.1->tensorboard<3,>=2.3.0->tensorflow>=2.1.0->tf2crf) (1.3.0)\n",
            "Requirement already satisfied: pyasn1-modules>=0.2.1 in /usr/local/lib/python3.6/dist-packages (from google-auth<2,>=1.6.3->tensorboard<3,>=2.3.0->tensorflow>=2.1.0->tf2crf) (0.2.8)\n",
            "Requirement already satisfied: cachetools<5.0,>=2.0.0 in /usr/local/lib/python3.6/dist-packages (from google-auth<2,>=1.6.3->tensorboard<3,>=2.3.0->tensorflow>=2.1.0->tf2crf) (4.1.1)\n",
            "Requirement already satisfied: rsa<5,>=3.1.4; python_version >= \"3\" in /usr/local/lib/python3.6/dist-packages (from google-auth<2,>=1.6.3->tensorboard<3,>=2.3.0->tensorflow>=2.1.0->tf2crf) (4.6)\n",
            "Requirement already satisfied: idna<3,>=2.5 in /usr/local/lib/python3.6/dist-packages (from requests<3,>=2.21.0->tensorboard<3,>=2.3.0->tensorflow>=2.1.0->tf2crf) (2.10)\n",
            "Requirement already satisfied: certifi>=2017.4.17 in /usr/local/lib/python3.6/dist-packages (from requests<3,>=2.21.0->tensorboard<3,>=2.3.0->tensorflow>=2.1.0->tf2crf) (2020.11.8)\n",
            "Requirement already satisfied: urllib3!=1.25.0,!=1.25.1,<1.26,>=1.21.1 in /usr/local/lib/python3.6/dist-packages (from requests<3,>=2.21.0->tensorboard<3,>=2.3.0->tensorflow>=2.1.0->tf2crf) (1.24.3)\n",
            "Requirement already satisfied: chardet<4,>=3.0.2 in /usr/local/lib/python3.6/dist-packages (from requests<3,>=2.21.0->tensorboard<3,>=2.3.0->tensorflow>=2.1.0->tf2crf) (3.0.4)\n",
            "Requirement already satisfied: importlib-metadata; python_version < \"3.8\" in /usr/local/lib/python3.6/dist-packages (from markdown>=2.6.8->tensorboard<3,>=2.3.0->tensorflow>=2.1.0->tf2crf) (2.0.0)\n",
            "Requirement already satisfied: oauthlib>=3.0.0 in /usr/local/lib/python3.6/dist-packages (from requests-oauthlib>=0.7.0->google-auth-oauthlib<0.5,>=0.4.1->tensorboard<3,>=2.3.0->tensorflow>=2.1.0->tf2crf) (3.1.0)\n",
            "Requirement already satisfied: pyasn1<0.5.0,>=0.4.6 in /usr/local/lib/python3.6/dist-packages (from pyasn1-modules>=0.2.1->google-auth<2,>=1.6.3->tensorboard<3,>=2.3.0->tensorflow>=2.1.0->tf2crf) (0.4.8)\n",
            "Requirement already satisfied: zipp>=0.5 in /usr/local/lib/python3.6/dist-packages (from importlib-metadata; python_version < \"3.8\"->markdown>=2.6.8->tensorboard<3,>=2.3.0->tensorflow>=2.1.0->tf2crf) (3.4.0)\n",
            "Installing collected packages: tf2crf\n",
            "Successfully installed tf2crf-0.1.29\n"
          ],
          "name": "stdout"
        }
      ]
    },
    {
      "cell_type": "code",
      "metadata": {
        "id": "YMtbHB6K7DpR"
      },
      "source": [
        "# WE USE THE SAME PARAMETERS AS IN THE BASELINE MODEL\n",
        "\n",
        "def build_model(label, rnn_units=rnn_units, learning_rate=lrn_rate, drop_out=drp_out):\n",
        "\n",
        "  inputs = tf.keras.layers.Input((None, emb_dimension), name='input')\n",
        "\n",
        "  #output = tf.keras.layers.Masking(mask_value=0.0)(input)\n",
        "  \n",
        "  output = tf.keras.layers.Bidirectional(tf.keras.layers.LSTM(rnn_units,\n",
        "                                                                  return_sequences=True,\n",
        "                                                                  dropout=drop_out,\n",
        "                                                                  name='bilstm'),\n",
        "                                            merge_mode=\"concat\")(inputs) #(output) # if masking works...\n",
        "  \n",
        "  crf = CRF(dtype='float32', name='CRF')\n",
        "  \n",
        "  output = crf(output)\n",
        "  \n",
        "  base_model = Model(inputs, output)\n",
        "  \n",
        "  model = ModelWithCRFLoss(base_model)\n",
        "  \n",
        "  model.compile(optimizer='adam')\n",
        "\n",
        "  base_model.summary() # we can ask only for base_model summary\n",
        "  \n",
        "  return model"
      ],
      "execution_count": null,
      "outputs": []
    },
    {
      "cell_type": "code",
      "metadata": {
        "id": "AW5pa5FmO67s",
        "colab": {
          "base_uri": "https://localhost:8080/"
        },
        "outputId": "9bca29a0-112b-495b-afe0-5751df86ce2b"
      },
      "source": [
        "model = build_model(len(tag_to_idx))"
      ],
      "execution_count": null,
      "outputs": [
        {
          "output_type": "stream",
          "text": [
            "Model: \"functional_7\"\n",
            "_________________________________________________________________\n",
            "Layer (type)                 Output Shape              Param #   \n",
            "=================================================================\n",
            "input (InputLayer)           [(None, None, 100)]       0         \n",
            "_________________________________________________________________\n",
            "bidirectional_13 (Bidirectio (None, None, 100)         60400     \n",
            "_________________________________________________________________\n",
            "CRF (CRF)                    ((None, None), (None, Non 10002     \n",
            "=================================================================\n",
            "Total params: 70,402\n",
            "Trainable params: 70,400\n",
            "Non-trainable params: 2\n",
            "_________________________________________________________________\n"
          ],
          "name": "stdout"
        }
      ]
    },
    {
      "cell_type": "markdown",
      "metadata": {
        "id": "yuGSOEbDKWR4"
      },
      "source": [
        "### Plotting the Model :"
      ]
    },
    {
      "cell_type": "code",
      "metadata": {
        "colab": {
          "base_uri": "https://localhost:8080/",
          "height": 312
        },
        "id": "9hYz7DaTKWR5",
        "outputId": "2101c7d9-ce4a-47ab-9994-ebac2cba95e9"
      },
      "source": [
        "# Plot the model structure\n",
        "tf.keras.utils.plot_model(model.base_model, show_shapes=True, show_layer_names=True)"
      ],
      "execution_count": null,
      "outputs": [
        {
          "output_type": "execute_result",
          "data": {
            "image/png": "[encoded data removed]",
            "text/plain": [
              "<IPython.core.display.Image object>"
            ]
          },
          "metadata": {
            "tags": []
          },
          "execution_count": 77
        }
      ]
    },
    {
      "cell_type": "markdown",
      "metadata": {
        "id": "8TXw6mq2YtqO"
      },
      "source": [
        "### Training the Model :"
      ]
    },
    {
      "cell_type": "code",
      "metadata": {
        "id": "N_cT_MbJO67s",
        "colab": {
          "base_uri": "https://localhost:8080/",
          "height": 1000
        },
        "outputId": "844e1bb7-9283-4a52-d3dd-5ece7ab7cad1"
      },
      "source": [
        "# folder and model_name are useful because we want to save through callback the best performing model\n",
        "folder = os.getcwd()\n",
        "model_name = \"bilstm_crf\"\n",
        "\n",
        "history = train_model(folder, model, model_name, X_train, Y_train_CRF, X_val, Y_val_CRF, btch_size, n_epochs)"
      ],
      "execution_count": null,
      "outputs": [
        {
          "output_type": "stream",
          "text": [
            "Epoch 1/50\n",
            "123/123 [==============================] - ETA: 0s - crf_loss: 887.1473 - accuracy: 0.5368\n",
            "Epoch 00001: val_val_accuracy improved from -inf to 0.73664, saving model to /content/models/bilstm_crf.h5\n",
            "123/123 [==============================] - 63s 511ms/step - crf_loss: 885.8665 - accuracy: 0.5368 - val_crf_loss_val: 244.1414 - val_val_accuracy: 0.7366\n",
            "Epoch 2/50\n",
            "123/123 [==============================] - ETA: 0s - crf_loss: 645.8290 - accuracy: 0.9180\n",
            "Epoch 00002: val_val_accuracy improved from 0.73664 to 0.75018, saving model to /content/models/bilstm_crf.h5\n",
            "123/123 [==============================] - 62s 504ms/step - crf_loss: 645.3880 - accuracy: 0.9180 - val_crf_loss_val: 201.2552 - val_val_accuracy: 0.7502\n",
            "Epoch 3/50\n",
            "123/123 [==============================] - ETA: 0s - crf_loss: 560.3542 - accuracy: 0.9294\n",
            "Epoch 00003: val_val_accuracy improved from 0.75018 to 0.78738, saving model to /content/models/bilstm_crf.h5\n",
            "123/123 [==============================] - 62s 501ms/step - crf_loss: 560.0904 - accuracy: 0.9294 - val_crf_loss_val: 180.6688 - val_val_accuracy: 0.7874\n",
            "Epoch 4/50\n",
            "123/123 [==============================] - ETA: 0s - crf_loss: 500.4251 - accuracy: 0.9346\n",
            "Epoch 00004: val_val_accuracy improved from 0.78738 to 0.79829, saving model to /content/models/bilstm_crf.h5\n",
            "123/123 [==============================] - 62s 504ms/step - crf_loss: 500.2112 - accuracy: 0.9346 - val_crf_loss_val: 161.9233 - val_val_accuracy: 0.7983\n",
            "Epoch 5/50\n",
            "123/123 [==============================] - ETA: 0s - crf_loss: 443.2630 - accuracy: 0.9374\n",
            "Epoch 00005: val_val_accuracy improved from 0.79829 to 0.80668, saving model to /content/models/bilstm_crf.h5\n",
            "123/123 [==============================] - 62s 501ms/step - crf_loss: 443.0308 - accuracy: 0.9374 - val_crf_loss_val: 144.1558 - val_val_accuracy: 0.8067\n",
            "Epoch 6/50\n",
            "123/123 [==============================] - ETA: 0s - crf_loss: 387.8425 - accuracy: 0.9400\n",
            "Epoch 00006: val_val_accuracy improved from 0.80668 to 0.80968, saving model to /content/models/bilstm_crf.h5\n",
            "123/123 [==============================] - 62s 502ms/step - crf_loss: 387.6189 - accuracy: 0.9400 - val_crf_loss_val: 127.0899 - val_val_accuracy: 0.8097\n",
            "Epoch 7/50\n",
            "123/123 [==============================] - ETA: 0s - crf_loss: 333.6907 - accuracy: 0.9416\n",
            "Epoch 00007: val_val_accuracy improved from 0.80968 to 0.81353, saving model to /content/models/bilstm_crf.h5\n",
            "123/123 [==============================] - 62s 503ms/step - crf_loss: 333.4175 - accuracy: 0.9416 - val_crf_loss_val: 110.6352 - val_val_accuracy: 0.8135\n",
            "Epoch 8/50\n",
            "123/123 [==============================] - ETA: 0s - crf_loss: 280.8478 - accuracy: 0.9441\n",
            "Epoch 00008: val_val_accuracy improved from 0.81353 to 0.82762, saving model to /content/models/bilstm_crf.h5\n",
            "123/123 [==============================] - 62s 501ms/step - crf_loss: 280.6730 - accuracy: 0.9441 - val_crf_loss_val: 94.2051 - val_val_accuracy: 0.8276\n",
            "Epoch 9/50\n",
            "123/123 [==============================] - ETA: 0s - crf_loss: 229.3801 - accuracy: 0.9465\n",
            "Epoch 00009: val_val_accuracy did not improve from 0.82762\n",
            "123/123 [==============================] - 62s 502ms/step - crf_loss: 229.2221 - accuracy: 0.9465 - val_crf_loss_val: 78.7877 - val_val_accuracy: 0.8260\n",
            "Epoch 10/50\n",
            "123/123 [==============================] - ETA: 0s - crf_loss: 180.6037 - accuracy: 0.9405\n",
            "Epoch 00010: val_val_accuracy did not improve from 0.82762\n",
            "\n",
            "Epoch 00010: ReduceLROnPlateau reducing learning rate to 0.001.\n",
            "123/123 [==============================] - 62s 500ms/step - crf_loss: 180.4104 - accuracy: 0.9405 - val_crf_loss_val: 64.5922 - val_val_accuracy: 0.7901\n",
            "Epoch 11/50\n",
            "123/123 [==============================] - ETA: 0s - crf_loss: 136.4942 - accuracy: 0.9275\n",
            "Epoch 00011: val_val_accuracy did not improve from 0.82762\n",
            "123/123 [==============================] - 61s 500ms/step - crf_loss: 136.2638 - accuracy: 0.9275 - val_crf_loss_val: 52.2435 - val_val_accuracy: 0.7558\n",
            "Epoch 12/50\n",
            "123/123 [==============================] - ETA: 0s - crf_loss: 100.6859 - accuracy: 0.9172\n",
            "Epoch 00012: val_val_accuracy did not improve from 0.82762\n",
            "\n",
            "Epoch 00012: ReduceLROnPlateau reducing learning rate to 0.001.\n",
            "123/123 [==============================] - 62s 503ms/step - crf_loss: 100.5580 - accuracy: 0.9172 - val_crf_loss_val: 42.9096 - val_val_accuracy: 0.7317\n",
            "Epoch 13/50\n",
            "123/123 [==============================] - ETA: 0s - crf_loss: 76.7628 - accuracy: 0.9117\n",
            "Epoch 00013: val_val_accuracy did not improve from 0.82762\n",
            "123/123 [==============================] - 62s 502ms/step - crf_loss: 76.7146 - accuracy: 0.9117 - val_crf_loss_val: 36.9547 - val_val_accuracy: 0.7240\n",
            "Epoch 14/50\n",
            "123/123 [==============================] - ETA: 0s - crf_loss: 63.4784 - accuracy: 0.9108\n",
            "Epoch 00014: val_val_accuracy did not improve from 0.82762\n",
            "\n",
            "Epoch 00014: ReduceLROnPlateau reducing learning rate to 0.001.\n",
            "123/123 [==============================] - 62s 505ms/step - crf_loss: 63.4375 - accuracy: 0.9108 - val_crf_loss_val: 33.3944 - val_val_accuracy: 0.7228\n",
            "Epoch 15/50\n",
            "123/123 [==============================] - ETA: 0s - crf_loss: 56.1973 - accuracy: 0.9111\n",
            "Epoch 00015: val_val_accuracy did not improve from 0.82762\n",
            "123/123 [==============================] - 62s 503ms/step - crf_loss: 56.1822 - accuracy: 0.9111 - val_crf_loss_val: 31.1226 - val_val_accuracy: 0.7259\n",
            "Epoch 16/50\n",
            "123/123 [==============================] - ETA: 0s - crf_loss: 51.6769 - accuracy: 0.9132\n",
            "Epoch 00016: val_val_accuracy did not improve from 0.82762\n",
            "Restoring model weights from the end of the best epoch.\n",
            "\n",
            "Epoch 00016: ReduceLROnPlateau reducing learning rate to 0.001.\n",
            "123/123 [==============================] - 62s 502ms/step - crf_loss: 51.5960 - accuracy: 0.9132 - val_crf_loss_val: 29.4135 - val_val_accuracy: 0.7368\n",
            "Epoch 00016: early stopping\n"
          ],
          "name": "stdout"
        },
        {
          "output_type": "display_data",
          "data": {
            "image/png": "[encoded data removed]",
            "text/plain": [
              "<Figure size 432x288 with 1 Axes>"
            ]
          },
          "metadata": {
            "tags": []
          }
        },
        {
          "output_type": "display_data",
          "data": {
            "image/png": "[encoded data removed]",
            "text/plain": [
              "<Figure size 432x288 with 1 Axes>"
            ]
          },
          "metadata": {
            "tags": []
          }
        }
      ]
    },
    {
      "cell_type": "markdown",
      "metadata": {
        "id": "rfPvz0jGYtqO"
      },
      "source": [
        "### Recalling best Model :"
      ]
    },
    {
      "cell_type": "code",
      "metadata": {
        "id": "r3aHwQkgO67t"
      },
      "source": [
        "model_file = os.path.join(os.getcwd(), \"models\", model_name+\".h5\")\n",
        "\n",
        "#bilstm_crf = tf.keras.models.load_model(model_file)\n",
        "bilstm_crf = model # because we want the same structure...\n",
        "bilstm_crf.load_weights(model_file) # ...with the best (saved) weights"
      ],
      "execution_count": null,
      "outputs": []
    },
    {
      "cell_type": "markdown",
      "metadata": {
        "id": "4P4HOj_BYtqO"
      },
      "source": [
        "### Evaluation over validation set :"
      ]
    },
    {
      "cell_type": "code",
      "metadata": {
        "id": "jPvI3xrbO67t"
      },
      "source": [
        "# storing best Model's epoch and val_accuracy scoring\n",
        "evaluations[model_name] = (bilstm_crf, np.max((history.history['val_val_accuracy'])), np.argmax(history.history['val_val_accuracy'])+1)"
      ],
      "execution_count": null,
      "outputs": []
    },
    {
      "cell_type": "code",
      "metadata": {
        "id": "5KX45bHHbpK-"
      },
      "source": [
        "\n",
        "# Y_pred = [viterbi_sequence, inputs, sequence_lengths, self.transitions]\n",
        "prediction = bilstm_crf.call(X_test)\n",
        "\n",
        "Y_pred = prediction[0]\n",
        "#inputs = prediction[1] \n",
        "#sequence_lengths = prediction[2] \n",
        "#transitions = prediction[3] "
      ],
      "execution_count": null,
      "outputs": []
    },
    {
      "cell_type": "code",
      "metadata": {
        "id": "KkZDfe7d-Zcq"
      },
      "source": [
        "def tagsfromints(Y, idx_to_tag):\n",
        "  integers = []\n",
        "  Y = Y.numpy()\n",
        "  for el in Y:\n",
        "    integers.append([idx_to_tag[i] for i in el])\n",
        "  return integers\n",
        "\n",
        "\n",
        "pred_tags = tagsfromints(Y_pred, idx_to_tag)"
      ],
      "execution_count": null,
      "outputs": []
    },
    {
      "cell_type": "markdown",
      "metadata": {
        "id": "b12JeyhL8r37"
      },
      "source": [
        "# EVALUATE YOUR BEST MODEL\n",
        "\n",
        "**Evaluation:** in the end, only the best model of your choice must be evaluated on the test set. The main metric must be F1-Macro computed between the various part of speech (without considering punctuation classes).\n",
        "\n",
        "* The metric you must use to evaluate your final model is the F1-macro, without considering punctuation/symbols classes. During the training process, you can't use the F1 metric unless you use a single (gigantic) batch: there is no way to aggregate \"partial\" F1 scores computed on mini-batches. So, during the training process, it is common practice to use accuracy. It is actually possible to define the computation of F1 scores by hand but it can be tricky, it will not be optimized, and most of the time it won't make a difference, so don't.\n",
        "* Evaluation: make sure you ignore predictions corresponding to padding inputs, otherwise your evaluation is incorrect! If you want to compute padding-aware metrics during training, you need to define custom Keras callbacks (if you are using Keras). For more information, check the following documentation page: https://www.tensorflow.org/guide/keras/custom_callback.\n"
      ]
    },
    {
      "cell_type": "code",
      "metadata": {
        "id": "wUGI9u3grIs9",
        "colab": {
          "base_uri": "https://localhost:8080/"
        },
        "outputId": "7dfc3873-d5b6-4600-f639-19659c035e08"
      },
      "source": [
        "for key in evaluations.keys():\n",
        "  print(\"MODEL {} :\\nvalidation accuracy of {}\\nafter {} epochs\\n\\n\".format(key, evaluations[key][1], evaluations[key][2]))"
      ],
      "execution_count": null,
      "outputs": [
        {
          "output_type": "stream",
          "text": [
            "MODEL bilstm_fc :\n",
            "validation accuracy of 0.8867331743240356\n",
            "after 37 epochs\n",
            "\n",
            "\n",
            "MODEL bigru_fc :\n",
            "validation accuracy of 0.8842638731002808\n",
            "after 20 epochs\n",
            "\n",
            "\n",
            "MODEL doublebilstm_fc :\n",
            "validation accuracy of 0.8970272541046143\n",
            "after 21 epochs\n",
            "\n",
            "\n",
            "MODEL bilstm_crf :\n",
            "validation accuracy of 0.8276166915893555\n",
            "after 8 epochs\n",
            "\n",
            "\n"
          ],
          "name": "stdout"
        }
      ]
    },
    {
      "cell_type": "markdown",
      "metadata": {
        "id": "_ORDaCuQg0I1"
      },
      "source": [
        "WE CHOOSE BEST MODEL DEPENDING ON HIGHEST ACCURACY OVER THE VALIDATION SET :"
      ]
    },
    {
      "cell_type": "code",
      "metadata": {
        "id": "c6geL3P3eLl8"
      },
      "source": [
        "best_val_acc = np.argmax([val_acc for m, val_acc, e in evaluations.values()])\n",
        "best_model_name = list(evaluations.keys())[best_val_acc]\n",
        "best_model = evaluations[best_model_name][0]"
      ],
      "execution_count": null,
      "outputs": []
    },
    {
      "cell_type": "markdown",
      "metadata": {
        "id": "RBp37lUQZjiZ"
      },
      "source": [
        "<i> The F1 score can be interpreted as a weighted average of the precision and recall, where an F1 score reaches its best value at 1 and worst score at 0. The relative contribution of precision and recall to the F1 score are equal. The formula for the F1 score is:\n",
        "\n",
        "F1 = 2 * (precision * recall) / (precision + recall)\n",
        "\n",
        "In the multi-class and multi-label case, this is the average of the F1 score of each class with weighting depending on the average parameter. </i> \n",
        "\n",
        "https://scikit-learn.org/stable/modules/generated/sklearn.metrics.f1_score.html\n",
        "\n",
        "```\n",
        "sklearn.metrics.f1_score(y_true, y_pred, *,\n",
        "        labels=None, pos_label=1, average='binary', sample_weight=None, zero_division='warn')\n",
        "```\n",
        "\n",
        "'micro':\n",
        "Calculate metrics globally by counting the total true positives, false negatives and false positives.\n",
        "\n",
        "'macro':\n",
        "Calculate metrics for each label, and find their unweighted mean.\n",
        "This does not take label imbalance into account.\n",
        "\n",
        "'weighted':\n",
        "Calculate metrics for each label, and find their average weighted by support\n",
        "(the number of true instances for each label).\n",
        "This alters ‘macro’ to account for label imbalance;\n",
        "it can result in an F-score that is not between precision and recall."
      ]
    },
    {
      "cell_type": "markdown",
      "metadata": {
        "id": "h144mm02h5ZZ"
      },
      "source": [
        "WE NOW COMPUTE EVALUATION OF THE BEST MODEL THROUGH F1-SCORE :"
      ]
    },
    {
      "cell_type": "code",
      "metadata": {
        "colab": {
          "base_uri": "https://localhost:8080/"
        },
        "id": "gBofSGxWrdwN",
        "outputId": "84126167-45b3-42b9-e268-9efb19bc66bc"
      },
      "source": [
        "from sklearn.metrics import f1_score\n",
        "\n",
        "if best_model_name == 'bilstm_crf':\n",
        "  Y_pred = best_model.call(X_test)\n",
        "  Y_pred_toidx = Y_pred.ravel()\n",
        "  Y_true_toidx = Y_true_CRF.ravel()\n",
        "else:\n",
        "  Y_pred = best_model.predict(X_test)\n",
        "  Y_pred_toidx = np.argmax(Y_pred, axis=2)\n",
        "  Y_pred_toidx = Y_pred_toidx.ravel()\n",
        "  Y_true_toidx = np.argmax(Y_test, axis=2)\n",
        "  Y_true_toidx = Y_true_toidx.ravel()\n",
        "\n",
        "ls = [i for t, i in tag_to_idx.items() if t not in [',', '.', '$', ':', '``', \"''\", '#', 'PAD']]\n",
        "score_macro = f1_score(Y_true_toidx, Y_pred_toidx, labels=ls, zero_division=0, average='macro')\n",
        "#score_micro = f1_score(Y_true_toidx, Y_pred_toidx, labels=ls, average='micro')\n",
        "#score_weighted = f1_score(Y_true_toidx, Y_pred_toidx, labels=ls, average='weighted')\n",
        "\n",
        "print(\"Best model (depending on validation accuracy) is : {}\\nIt gets F1-score(macro) over test set of {:.2f}%\".format(best_model_name, score_macro));"
      ],
      "execution_count": null,
      "outputs": [
        {
          "output_type": "stream",
          "text": [
            "Best model (depending on validation accuracy) is : doublebilstm_fc\n",
            "It gets F1-score(macro) over test set of 0.68%\n"
          ],
          "name": "stdout"
        }
      ]
    },
    {
      "cell_type": "markdown",
      "metadata": {
        "id": "Jnr_nk-m8x6B"
      },
      "source": [
        "# ANALYZE THE ERRORS OF YOUR MODEL (optional)\n",
        "\n",
        "**Error Analysis:** analyze the errors done by your model, try to understand which may be the causes and think about how to improve it."
      ]
    },
    {
      "cell_type": "markdown",
      "metadata": {
        "id": "d0cWUmbAuNL3"
      },
      "source": [
        "WE TRIED FOR THE MODELS BOTH WITH MASKING LAYER AND WITHOUT IT:\n",
        "\n",
        "WE NOTICED THAT WITHOUT MASKING LAYER VALIDATION ACCURACY ARE HIGHER. WE SUPPOSED IT COULD BE BECAUSE PREDICTION OF PADDING ELEMENTS MIGHT BE EASIER TO GUESS CORRECTLY, THEREFORE WITH MASKING LAYER WE GET LOWER VALIDATION ACCURACY BUT WE BELIEVE IT IS PREFERABLE ANYWAY BECAUSE MORE TRUSTABLE."
      ]
    },
    {
      "cell_type": "markdown",
      "metadata": {
        "id": "Mg__ZsrRS533"
      },
      "source": [
        "### Some experiments :"
      ]
    },
    {
      "cell_type": "code",
      "metadata": {
        "id": "H7gEz5ZL6nrK"
      },
      "source": [
        "def tag_sentence(sentence, model, idx_to_tag):\n",
        "  input = np.expand_dims(sentence, axis=0) # to fit the input to model's input's shape\n",
        "  output = model.predict(input)\n",
        "  idxs_tag = np.argmax(output, axis=2)[0] # to get rid of useless dimension\n",
        "  tags = []\n",
        "  for i in idxs_tag:\n",
        "    tag = idx_to_tag[i]\n",
        "    if tag != idx_to_tag[0]:\n",
        "      tags.append(tag)\n",
        "  return tags\n",
        "\n",
        "\n",
        "def tag_word(word, model, idx_to_tag):\n",
        "  input = np.expand_dims(word, axis=0) # to fit the input to model's input's shape\n",
        "  input = np.expand_dims(input, axis=0) # to fit the input to model's input's shape\n",
        "  output = model.predict(input)\n",
        "  idx_tag = np.argmax(output, axis=2)[0][0] # to get rid of useless dimension\n",
        "  tag = idx_to_tag[idx_tag]\n",
        "  return tag\n"
      ],
      "execution_count": null,
      "outputs": []
    },
    {
      "cell_type": "code",
      "metadata": {
        "colab": {
          "base_uri": "https://localhost:8080/"
        },
        "id": "Bi0iVc_qupno",
        "outputId": "0aa76bfc-b74c-499e-d664-a0a5ca638d22"
      },
      "source": [
        "idx_w = (4, 11)\n",
        "idx_s = 2\n",
        "\n",
        "word = df_test['text'][idx_w[0]][idx_w[1]]\n",
        "word_emb = X_test[idx_w[0]][idx_w[1]]\n",
        "sentence = df_test['text'][idx_s]\n",
        "sentence_emb = X_test[idx_s]\n",
        "\n",
        "\n",
        "print(word)\n",
        "print(\"Predicted tag:\\t\", tag_word(word_emb, best_model, idx_to_tag))\n",
        "print(\"True tag:\\t\", idx_to_tag[np.argmax(Y_test[idx_w[0]][idx_w[1]])])\n",
        "print()\n",
        "print()\n",
        "\n",
        "print(' '.join(sentence))\n",
        "print(\"Predicted tag:\\t\", ' '.join(tag_sentence(sentence_emb, best_model, idx_to_tag)))\n",
        "print(\"True tag:\\t\", ' '.join([idx_to_tag[idx] for idx in np.argmax(Y_test[idx_s], axis=1)]))"
      ],
      "execution_count": null,
      "outputs": [
        {
          "output_type": "stream",
          "text": [
            "major\n",
            "Predicted tag:\t JJ\n",
            "True tag:\t JJ\n",
            "\n",
            "\n",
            "Intelogic Trace Inc. , San Antonio , Texas , said it bought 2.7 million shares , or about 18 % , of its common stock from an unaffiliated shareholder for $ 3.625 a share , or $ 9.9 million . The move boosts Intelogic Chairman Asher Edelman 's stake to 20 % from 16.2 % and may help prevent Martin Ackerman from making a run at the computer-services concern . Mr. Ackerman already is seeking to oust Mr. Edelman as chairman of Datapoint Corp. , an Intelogic affiliate . The action followed by one day an Intelogic announcement that it will retain an investment banker to explore alternatives `` to maximize shareholder value , '' including the possible sale of the company . In New York Stock Exchange composite trading yesterday , Intelogic shares rose 37.5 cents to close at $ 2.75 . Mr. Edelman declined to specify what prompted the recent moves , saying they are meant only to benefit shareholders when `` the company is on a roll . '' He added , `` This has nothing to do with Marty Ackerman and it is not designed , particularly , to take the company private . '' But Mr. Ackerman said the buy-back , and the above-market price paid , prove that Mr. Edelman is running scared .\n",
            "Predicted tag:\t NNP NNP NNP , NNP NNP , NNPS , VBD PRP VBD CD CD NNS , CC RB CD NN , IN PRP$ JJ NN IN DT JJ NN IN $ CD DT NN , CC $ CD CD . NNP VBP NNP NNP NNP NNP NNP POS NN TO CD NN IN CD NN CC MD VB VB NNP NNP IN VBG DT NN IN DT NN NN . NNP NNP RB VBZ VBG TO VB NNP NNP IN NN IN NN NNP , DT JJ NN . NNP NN VBD IN CD NN DT JJ NN IN PRP MD VB DT NN NN TO VB NNS `` TO VB NN NN , '' VBG DT JJ NN IN DT NN . NNP NNP NNP NNP NNP JJ NN NN , JJ NNS VBD CD NNS TO VB IN $ CD . NNP NNP VBD TO VB WP VBD DT JJ NNS , VBG PRP VBP VBN RB TO VB NNS WRB `` DT NN VBZ IN DT NN . '' NNP VBD , `` NNP VBZ NN TO VB IN NNP NNP CC PRP VBZ RB VBN , RB , TO VB DT NN NN . '' NNP NNP NNP VBD DT NN , CC DT JJ NN VBN , VBP IN NNP NNP VBZ VBG JJ . RB RB RB RB RB RB RB RB RB RB RB RB RB RB RB RB RB RB RB RB RB RB RB RB RB RB RB RB RB RB RB RB RB RB RB RB RB RB RB RB RB RB RB RB RB RB RB RB RB RB RB RB RB RB RB RB RB RB RB RB RB RB RB RB RB RB RB RB RB RB RB RB RB RB RB RB RB RB RB RB RB RB RB RB RB RB RB RB RB RB RB RB RB RB RB RB RB RB RB RB RB RB RB RB RB RB RB RB RB RB RB RB RB RB RB RB RB RB RB RB RB RB RB RB RB RB RB RB RB RB RB RB RB RB RB RB RB RB RB RB RB RB RB RB RB RB RB RB RB RB RB RB RB RB RB RB RB RB RB RB RB RB RB RB RB RB RB RB RB RB RB RB RB RB RB RB RB RB RB RB RB RB RB RB RB RB RB RB RB RB RB RB RB RB RB RB RB RB RB RB RB RB RB RB RB RB RB RB RB RB RB RB RB RB RB RB RB RB RB RB RB RB RB RB RB RB RB RB RB RB RB RB RB RB RB RB RB RB RB RB RB RB RB RB RB RB RB RB RB RB RB RB RB RB RB RB RB RB RB RB RB RB RB RB RB RB RB RB RB RB RB RB RB RB RB RB RB RB RB RB RB RB RB RB RB RB RB RB RB RB RB RB RB RB RB RB RB RB RB RB RB RB RB RB RB RB RB RB RB RB RB RB RB RB RB RB RB RB RB RB RB RB RB RB RB RB RB RB RB RB RB RB RB RB RB RB RB RB RB RB RB RB RB RB RB RB RB RB RB RB RB RB RB RB RB RB RB RB RB RB RB RB RB RB RB RB RB RB RB RB RB RB RB RB RB RB RB RB RB RB RB RB RB RB RB RB RB RB RB RB RB RB RB RB RB RB RB RB RB RB RB RB RB RB RB RB RB RB RB RB RB RB RB RB RB RB RB RB RB RB RB RB RB RB RB RB RB RB RB RB RB RB RB RB RB RB RB RB RB RB RB RB RB RB RB RB RB RB RB RB RB RB RB RB RB RB RB RB RB RB RB RB RB RB RB RB RB RB RB RB RB RB RB RB RB RB RB RB RB RB RB RB RB RB RB RB RB RB RB RB RB RB RB RB RB RB RB RB RB RB RB RB RB RB RB RB RB RB RB RB RB RB RB RB RB RB RB RB RB RB RB RB RB RB RB RB RB RB RB RB RB RB RB RB RB RB RB RB RB RB RB RB RB RB RB RB RB RB RB RB RB RB RB RB RB RB RB RB RB RB RB RB RB RB RB RB RB RB RB RB RB RB RB RB RB RB RB RB RB RB RB RB RB RB RB RB RB RB RB RB RB RB RB RB RB RB RB RB RB RB RB RB RB RB RB RB RB RB RB RB RB RB RB RB RB RB RB RB RB RB RB RB RB RB RB RB RB RB RB RB RB RB RB RB RB RB RB RB RB RB RB RB RB RB RB RB RB RB RB RB RB RB RB RB RB RB RB RB RB RB RB RB RB RB RB RB RB RB RB RB RB RB RB RB RB RB RB RB RB RB RB RB RB RB RB RB RB RB RB RB RB RB RB RB RB RB RB RB RB RB RB RB RB RB RB RB RB RB RB RB RB RB RB RB RB RB RB RB RB RB RB RB RB RB RB RB RB RB RB RB RB RB RB RB RB RB RB RB RB RB RB RB RB RB RB RB RB RB RB RB RB RB RB RB RB RB RB RB RB RB RB RB RB RB RB RB RB RB RB RB RB RB RB RB RB RB RB RB RB RB RB RB RB RB RB RB RB RB RB RB RB RB RB RB RB RB RB RB RB RB RB RB RB RB RB RB RB RB RB RB RB RB RB RB RB RB RB RB RB RB RB RB RB RB RB RB RB RB RB RB RB RB RB RB RB RB RB RB RB RB RB RB RB RB RB RB RB RB RB RB RB RB RB RB RB RB RB RB RB RB RB RB RB RB RB RB RB RB RB RB RB RB RB RB RB RB RB RB RB RB RB RB RB RB RB RB RB RB RB RB RB RB RB RB RB RB RB RB RB RB RB RB RB RB RB RB RB RB RB RB RB RB RB RB RB RB RB RB RB RB RB RB RB RB RB RB RB RB RB RB RB RB RB RB RB RB RB RB RB RB RB RB RB RB RB RB RB RB RB RB RB RB RB RB RB RB RB RB RB RB RB RB RB RB RB RB RB RB RB RB RB RB RB RB RB RB RB RB RB RB RB RB RB RB RB RB RB RB RB RB RB RB RB RB RB RB RB RB RB RB RB RB RB RB RB RB RB RB RB RB RB RB RB RB RB RB RB RB RB RB RB RB RB RB RB RB RB RB RB RB RB RB RB RB RB RB RB RB RB RB RB RB RB RB RB RB RB RB RB RB RB RB RB RB RB RB RB RB RB RB RB RB RB RB RB RB RB RB RB RB RB RB RB RB RB RB RB RB RB RB RB RB RB RB RB RB RB RB RB RB RB RB RB RB RB RB RB RB RB RB RB RB RB RB RB RB RB RB RB RB RB RB RB RB RB RB RB RB RB RB RB RB RB RB RB RB RB RB RB RB RB RB RB RB RB RB RB RB RB RB RB RB RB RB RB RB RB RB RB RB RB RB RB RB RB RB RB RB RB RB RB RB RB RB RB RB RB RB RB RB RB RB RB RB RB RB RB RB RB RB RB RB RB RB RB RB RB RB RB RB RB RB RB RB RB RB RB RB RB RB RB RB RB RB RB RB RB RB RB RB RB RB RB RB RB RB RB RB RB RB RB RB RB RB RB RB RB RB RB RB RB RB RB RB RB RB RB RB RB RB RB RB RB RB RB RB RB RB RB RB RB RB RB RB RB RB RB RB RB RB RB RB RB RB RB RB RB RB RB RB RB RB\n",
            "True tag:\t NNP NNP NNP , NNP NNP , NNP , VBD PRP VBD CD CD NNS , CC IN CD NN , IN PRP$ JJ NN IN DT JJ NN IN $ CD DT NN , CC $ CD CD . DT NN VBZ NNP NNP NNP NNP POS NN TO CD NN IN CD NN CC MD VB VB NNP NNP IN VBG DT NN IN DT NNS NN . NNP NNP RB VBZ VBG TO VB NNP NNP IN NN IN NNP NNP , DT NNP NN . DT NN VBN IN CD NN DT NNP NN IN PRP MD VB DT NN NN TO VB NNS `` TO VB NN NN , '' VBG DT JJ NN IN DT NN . IN NNP NNP NNP NNP JJ NN NN , NNP NNS VBD CD NNS TO VB IN $ CD . NNP NNP VBD TO VB WP VBD DT JJ NNS , VBG PRP VBP VBN RB TO VB NNS WRB `` DT NN VBZ IN DT NN . '' PRP VBD , `` DT VBZ NN TO VB IN NNP NNP CC PRP VBZ RB VBN , RB , TO VB DT NN JJ . '' CC NNP NNP VBD DT NN , CC DT JJ NN VBN , VBP IN NNP NNP VBZ VBG JJ . PAD PAD PAD PAD PAD PAD PAD PAD PAD PAD PAD PAD PAD PAD PAD PAD PAD PAD PAD PAD PAD PAD PAD PAD PAD PAD PAD PAD PAD PAD PAD PAD PAD PAD PAD PAD PAD PAD PAD PAD PAD PAD PAD PAD PAD PAD PAD PAD PAD PAD PAD PAD PAD PAD PAD PAD PAD PAD PAD PAD PAD PAD PAD PAD PAD PAD PAD PAD PAD PAD PAD PAD PAD PAD PAD PAD PAD PAD PAD PAD PAD PAD PAD PAD PAD PAD PAD PAD PAD PAD PAD PAD PAD PAD PAD PAD PAD PAD PAD PAD PAD PAD PAD PAD PAD PAD PAD PAD PAD PAD PAD PAD PAD PAD PAD PAD PAD PAD PAD PAD PAD PAD PAD PAD PAD PAD PAD PAD PAD PAD PAD PAD PAD PAD PAD PAD PAD PAD PAD PAD PAD PAD PAD PAD PAD PAD PAD PAD PAD PAD PAD PAD PAD PAD PAD PAD PAD PAD PAD PAD PAD PAD PAD PAD PAD PAD PAD PAD PAD PAD PAD PAD PAD PAD PAD PAD PAD PAD PAD PAD PAD PAD PAD PAD PAD PAD PAD PAD PAD PAD PAD PAD PAD PAD PAD PAD PAD PAD PAD PAD PAD PAD PAD PAD PAD PAD PAD PAD PAD PAD PAD PAD PAD PAD PAD PAD PAD PAD PAD PAD PAD PAD PAD PAD PAD PAD PAD PAD PAD PAD PAD PAD PAD PAD PAD PAD PAD PAD PAD PAD PAD PAD PAD PAD PAD PAD PAD PAD PAD PAD PAD PAD PAD PAD PAD PAD PAD PAD PAD PAD PAD PAD PAD PAD PAD PAD PAD PAD PAD PAD PAD PAD PAD PAD PAD PAD PAD PAD PAD PAD PAD PAD PAD PAD PAD PAD PAD PAD PAD PAD PAD PAD PAD PAD PAD PAD PAD PAD PAD PAD PAD PAD PAD PAD PAD PAD PAD PAD PAD PAD PAD PAD PAD PAD PAD PAD PAD PAD PAD PAD PAD PAD PAD PAD PAD PAD PAD PAD PAD PAD PAD PAD PAD PAD PAD PAD PAD PAD PAD PAD PAD PAD PAD PAD PAD PAD PAD PAD PAD PAD PAD PAD PAD PAD PAD PAD PAD PAD PAD PAD PAD PAD PAD PAD PAD PAD PAD PAD PAD PAD PAD PAD PAD PAD PAD PAD PAD PAD PAD PAD PAD PAD PAD PAD PAD PAD PAD PAD PAD PAD PAD PAD PAD PAD PAD PAD PAD PAD PAD PAD PAD PAD PAD PAD PAD PAD PAD PAD PAD PAD PAD PAD PAD PAD PAD PAD PAD PAD PAD PAD PAD PAD PAD PAD PAD PAD PAD PAD PAD PAD PAD PAD PAD PAD PAD PAD PAD PAD PAD PAD PAD PAD PAD PAD PAD PAD PAD PAD PAD PAD PAD PAD PAD PAD PAD PAD PAD PAD PAD PAD PAD PAD PAD PAD PAD PAD PAD PAD PAD PAD PAD PAD PAD PAD PAD PAD PAD PAD PAD PAD PAD PAD PAD PAD PAD PAD PAD PAD PAD PAD PAD PAD PAD PAD PAD PAD PAD PAD PAD PAD PAD PAD PAD PAD PAD PAD PAD PAD PAD PAD PAD PAD PAD PAD PAD PAD PAD PAD PAD PAD PAD PAD PAD PAD PAD PAD PAD PAD PAD PAD PAD PAD PAD PAD PAD PAD PAD PAD PAD PAD PAD PAD PAD PAD PAD PAD PAD PAD PAD PAD PAD PAD PAD PAD PAD PAD PAD PAD PAD PAD PAD PAD PAD PAD PAD PAD PAD PAD PAD PAD PAD PAD PAD PAD PAD PAD PAD PAD PAD PAD PAD PAD PAD PAD PAD PAD PAD PAD PAD PAD PAD PAD PAD PAD PAD PAD PAD PAD PAD PAD PAD PAD PAD PAD PAD PAD PAD PAD PAD PAD PAD PAD PAD PAD PAD PAD PAD PAD PAD PAD PAD PAD PAD PAD PAD PAD PAD PAD PAD PAD PAD PAD PAD PAD PAD PAD PAD PAD PAD PAD PAD PAD PAD PAD PAD PAD PAD PAD PAD PAD PAD PAD PAD PAD PAD PAD PAD PAD PAD PAD PAD PAD PAD PAD PAD PAD PAD PAD PAD PAD PAD PAD PAD PAD PAD PAD PAD PAD PAD PAD PAD PAD PAD PAD PAD PAD PAD PAD PAD PAD PAD PAD PAD PAD PAD PAD PAD PAD PAD PAD PAD PAD PAD PAD PAD PAD PAD PAD PAD PAD PAD PAD PAD PAD PAD PAD PAD PAD PAD PAD PAD PAD PAD PAD PAD PAD PAD PAD PAD PAD PAD PAD PAD PAD PAD PAD PAD PAD PAD PAD PAD PAD PAD PAD PAD PAD PAD PAD PAD PAD PAD PAD PAD PAD PAD PAD PAD PAD PAD PAD PAD PAD PAD PAD PAD PAD PAD PAD PAD PAD PAD PAD PAD PAD PAD PAD PAD PAD PAD PAD PAD PAD PAD PAD PAD PAD PAD PAD PAD PAD PAD PAD PAD PAD PAD PAD PAD PAD PAD PAD PAD PAD PAD PAD PAD PAD PAD PAD PAD PAD PAD PAD PAD PAD PAD PAD PAD PAD PAD PAD PAD PAD PAD PAD PAD PAD PAD PAD PAD PAD PAD PAD PAD PAD PAD PAD PAD PAD PAD PAD PAD PAD PAD PAD PAD PAD PAD PAD PAD PAD PAD PAD PAD PAD PAD PAD PAD PAD PAD PAD PAD PAD PAD PAD PAD PAD PAD PAD PAD PAD PAD PAD PAD PAD PAD PAD PAD PAD PAD PAD PAD PAD PAD PAD PAD PAD PAD PAD PAD PAD PAD PAD PAD PAD PAD PAD PAD PAD PAD PAD PAD PAD PAD PAD PAD PAD PAD PAD PAD PAD PAD PAD PAD PAD PAD PAD PAD PAD PAD PAD PAD PAD PAD PAD PAD PAD PAD PAD PAD PAD PAD PAD PAD PAD PAD PAD PAD PAD PAD PAD PAD PAD PAD PAD PAD PAD PAD PAD PAD PAD PAD PAD PAD PAD PAD PAD PAD PAD PAD PAD PAD PAD PAD PAD PAD PAD PAD PAD PAD PAD PAD PAD PAD PAD PAD PAD PAD PAD PAD PAD PAD PAD PAD PAD PAD PAD PAD PAD PAD PAD PAD PAD PAD PAD PAD PAD PAD PAD PAD PAD PAD PAD PAD PAD PAD PAD PAD PAD PAD PAD PAD PAD PAD PAD PAD PAD PAD PAD PAD PAD PAD PAD PAD PAD PAD PAD PAD PAD PAD PAD PAD PAD PAD PAD PAD PAD PAD PAD PAD PAD PAD PAD PAD PAD PAD PAD PAD PAD PAD PAD PAD PAD PAD PAD PAD PAD PAD PAD PAD PAD PAD PAD PAD PAD PAD PAD PAD PAD PAD PAD PAD PAD PAD PAD PAD PAD PAD PAD PAD PAD PAD PAD PAD PAD PAD PAD PAD PAD PAD PAD PAD PAD PAD PAD PAD PAD PAD PAD PAD PAD PAD PAD PAD PAD PAD PAD PAD PAD PAD PAD PAD PAD PAD PAD PAD PAD PAD PAD PAD PAD PAD PAD PAD PAD PAD PAD PAD PAD PAD PAD PAD PAD PAD PAD PAD PAD PAD PAD PAD PAD PAD PAD PAD PAD PAD PAD PAD PAD PAD PAD PAD PAD PAD PAD PAD PAD PAD PAD PAD PAD PAD PAD PAD PAD PAD PAD PAD PAD PAD PAD PAD PAD PAD PAD PAD PAD PAD PAD PAD PAD PAD PAD PAD PAD PAD PAD PAD PAD PAD PAD PAD PAD PAD PAD PAD PAD PAD PAD PAD PAD PAD PAD PAD PAD PAD PAD PAD PAD PAD PAD PAD PAD PAD PAD PAD PAD PAD PAD PAD PAD PAD PAD PAD PAD PAD PAD PAD PAD PAD PAD PAD PAD PAD PAD PAD PAD PAD PAD PAD PAD PAD PAD PAD PAD PAD PAD PAD PAD PAD PAD PAD PAD PAD PAD PAD PAD PAD PAD PAD PAD PAD PAD PAD PAD PAD PAD PAD PAD PAD PAD PAD PAD\n"
          ],
          "name": "stdout"
        }
      ]
    },
    {
      "cell_type": "markdown",
      "metadata": {
        "id": "LOdIQXm8ybp-"
      },
      "source": [
        "AT SOME POINT, WE GOT THIS EXAMPLE:\n",
        "\n",
        "\"Intelogic Trace Inc. , San Antonio , Texas , said it bought 2.7 million shares , or **about** 18 % , of [...]\"\n",
        "\n",
        "<i>Predicted tag:\t NNP NNP NNP , NNP NNP , NNP , VBD PRP VBD CD CD NNS , CC **RB** CD NN , IN </i>[...]\n",
        "\n",
        "<i>True tag:\t NNP NNP NNP , NNP NNP , NNP , VBD PRP VBD CD CD NNS , CC **IN** CD NN , IN </i>[...]\n",
        "\n",
        "WE CAN SEE THAT \"about\" GETS MISTAKEN...\n",
        "\n",
        "WE HAD A LOOK TO **'RB'** AND **'IN'** TAGGING:"
      ]
    },
    {
      "cell_type": "code",
      "metadata": {
        "colab": {
          "base_uri": "https://localhost:8080/"
        },
        "id": "562jF087xbom",
        "outputId": "f37bcdf1-3762-477b-fdf0-20b62603d178"
      },
      "source": [
        "print(df_w.loc[df_w['tag']=='RB', 'word'].head())\n",
        "print(df_w.loc[df_w['tag']=='IN', 'word'].head())"
      ],
      "execution_count": null,
      "outputs": [
        {
          "output_type": "stream",
          "text": [
            "22      too\n",
            "29      far\n",
            "60     also\n",
            "103    well\n",
            "217     n't\n",
            "Name: word, dtype: object\n",
            "5      out\n",
            "6       of\n",
            "9      for\n",
            "18    that\n",
            "30      in\n",
            "Name: word, dtype: object\n"
          ],
          "name": "stdout"
        }
      ]
    },
    {
      "cell_type": "markdown",
      "metadata": {
        "id": "zxLO9b2NzXoj"
      },
      "source": [
        "HONESTLY... WE ARE NOT SO SURE OUR MODEL IS MISTAKING! ;)"
      ]
    }
  ]
}